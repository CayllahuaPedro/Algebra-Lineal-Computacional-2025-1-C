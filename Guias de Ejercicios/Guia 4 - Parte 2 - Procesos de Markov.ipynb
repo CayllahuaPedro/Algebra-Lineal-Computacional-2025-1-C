{
 "cells": [
  {
   "cell_type": "code",
   "execution_count": 1,
   "id": "e7fb37a3",
   "metadata": {},
   "outputs": [],
   "source": [
    "# Ejercicio 14\n",
    "\n",
    "import numpy as np"
   ]
  },
  {
   "cell_type": "code",
   "execution_count": 3,
   "id": "c284bfb5",
   "metadata": {},
   "outputs": [
    {
     "data": {
      "text/plain": [
       "array([[0.25, 0.5 , 0.5 , 0.5 ],\n",
       "       [0.25, 0.5 , 0.  , 0.  ],\n",
       "       [0.25, 0.  , 0.5 , 0.  ],\n",
       "       [0.25, 0.  , 0.  , 0.5 ]])"
      ]
     },
     "execution_count": 3,
     "metadata": {},
     "output_type": "execute_result"
    }
   ],
   "source": [
    "P = np.array([[1/4, 1/2, 1/2, 1/2],\n",
    "              [1/4, 1/2,   0,   0],\n",
    "              [1/4,   0, 1/2,   0],\n",
    "              [1/4,   0,   0, 1/2]])\n",
    "P"
   ]
  },
  {
   "cell_type": "code",
   "execution_count": 8,
   "id": "91581f3f",
   "metadata": {},
   "outputs": [
    {
     "data": {
      "text/plain": [
       "array([[0.4, 0.4, 0.4, 0.4],\n",
       "       [0.2, 0.2, 0.2, 0.2],\n",
       "       [0.2, 0.2, 0.2, 0.2],\n",
       "       [0.2, 0.2, 0.2, 0.2]])"
      ]
     },
     "execution_count": 8,
     "metadata": {},
     "output_type": "execute_result"
    }
   ],
   "source": [
    "Plim = P\n",
    "for i in range(30):\n",
    "    Plim = Plim @ P\n",
    "Plim"
   ]
  },
  {
   "cell_type": "code",
   "execution_count": 124,
   "id": "3c0159d5",
   "metadata": {},
   "outputs": [],
   "source": [
    "# Ejercicio 15: Caminata aleatoria\n",
    "\n",
    "def crearMatrizTransicion(p=0.5, n=100):\n",
    "    # Creo matriz de transicion como matriz con diagonales que envuelven a la principal\n",
    "    # con probabilidad p en la inferior (volver un paso atrás hacia el bar)\n",
    "    # y 1-p en la superior (avanzar 1 paso hacia la casa)\n",
    "    P = np.eye(n + 1, k=-1) * p + np.eye(n + 1, k=1) * (1 - p)\n",
    "    # Necesito agregar los valores terminales en la primera y ultima columna/fila\n",
    "    P[:, 0] = 0 # Borro primera columna\n",
    "    P[:, n] = 0 # Borro ultima columna\n",
    "    P[0, 0] = 1\n",
    "    P[n, n] = 1\n",
    "\n",
    "    return P"
   ]
  },
  {
   "cell_type": "code",
   "execution_count": 125,
   "id": "e826a14e",
   "metadata": {},
   "outputs": [
    {
     "data": {
      "text/plain": [
       "array([[1.  , 0.25, 0.  , 0.  , 0.  , 0.  ],\n",
       "       [0.  , 0.  , 0.25, 0.  , 0.  , 0.  ],\n",
       "       [0.  , 0.75, 0.  , 0.25, 0.  , 0.  ],\n",
       "       [0.  , 0.  , 0.75, 0.  , 0.25, 0.  ],\n",
       "       [0.  , 0.  , 0.  , 0.75, 0.  , 0.  ],\n",
       "       [0.  , 0.  , 0.  , 0.  , 0.75, 1.  ]])"
      ]
     },
     "execution_count": 125,
     "metadata": {},
     "output_type": "execute_result"
    }
   ],
   "source": [
    "p = 0.75 # Probabilidad de dar un paso hacia su casa\n",
    "n = 5\n",
    "crearMatrizTransicion(p, n)"
   ]
  },
  {
   "cell_type": "code",
   "execution_count": 221,
   "id": "73b7ad1c",
   "metadata": {},
   "outputs": [],
   "source": [
    "import matplotlib.pyplot as plt"
   ]
  },
  {
   "cell_type": "code",
   "execution_count": 127,
   "id": "b1d4fd64",
   "metadata": {},
   "outputs": [
    {
     "data": {
      "text/plain": [
       "array([[1. , 0.5, 0. , 0. ],\n",
       "       [0. , 0. , 0.5, 0. ],\n",
       "       [0. , 0.5, 0. , 0.5],\n",
       "       [0. , 0. , 0.5, 0. ]])"
      ]
     },
     "execution_count": 127,
     "metadata": {},
     "output_type": "execute_result"
    }
   ],
   "source": [
    "# b)\n",
    "p = 0.5 # Probabilidad de dar un paso hacia su casa\n",
    "n = 20\n",
    "A = crearMatrizTransicion(p, n)\n",
    "A[:4, :4]"
   ]
  },
  {
   "cell_type": "code",
   "execution_count": 135,
   "id": "fe92a8eb",
   "metadata": {},
   "outputs": [
    {
     "data": {
      "text/plain": [
       "array([ 1.   ,  1.   , -0.988, -0.951, -0.891, -0.809, -0.707, -0.588,\n",
       "       -0.454, -0.309, -0.156,  0.156,  0.309,  0.988,  0.951,  0.891,\n",
       "        0.809,  0.707,  0.454,  0.588,  0.   ])"
      ]
     },
     "execution_count": 135,
     "metadata": {},
     "output_type": "execute_result"
    }
   ],
   "source": [
    "# Eigenvalues y eigenvectors\n",
    "eigvals, eigvecs = np.linalg.eig(A)\n",
    "eigvals.round(3)"
   ]
  },
  {
   "cell_type": "code",
   "execution_count": 263,
   "id": "fe2219f5",
   "metadata": {},
   "outputs": [
    {
     "data": {
      "text/plain": [
       "array([0., 0., 0., 0., 0., 0., 0., 0., 0., 0., 1., 0., 0., 0., 0., 0., 0.,\n",
       "       0., 0., 0., 0.])"
      ]
     },
     "execution_count": 263,
     "metadata": {},
     "output_type": "execute_result"
    }
   ],
   "source": [
    "#v0 = np.ones(n + 1) / (n + 1)\n",
    "v0 = np.zeros(n + 1)\n",
    "v0[n//2] = 1\n",
    "v0"
   ]
  },
  {
   "cell_type": "code",
   "execution_count": 264,
   "id": "7674d2c8",
   "metadata": {},
   "outputs": [],
   "source": [
    "v = v0\n",
    "vs = [v]"
   ]
  },
  {
   "cell_type": "code",
   "execution_count": 307,
   "id": "16fc7284",
   "metadata": {},
   "outputs": [
    {
     "name": "stdout",
     "output_type": "stream",
     "text": [
      "[0.453 0.    0.005 0.    0.009 0.    0.012 0.    0.014 0.    0.015 0.\n",
      " 0.014 0.    0.012 0.    0.009 0.    0.005 0.    0.453]\n"
     ]
    },
    {
     "data": {
      "application/vnd.plotly.v1+json": {
       "config": {
        "plotlyServerURL": "https://plot.ly"
       },
       "data": [
        {
         "name": "Distribución",
         "type": "bar",
         "x": [
          0,
          1,
          2,
          3,
          4,
          5,
          6,
          7,
          8,
          9,
          10,
          11,
          12,
          13,
          14,
          15,
          16,
          17,
          18,
          19,
          20
         ],
         "xaxis": "x",
         "y": [
          0.45317560558362546,
          0,
          0.004583497965957474,
          0,
          0.00871833121940829,
          0,
          0.011999753473043537,
          0,
          0.014106556250879098,
          0,
          0.014832511014172123,
          0,
          0.014106556250879098,
          0,
          0.011999753473043537,
          0,
          0.00871833121940829,
          0,
          0.004583497965957474,
          0,
          0.45317560558362546
         ],
         "yaxis": "y"
        }
       ],
       "layout": {
        "annotations": [
         {
          "font": {
           "size": 16
          },
          "showarrow": false,
          "text": "D",
          "x": 0.5,
          "xanchor": "center",
          "xref": "paper",
          "y": 1,
          "yanchor": "bottom",
          "yref": "paper"
         }
        ],
        "height": 600,
        "template": {
         "data": {
          "bar": [
           {
            "error_x": {
             "color": "#2a3f5f"
            },
            "error_y": {
             "color": "#2a3f5f"
            },
            "marker": {
             "line": {
              "color": "#E5ECF6",
              "width": 0.5
             }
            },
            "type": "bar"
           }
          ],
          "barpolar": [
           {
            "marker": {
             "line": {
              "color": "#E5ECF6",
              "width": 0.5
             }
            },
            "type": "barpolar"
           }
          ],
          "carpet": [
           {
            "aaxis": {
             "endlinecolor": "#2a3f5f",
             "gridcolor": "white",
             "linecolor": "white",
             "minorgridcolor": "white",
             "startlinecolor": "#2a3f5f"
            },
            "baxis": {
             "endlinecolor": "#2a3f5f",
             "gridcolor": "white",
             "linecolor": "white",
             "minorgridcolor": "white",
             "startlinecolor": "#2a3f5f"
            },
            "type": "carpet"
           }
          ],
          "choropleth": [
           {
            "colorbar": {
             "outlinewidth": 0,
             "ticks": ""
            },
            "type": "choropleth"
           }
          ],
          "contour": [
           {
            "colorbar": {
             "outlinewidth": 0,
             "ticks": ""
            },
            "colorscale": [
             [
              0,
              "#0d0887"
             ],
             [
              0.1111111111111111,
              "#46039f"
             ],
             [
              0.2222222222222222,
              "#7201a8"
             ],
             [
              0.3333333333333333,
              "#9c179e"
             ],
             [
              0.4444444444444444,
              "#bd3786"
             ],
             [
              0.5555555555555556,
              "#d8576b"
             ],
             [
              0.6666666666666666,
              "#ed7953"
             ],
             [
              0.7777777777777778,
              "#fb9f3a"
             ],
             [
              0.8888888888888888,
              "#fdca26"
             ],
             [
              1,
              "#f0f921"
             ]
            ],
            "type": "contour"
           }
          ],
          "contourcarpet": [
           {
            "colorbar": {
             "outlinewidth": 0,
             "ticks": ""
            },
            "type": "contourcarpet"
           }
          ],
          "heatmap": [
           {
            "colorbar": {
             "outlinewidth": 0,
             "ticks": ""
            },
            "colorscale": [
             [
              0,
              "#0d0887"
             ],
             [
              0.1111111111111111,
              "#46039f"
             ],
             [
              0.2222222222222222,
              "#7201a8"
             ],
             [
              0.3333333333333333,
              "#9c179e"
             ],
             [
              0.4444444444444444,
              "#bd3786"
             ],
             [
              0.5555555555555556,
              "#d8576b"
             ],
             [
              0.6666666666666666,
              "#ed7953"
             ],
             [
              0.7777777777777778,
              "#fb9f3a"
             ],
             [
              0.8888888888888888,
              "#fdca26"
             ],
             [
              1,
              "#f0f921"
             ]
            ],
            "type": "heatmap"
           }
          ],
          "heatmapgl": [
           {
            "colorbar": {
             "outlinewidth": 0,
             "ticks": ""
            },
            "colorscale": [
             [
              0,
              "#0d0887"
             ],
             [
              0.1111111111111111,
              "#46039f"
             ],
             [
              0.2222222222222222,
              "#7201a8"
             ],
             [
              0.3333333333333333,
              "#9c179e"
             ],
             [
              0.4444444444444444,
              "#bd3786"
             ],
             [
              0.5555555555555556,
              "#d8576b"
             ],
             [
              0.6666666666666666,
              "#ed7953"
             ],
             [
              0.7777777777777778,
              "#fb9f3a"
             ],
             [
              0.8888888888888888,
              "#fdca26"
             ],
             [
              1,
              "#f0f921"
             ]
            ],
            "type": "heatmapgl"
           }
          ],
          "histogram": [
           {
            "marker": {
             "colorbar": {
              "outlinewidth": 0,
              "ticks": ""
             }
            },
            "type": "histogram"
           }
          ],
          "histogram2d": [
           {
            "colorbar": {
             "outlinewidth": 0,
             "ticks": ""
            },
            "colorscale": [
             [
              0,
              "#0d0887"
             ],
             [
              0.1111111111111111,
              "#46039f"
             ],
             [
              0.2222222222222222,
              "#7201a8"
             ],
             [
              0.3333333333333333,
              "#9c179e"
             ],
             [
              0.4444444444444444,
              "#bd3786"
             ],
             [
              0.5555555555555556,
              "#d8576b"
             ],
             [
              0.6666666666666666,
              "#ed7953"
             ],
             [
              0.7777777777777778,
              "#fb9f3a"
             ],
             [
              0.8888888888888888,
              "#fdca26"
             ],
             [
              1,
              "#f0f921"
             ]
            ],
            "type": "histogram2d"
           }
          ],
          "histogram2dcontour": [
           {
            "colorbar": {
             "outlinewidth": 0,
             "ticks": ""
            },
            "colorscale": [
             [
              0,
              "#0d0887"
             ],
             [
              0.1111111111111111,
              "#46039f"
             ],
             [
              0.2222222222222222,
              "#7201a8"
             ],
             [
              0.3333333333333333,
              "#9c179e"
             ],
             [
              0.4444444444444444,
              "#bd3786"
             ],
             [
              0.5555555555555556,
              "#d8576b"
             ],
             [
              0.6666666666666666,
              "#ed7953"
             ],
             [
              0.7777777777777778,
              "#fb9f3a"
             ],
             [
              0.8888888888888888,
              "#fdca26"
             ],
             [
              1,
              "#f0f921"
             ]
            ],
            "type": "histogram2dcontour"
           }
          ],
          "mesh3d": [
           {
            "colorbar": {
             "outlinewidth": 0,
             "ticks": ""
            },
            "type": "mesh3d"
           }
          ],
          "parcoords": [
           {
            "line": {
             "colorbar": {
              "outlinewidth": 0,
              "ticks": ""
             }
            },
            "type": "parcoords"
           }
          ],
          "pie": [
           {
            "automargin": true,
            "type": "pie"
           }
          ],
          "scatter": [
           {
            "marker": {
             "colorbar": {
              "outlinewidth": 0,
              "ticks": ""
             }
            },
            "type": "scatter"
           }
          ],
          "scatter3d": [
           {
            "line": {
             "colorbar": {
              "outlinewidth": 0,
              "ticks": ""
             }
            },
            "marker": {
             "colorbar": {
              "outlinewidth": 0,
              "ticks": ""
             }
            },
            "type": "scatter3d"
           }
          ],
          "scattercarpet": [
           {
            "marker": {
             "colorbar": {
              "outlinewidth": 0,
              "ticks": ""
             }
            },
            "type": "scattercarpet"
           }
          ],
          "scattergeo": [
           {
            "marker": {
             "colorbar": {
              "outlinewidth": 0,
              "ticks": ""
             }
            },
            "type": "scattergeo"
           }
          ],
          "scattergl": [
           {
            "marker": {
             "colorbar": {
              "outlinewidth": 0,
              "ticks": ""
             }
            },
            "type": "scattergl"
           }
          ],
          "scattermapbox": [
           {
            "marker": {
             "colorbar": {
              "outlinewidth": 0,
              "ticks": ""
             }
            },
            "type": "scattermapbox"
           }
          ],
          "scatterpolar": [
           {
            "marker": {
             "colorbar": {
              "outlinewidth": 0,
              "ticks": ""
             }
            },
            "type": "scatterpolar"
           }
          ],
          "scatterpolargl": [
           {
            "marker": {
             "colorbar": {
              "outlinewidth": 0,
              "ticks": ""
             }
            },
            "type": "scatterpolargl"
           }
          ],
          "scatterternary": [
           {
            "marker": {
             "colorbar": {
              "outlinewidth": 0,
              "ticks": ""
             }
            },
            "type": "scatterternary"
           }
          ],
          "surface": [
           {
            "colorbar": {
             "outlinewidth": 0,
             "ticks": ""
            },
            "colorscale": [
             [
              0,
              "#0d0887"
             ],
             [
              0.1111111111111111,
              "#46039f"
             ],
             [
              0.2222222222222222,
              "#7201a8"
             ],
             [
              0.3333333333333333,
              "#9c179e"
             ],
             [
              0.4444444444444444,
              "#bd3786"
             ],
             [
              0.5555555555555556,
              "#d8576b"
             ],
             [
              0.6666666666666666,
              "#ed7953"
             ],
             [
              0.7777777777777778,
              "#fb9f3a"
             ],
             [
              0.8888888888888888,
              "#fdca26"
             ],
             [
              1,
              "#f0f921"
             ]
            ],
            "type": "surface"
           }
          ],
          "table": [
           {
            "cells": {
             "fill": {
              "color": "#EBF0F8"
             },
             "line": {
              "color": "white"
             }
            },
            "header": {
             "fill": {
              "color": "#C8D4E3"
             },
             "line": {
              "color": "white"
             }
            },
            "type": "table"
           }
          ]
         },
         "layout": {
          "annotationdefaults": {
           "arrowcolor": "#2a3f5f",
           "arrowhead": 0,
           "arrowwidth": 1
          },
          "autotypenumbers": "strict",
          "coloraxis": {
           "colorbar": {
            "outlinewidth": 0,
            "ticks": ""
           }
          },
          "colorscale": {
           "diverging": [
            [
             0,
             "#8e0152"
            ],
            [
             0.1,
             "#c51b7d"
            ],
            [
             0.2,
             "#de77ae"
            ],
            [
             0.3,
             "#f1b6da"
            ],
            [
             0.4,
             "#fde0ef"
            ],
            [
             0.5,
             "#f7f7f7"
            ],
            [
             0.6,
             "#e6f5d0"
            ],
            [
             0.7,
             "#b8e186"
            ],
            [
             0.8,
             "#7fbc41"
            ],
            [
             0.9,
             "#4d9221"
            ],
            [
             1,
             "#276419"
            ]
           ],
           "sequential": [
            [
             0,
             "#0d0887"
            ],
            [
             0.1111111111111111,
             "#46039f"
            ],
            [
             0.2222222222222222,
             "#7201a8"
            ],
            [
             0.3333333333333333,
             "#9c179e"
            ],
            [
             0.4444444444444444,
             "#bd3786"
            ],
            [
             0.5555555555555556,
             "#d8576b"
            ],
            [
             0.6666666666666666,
             "#ed7953"
            ],
            [
             0.7777777777777778,
             "#fb9f3a"
            ],
            [
             0.8888888888888888,
             "#fdca26"
            ],
            [
             1,
             "#f0f921"
            ]
           ],
           "sequentialminus": [
            [
             0,
             "#0d0887"
            ],
            [
             0.1111111111111111,
             "#46039f"
            ],
            [
             0.2222222222222222,
             "#7201a8"
            ],
            [
             0.3333333333333333,
             "#9c179e"
            ],
            [
             0.4444444444444444,
             "#bd3786"
            ],
            [
             0.5555555555555556,
             "#d8576b"
            ],
            [
             0.6666666666666666,
             "#ed7953"
            ],
            [
             0.7777777777777778,
             "#fb9f3a"
            ],
            [
             0.8888888888888888,
             "#fdca26"
            ],
            [
             1,
             "#f0f921"
            ]
           ]
          },
          "colorway": [
           "#636efa",
           "#EF553B",
           "#00cc96",
           "#ab63fa",
           "#FFA15A",
           "#19d3f3",
           "#FF6692",
           "#B6E880",
           "#FF97FF",
           "#FECB52"
          ],
          "font": {
           "color": "#2a3f5f"
          },
          "geo": {
           "bgcolor": "white",
           "lakecolor": "white",
           "landcolor": "#E5ECF6",
           "showlakes": true,
           "showland": true,
           "subunitcolor": "white"
          },
          "hoverlabel": {
           "align": "left"
          },
          "hovermode": "closest",
          "mapbox": {
           "style": "light"
          },
          "paper_bgcolor": "white",
          "plot_bgcolor": "#E5ECF6",
          "polar": {
           "angularaxis": {
            "gridcolor": "white",
            "linecolor": "white",
            "ticks": ""
           },
           "bgcolor": "#E5ECF6",
           "radialaxis": {
            "gridcolor": "white",
            "linecolor": "white",
            "ticks": ""
           }
          },
          "scene": {
           "xaxis": {
            "backgroundcolor": "#E5ECF6",
            "gridcolor": "white",
            "gridwidth": 2,
            "linecolor": "white",
            "showbackground": true,
            "ticks": "",
            "zerolinecolor": "white"
           },
           "yaxis": {
            "backgroundcolor": "#E5ECF6",
            "gridcolor": "white",
            "gridwidth": 2,
            "linecolor": "white",
            "showbackground": true,
            "ticks": "",
            "zerolinecolor": "white"
           },
           "zaxis": {
            "backgroundcolor": "#E5ECF6",
            "gridcolor": "white",
            "gridwidth": 2,
            "linecolor": "white",
            "showbackground": true,
            "ticks": "",
            "zerolinecolor": "white"
           }
          },
          "shapedefaults": {
           "line": {
            "color": "#2a3f5f"
           }
          },
          "ternary": {
           "aaxis": {
            "gridcolor": "white",
            "linecolor": "white",
            "ticks": ""
           },
           "baxis": {
            "gridcolor": "white",
            "linecolor": "white",
            "ticks": ""
           },
           "bgcolor": "#E5ECF6",
           "caxis": {
            "gridcolor": "white",
            "linecolor": "white",
            "ticks": ""
           }
          },
          "title": {
           "x": 0.05
          },
          "xaxis": {
           "automargin": true,
           "gridcolor": "white",
           "linecolor": "white",
           "ticks": "",
           "title": {
            "standoff": 15
           },
           "zerolinecolor": "white",
           "zerolinewidth": 2
          },
          "yaxis": {
           "automargin": true,
           "gridcolor": "white",
           "linecolor": "white",
           "ticks": "",
           "title": {
            "standoff": 15
           },
           "zerolinecolor": "white",
           "zerolinewidth": 2
          }
         }
        },
        "title": {
         "text": "Caminata aleatoria"
        },
        "width": 800,
        "xaxis": {
         "anchor": "y",
         "domain": [
          0,
          1
         ]
        },
        "yaxis": {
         "anchor": "x",
         "domain": [
          0,
          1
         ]
        }
       }
      }
     },
     "metadata": {},
     "output_type": "display_data"
    }
   ],
   "source": [
    "for i in range(100):\n",
    "    v = A @ v\n",
    "    vs.append(v)\n",
    "print(v.round(3))\n",
    "# Plot animation of distribution of array vs using plotly\n",
    "import plotly.graph_objects as go\n",
    "from plotly.subplots import make_subplots\n",
    "import numpy as np\n",
    "\n",
    "fig = make_subplots(rows=1, cols=1, subplot_titles=(\"Distribución\"))\n",
    "\n",
    "fig.add_trace(\n",
    "    go.Bar(x=np.arange(n + 1), y=v, name=\"Distribución\"),\n",
    "    row=1, col=1\n",
    ")\n",
    "fig.update_layout(height=600, width=800, title_text=\"Caminata aleatoria\")\n",
    "fig.show()\n",
    "\n",
    "\n"
   ]
  },
  {
   "cell_type": "code",
   "execution_count": 306,
   "id": "71cb4019",
   "metadata": {},
   "outputs": [
    {
     "data": {
      "application/vnd.plotly.v1+json": {
       "config": {
        "plotlyServerURL": "https://plot.ly"
       },
       "data": [
        {
         "name": "Time Step 0",
         "type": "bar",
         "x": [
          0,
          1,
          2,
          3,
          4,
          5,
          6,
          7,
          8,
          9,
          10,
          11,
          12,
          13,
          14,
          15,
          16,
          17,
          18,
          19,
          20
         ],
         "xaxis": "x",
         "y": [
          0,
          0,
          0,
          0,
          0,
          0,
          0,
          0,
          0,
          0,
          1,
          0,
          0,
          0,
          0,
          0,
          0,
          0,
          0,
          0,
          0
         ],
         "yaxis": "y"
        }
       ],
       "frames": [
        {
         "data": [
          {
           "name": "Time Step 0",
           "type": "bar",
           "x": [
            0,
            1,
            2,
            3,
            4,
            5,
            6,
            7,
            8,
            9,
            10,
            11,
            12,
            13,
            14,
            15,
            16,
            17,
            18,
            19,
            20
           ],
           "y": [
            0,
            0,
            0,
            0,
            0,
            0,
            0,
            0,
            0,
            0,
            1,
            0,
            0,
            0,
            0,
            0,
            0,
            0,
            0,
            0,
            0
           ]
          }
         ],
         "name": "Time Step 0"
        },
        {
         "data": [
          {
           "name": "Time Step 1",
           "type": "bar",
           "x": [
            0,
            1,
            2,
            3,
            4,
            5,
            6,
            7,
            8,
            9,
            10,
            11,
            12,
            13,
            14,
            15,
            16,
            17,
            18,
            19,
            20
           ],
           "y": [
            0,
            0,
            0,
            0,
            0,
            0,
            0,
            0,
            0,
            0.5,
            0,
            0.5,
            0,
            0,
            0,
            0,
            0,
            0,
            0,
            0,
            0
           ]
          }
         ],
         "name": "Time Step 1"
        },
        {
         "data": [
          {
           "name": "Time Step 2",
           "type": "bar",
           "x": [
            0,
            1,
            2,
            3,
            4,
            5,
            6,
            7,
            8,
            9,
            10,
            11,
            12,
            13,
            14,
            15,
            16,
            17,
            18,
            19,
            20
           ],
           "y": [
            0,
            0,
            0,
            0,
            0,
            0,
            0,
            0,
            0.25,
            0,
            0.5,
            0,
            0.25,
            0,
            0,
            0,
            0,
            0,
            0,
            0,
            0
           ]
          }
         ],
         "name": "Time Step 2"
        },
        {
         "data": [
          {
           "name": "Time Step 3",
           "type": "bar",
           "x": [
            0,
            1,
            2,
            3,
            4,
            5,
            6,
            7,
            8,
            9,
            10,
            11,
            12,
            13,
            14,
            15,
            16,
            17,
            18,
            19,
            20
           ],
           "y": [
            0,
            0,
            0,
            0,
            0,
            0,
            0,
            0.125,
            0,
            0.375,
            0,
            0.375,
            0,
            0.125,
            0,
            0,
            0,
            0,
            0,
            0,
            0
           ]
          }
         ],
         "name": "Time Step 3"
        },
        {
         "data": [
          {
           "name": "Time Step 4",
           "type": "bar",
           "x": [
            0,
            1,
            2,
            3,
            4,
            5,
            6,
            7,
            8,
            9,
            10,
            11,
            12,
            13,
            14,
            15,
            16,
            17,
            18,
            19,
            20
           ],
           "y": [
            0,
            0,
            0,
            0,
            0,
            0,
            0.0625,
            0,
            0.25,
            0,
            0.375,
            0,
            0.25,
            0,
            0.0625,
            0,
            0,
            0,
            0,
            0,
            0
           ]
          }
         ],
         "name": "Time Step 4"
        },
        {
         "data": [
          {
           "name": "Time Step 5",
           "type": "bar",
           "x": [
            0,
            1,
            2,
            3,
            4,
            5,
            6,
            7,
            8,
            9,
            10,
            11,
            12,
            13,
            14,
            15,
            16,
            17,
            18,
            19,
            20
           ],
           "y": [
            0,
            0,
            0,
            0,
            0,
            0.03125,
            0,
            0.15625,
            0,
            0.3125,
            0,
            0.3125,
            0,
            0.15625,
            0,
            0.03125,
            0,
            0,
            0,
            0,
            0
           ]
          }
         ],
         "name": "Time Step 5"
        },
        {
         "data": [
          {
           "name": "Time Step 6",
           "type": "bar",
           "x": [
            0,
            1,
            2,
            3,
            4,
            5,
            6,
            7,
            8,
            9,
            10,
            11,
            12,
            13,
            14,
            15,
            16,
            17,
            18,
            19,
            20
           ],
           "y": [
            0,
            0,
            0,
            0,
            0.015625,
            0,
            0.09375,
            0,
            0.234375,
            0,
            0.3125,
            0,
            0.234375,
            0,
            0.09375,
            0,
            0.015625,
            0,
            0,
            0,
            0
           ]
          }
         ],
         "name": "Time Step 6"
        },
        {
         "data": [
          {
           "name": "Time Step 7",
           "type": "bar",
           "x": [
            0,
            1,
            2,
            3,
            4,
            5,
            6,
            7,
            8,
            9,
            10,
            11,
            12,
            13,
            14,
            15,
            16,
            17,
            18,
            19,
            20
           ],
           "y": [
            0,
            0,
            0,
            0.0078125,
            0,
            0.0546875,
            0,
            0.1640625,
            0,
            0.2734375,
            0,
            0.2734375,
            0,
            0.1640625,
            0,
            0.0546875,
            0,
            0.0078125,
            0,
            0,
            0
           ]
          }
         ],
         "name": "Time Step 7"
        },
        {
         "data": [
          {
           "name": "Time Step 8",
           "type": "bar",
           "x": [
            0,
            1,
            2,
            3,
            4,
            5,
            6,
            7,
            8,
            9,
            10,
            11,
            12,
            13,
            14,
            15,
            16,
            17,
            18,
            19,
            20
           ],
           "y": [
            0,
            0,
            0.00390625,
            0,
            0.03125,
            0,
            0.109375,
            0,
            0.21875,
            0,
            0.2734375,
            0,
            0.21875,
            0,
            0.109375,
            0,
            0.03125,
            0,
            0.00390625,
            0,
            0
           ]
          }
         ],
         "name": "Time Step 8"
        },
        {
         "data": [
          {
           "name": "Time Step 9",
           "type": "bar",
           "x": [
            0,
            1,
            2,
            3,
            4,
            5,
            6,
            7,
            8,
            9,
            10,
            11,
            12,
            13,
            14,
            15,
            16,
            17,
            18,
            19,
            20
           ],
           "y": [
            0,
            0.001953125,
            0,
            0.017578125,
            0,
            0.0703125,
            0,
            0.1640625,
            0,
            0.24609375,
            0,
            0.24609375,
            0,
            0.1640625,
            0,
            0.0703125,
            0,
            0.017578125,
            0,
            0.001953125,
            0
           ]
          }
         ],
         "name": "Time Step 9"
        },
        {
         "data": [
          {
           "name": "Time Step 10",
           "type": "bar",
           "x": [
            0,
            1,
            2,
            3,
            4,
            5,
            6,
            7,
            8,
            9,
            10,
            11,
            12,
            13,
            14,
            15,
            16,
            17,
            18,
            19,
            20
           ],
           "y": [
            0.0009765625,
            0,
            0.009765625,
            0,
            0.0439453125,
            0,
            0.1171875,
            0,
            0.205078125,
            0,
            0.24609375,
            0,
            0.205078125,
            0,
            0.1171875,
            0,
            0.0439453125,
            0,
            0.009765625,
            0,
            0.0009765625
           ]
          }
         ],
         "name": "Time Step 10"
        },
        {
         "data": [
          {
           "name": "Time Step 11",
           "type": "bar",
           "x": [
            0,
            1,
            2,
            3,
            4,
            5,
            6,
            7,
            8,
            9,
            10,
            11,
            12,
            13,
            14,
            15,
            16,
            17,
            18,
            19,
            20
           ],
           "y": [
            0.0009765625,
            0.0048828125,
            0,
            0.02685546875,
            0,
            0.08056640625,
            0,
            0.1611328125,
            0,
            0.2255859375,
            0,
            0.2255859375,
            0,
            0.1611328125,
            0,
            0.08056640625,
            0,
            0.02685546875,
            0,
            0.0048828125,
            0.0009765625
           ]
          }
         ],
         "name": "Time Step 11"
        },
        {
         "data": [
          {
           "name": "Time Step 12",
           "type": "bar",
           "x": [
            0,
            1,
            2,
            3,
            4,
            5,
            6,
            7,
            8,
            9,
            10,
            11,
            12,
            13,
            14,
            15,
            16,
            17,
            18,
            19,
            20
           ],
           "y": [
            0.00341796875,
            0,
            0.015869140625,
            0,
            0.0537109375,
            0,
            0.120849609375,
            0,
            0.193359375,
            0,
            0.2255859375,
            0,
            0.193359375,
            0,
            0.120849609375,
            0,
            0.0537109375,
            0,
            0.015869140625,
            0,
            0.00341796875
           ]
          }
         ],
         "name": "Time Step 12"
        },
        {
         "data": [
          {
           "name": "Time Step 13",
           "type": "bar",
           "x": [
            0,
            1,
            2,
            3,
            4,
            5,
            6,
            7,
            8,
            9,
            10,
            11,
            12,
            13,
            14,
            15,
            16,
            17,
            18,
            19,
            20
           ],
           "y": [
            0.00341796875,
            0.0079345703125,
            0,
            0.0347900390625,
            0,
            0.0872802734375,
            0,
            0.1571044921875,
            0,
            0.20947265625,
            0,
            0.20947265625,
            0,
            0.1571044921875,
            0,
            0.0872802734375,
            0,
            0.0347900390625,
            0,
            0.0079345703125,
            0.00341796875
           ]
          }
         ],
         "name": "Time Step 13"
        },
        {
         "data": [
          {
           "name": "Time Step 14",
           "type": "bar",
           "x": [
            0,
            1,
            2,
            3,
            4,
            5,
            6,
            7,
            8,
            9,
            10,
            11,
            12,
            13,
            14,
            15,
            16,
            17,
            18,
            19,
            20
           ],
           "y": [
            0.00738525390625,
            0,
            0.0213623046875,
            0,
            0.06103515625,
            0,
            0.1221923828125,
            0,
            0.18328857421875,
            0,
            0.20947265625,
            0,
            0.18328857421875,
            0,
            0.1221923828125,
            0,
            0.06103515625,
            0,
            0.0213623046875,
            0,
            0.00738525390625
           ]
          }
         ],
         "name": "Time Step 14"
        },
        {
         "data": [
          {
           "name": "Time Step 15",
           "type": "bar",
           "x": [
            0,
            1,
            2,
            3,
            4,
            5,
            6,
            7,
            8,
            9,
            10,
            11,
            12,
            13,
            14,
            15,
            16,
            17,
            18,
            19,
            20
           ],
           "y": [
            0.00738525390625,
            0.01068115234375,
            0,
            0.04119873046875,
            0,
            0.09161376953125,
            0,
            0.152740478515625,
            0,
            0.196380615234375,
            0,
            0.196380615234375,
            0,
            0.152740478515625,
            0,
            0.09161376953125,
            0,
            0.04119873046875,
            0,
            0.01068115234375,
            0.00738525390625
           ]
          }
         ],
         "name": "Time Step 15"
        },
        {
         "data": [
          {
           "name": "Time Step 16",
           "type": "bar",
           "x": [
            0,
            1,
            2,
            3,
            4,
            5,
            6,
            7,
            8,
            9,
            10,
            11,
            12,
            13,
            14,
            15,
            16,
            17,
            18,
            19,
            20
           ],
           "y": [
            0.012725830078125,
            0,
            0.02593994140625,
            0,
            0.06640625,
            0,
            0.1221771240234375,
            0,
            0.174560546875,
            0,
            0.196380615234375,
            0,
            0.174560546875,
            0,
            0.1221771240234375,
            0,
            0.06640625,
            0,
            0.02593994140625,
            0,
            0.012725830078125
           ]
          }
         ],
         "name": "Time Step 16"
        },
        {
         "data": [
          {
           "name": "Time Step 17",
           "type": "bar",
           "x": [
            0,
            1,
            2,
            3,
            4,
            5,
            6,
            7,
            8,
            9,
            10,
            11,
            12,
            13,
            14,
            15,
            16,
            17,
            18,
            19,
            20
           ],
           "y": [
            0.012725830078125,
            0.012969970703125,
            0,
            0.046173095703125,
            0,
            0.09429168701171875,
            0,
            0.14836883544921875,
            0,
            0.1854705810546875,
            0,
            0.1854705810546875,
            0,
            0.14836883544921875,
            0,
            0.09429168701171875,
            0,
            0.046173095703125,
            0,
            0.012969970703125,
            0.012725830078125
           ]
          }
         ],
         "name": "Time Step 17"
        },
        {
         "data": [
          {
           "name": "Time Step 18",
           "type": "bar",
           "x": [
            0,
            1,
            2,
            3,
            4,
            5,
            6,
            7,
            8,
            9,
            10,
            11,
            12,
            13,
            14,
            15,
            16,
            17,
            18,
            19,
            20
           ],
           "y": [
            0.0192108154296875,
            0,
            0.029571533203125,
            0,
            0.07023239135742188,
            0,
            0.12133026123046875,
            0,
            0.16691970825195312,
            0,
            0.1854705810546875,
            0,
            0.16691970825195312,
            0,
            0.12133026123046875,
            0,
            0.07023239135742188,
            0,
            0.029571533203125,
            0,
            0.0192108154296875
           ]
          }
         ],
         "name": "Time Step 18"
        },
        {
         "data": [
          {
           "name": "Time Step 19",
           "type": "bar",
           "x": [
            0,
            1,
            2,
            3,
            4,
            5,
            6,
            7,
            8,
            9,
            10,
            11,
            12,
            13,
            14,
            15,
            16,
            17,
            18,
            19,
            20
           ],
           "y": [
            0.0192108154296875,
            0.0147857666015625,
            0,
            0.04990196228027344,
            0,
            0.09578132629394531,
            0,
            0.14412498474121094,
            0,
            0.1761951446533203,
            0,
            0.1761951446533203,
            0,
            0.14412498474121094,
            0,
            0.09578132629394531,
            0,
            0.04990196228027344,
            0,
            0.0147857666015625,
            0.0192108154296875
           ]
          }
         ],
         "name": "Time Step 19"
        },
        {
         "data": [
          {
           "name": "Time Step 20",
           "type": "bar",
           "x": [
            0,
            1,
            2,
            3,
            4,
            5,
            6,
            7,
            8,
            9,
            10,
            11,
            12,
            13,
            14,
            15,
            16,
            17,
            18,
            19,
            20
           ],
           "y": [
            0.02660369873046875,
            0,
            0.03234386444091797,
            0,
            0.07284164428710938,
            0,
            0.11995315551757812,
            0,
            0.16016006469726562,
            0,
            0.1761951446533203,
            0,
            0.16016006469726562,
            0,
            0.11995315551757812,
            0,
            0.07284164428710938,
            0,
            0.03234386444091797,
            0,
            0.02660369873046875
           ]
          }
         ],
         "name": "Time Step 20"
        },
        {
         "data": [
          {
           "name": "Time Step 21",
           "type": "bar",
           "x": [
            0,
            1,
            2,
            3,
            4,
            5,
            6,
            7,
            8,
            9,
            10,
            11,
            12,
            13,
            14,
            15,
            16,
            17,
            18,
            19,
            20
           ],
           "y": [
            0.02660369873046875,
            0.016171932220458984,
            0,
            0.05259275436401367,
            0,
            0.09639739990234375,
            0,
            0.14005661010742188,
            0,
            0.16817760467529297,
            0,
            0.16817760467529297,
            0,
            0.14005661010742188,
            0,
            0.09639739990234375,
            0,
            0.05259275436401367,
            0,
            0.016171932220458984,
            0.02660369873046875
           ]
          }
         ],
         "name": "Time Step 21"
        },
        {
         "data": [
          {
           "name": "Time Step 22",
           "type": "bar",
           "x": [
            0,
            1,
            2,
            3,
            4,
            5,
            6,
            7,
            8,
            9,
            10,
            11,
            12,
            13,
            14,
            15,
            16,
            17,
            18,
            19,
            20
           ],
           "y": [
            0.03468966484069824,
            0,
            0.03438234329223633,
            0,
            0.07449507713317871,
            0,
            0.11822700500488281,
            0,
            0.15411710739135742,
            0,
            0.16817760467529297,
            0,
            0.15411710739135742,
            0,
            0.11822700500488281,
            0,
            0.07449507713317871,
            0,
            0.03438234329223633,
            0,
            0.03468966484069824
           ]
          }
         ],
         "name": "Time Step 22"
        },
        {
         "data": [
          {
           "name": "Time Step 23",
           "type": "bar",
           "x": [
            0,
            1,
            2,
            3,
            4,
            5,
            6,
            7,
            8,
            9,
            10,
            11,
            12,
            13,
            14,
            15,
            16,
            17,
            18,
            19,
            20
           ],
           "y": [
            0.03468966484069824,
            0.017191171646118164,
            0,
            0.05443871021270752,
            0,
            0.09636104106903076,
            0,
            0.13617205619812012,
            0,
            0.1611473560333252,
            0,
            0.1611473560333252,
            0,
            0.13617205619812012,
            0,
            0.09636104106903076,
            0,
            0.05443871021270752,
            0,
            0.017191171646118164,
            0.03468966484069824
           ]
          }
         ],
         "name": "Time Step 23"
        },
        {
         "data": [
          {
           "name": "Time Step 24",
           "type": "bar",
           "x": [
            0,
            1,
            2,
            3,
            4,
            5,
            6,
            7,
            8,
            9,
            10,
            11,
            12,
            13,
            14,
            15,
            16,
            17,
            18,
            19,
            20
           ],
           "y": [
            0.043285250663757324,
            0,
            0.03581494092941284,
            0,
            0.07539987564086914,
            0,
            0.11626654863357544,
            0,
            0.14865970611572266,
            0,
            0.1611473560333252,
            0,
            0.14865970611572266,
            0,
            0.11626654863357544,
            0,
            0.07539987564086914,
            0,
            0.03581494092941284,
            0,
            0.043285250663757324
           ]
          }
         ],
         "name": "Time Step 24"
        },
        {
         "data": [
          {
           "name": "Time Step 25",
           "type": "bar",
           "x": [
            0,
            1,
            2,
            3,
            4,
            5,
            6,
            7,
            8,
            9,
            10,
            11,
            12,
            13,
            14,
            15,
            16,
            17,
            18,
            19,
            20
           ],
           "y": [
            0.043285250663757324,
            0.01790747046470642,
            0,
            0.05560740828514099,
            0,
            0.09583321213722229,
            0,
            0.13246312737464905,
            0,
            0.15490353107452393,
            0,
            0.15490353107452393,
            0,
            0.13246312737464905,
            0,
            0.09583321213722229,
            0,
            0.05560740828514099,
            0,
            0.01790747046470642,
            0.043285250663757324
           ]
          }
         ],
         "name": "Time Step 25"
        },
        {
         "data": [
          {
           "name": "Time Step 26",
           "type": "bar",
           "x": [
            0,
            1,
            2,
            3,
            4,
            5,
            6,
            7,
            8,
            9,
            10,
            11,
            12,
            13,
            14,
            15,
            16,
            17,
            18,
            19,
            20
           ],
           "y": [
            0.052238985896110535,
            0,
            0.036757439374923706,
            0,
            0.07572031021118164,
            0,
            0.11414816975593567,
            0,
            0.1436833292245865,
            0,
            0.15490353107452393,
            0,
            0.1436833292245865,
            0,
            0.11414816975593567,
            0,
            0.07572031021118164,
            0,
            0.036757439374923706,
            0,
            0.052238985896110535
           ]
          }
         ],
         "name": "Time Step 26"
        },
        {
         "data": [
          {
           "name": "Time Step 27",
           "type": "bar",
           "x": [
            0,
            1,
            2,
            3,
            4,
            5,
            6,
            7,
            8,
            9,
            10,
            11,
            12,
            13,
            14,
            15,
            16,
            17,
            18,
            19,
            20
           ],
           "y": [
            0.052238985896110535,
            0.018378719687461853,
            0,
            0.05623887479305267,
            0,
            0.09493423998355865,
            0,
            0.12891574949026108,
            0,
            0.1492934301495552,
            0,
            0.1492934301495552,
            0,
            0.12891574949026108,
            0,
            0.09493423998355865,
            0,
            0.05623887479305267,
            0,
            0.018378719687461853,
            0.052238985896110535
           ]
          }
         ],
         "name": "Time Step 27"
        },
        {
         "data": [
          {
           "name": "Time Step 28",
           "type": "bar",
           "x": [
            0,
            1,
            2,
            3,
            4,
            5,
            6,
            7,
            8,
            9,
            10,
            11,
            12,
            13,
            14,
            15,
            16,
            17,
            18,
            19,
            20
           ],
           "y": [
            0.06142834573984146,
            0,
            0.03730879724025726,
            0,
            0.07558655738830566,
            0,
            0.11192499473690987,
            0,
            0.13910458981990814,
            0,
            0.1492934301495552,
            0,
            0.13910458981990814,
            0,
            0.11192499473690987,
            0,
            0.07558655738830566,
            0,
            0.03730879724025726,
            0,
            0.06142834573984146
           ]
          }
         ],
         "name": "Time Step 28"
        },
        {
         "data": [
          {
           "name": "Time Step 29",
           "type": "bar",
           "x": [
            0,
            1,
            2,
            3,
            4,
            5,
            6,
            7,
            8,
            9,
            10,
            11,
            12,
            13,
            14,
            15,
            16,
            17,
            18,
            19,
            20
           ],
           "y": [
            0.06142834573984146,
            0.01865439862012863,
            0,
            0.056447677314281464,
            0,
            0.09375577606260777,
            0,
            0.125514792278409,
            0,
            0.14419900998473167,
            0,
            0.14419900998473167,
            0,
            0.125514792278409,
            0,
            0.09375577606260777,
            0,
            0.056447677314281464,
            0,
            0.01865439862012863,
            0.06142834573984146
           ]
          }
         ],
         "name": "Time Step 29"
        },
        {
         "data": [
          {
           "name": "Time Step 30",
           "type": "bar",
           "x": [
            0,
            1,
            2,
            3,
            4,
            5,
            6,
            7,
            8,
            9,
            10,
            11,
            12,
            13,
            14,
            15,
            16,
            17,
            18,
            19,
            20
           ],
           "y": [
            0.07075554504990578,
            0,
            0.03755103796720505,
            0,
            0.07510172668844461,
            0,
            0.10963528417050838,
            0,
            0.13485690113157034,
            0,
            0.14419900998473167,
            0,
            0.13485690113157034,
            0,
            0.10963528417050838,
            0,
            0.07510172668844461,
            0,
            0.03755103796720505,
            0,
            0.07075554504990578
           ]
          }
         ],
         "name": "Time Step 30"
        },
        {
         "data": [
          {
           "name": "Time Step 31",
           "type": "bar",
           "x": [
            0,
            1,
            2,
            3,
            4,
            5,
            6,
            7,
            8,
            9,
            10,
            11,
            12,
            13,
            14,
            15,
            16,
            17,
            18,
            19,
            20
           ],
           "y": [
            0.07075554504990578,
            0.018775518983602524,
            0,
            0.05632638232782483,
            0,
            0.0923685054294765,
            0,
            0.12224609265103936,
            0,
            0.139527955558151,
            0,
            0.139527955558151,
            0,
            0.12224609265103936,
            0,
            0.0923685054294765,
            0,
            0.05632638232782483,
            0,
            0.018775518983602524,
            0.07075554504990578
           ]
          }
         ],
         "name": "Time Step 31"
        },
        {
         "data": [
          {
           "name": "Time Step 32",
           "type": "bar",
           "x": [
            0,
            1,
            2,
            3,
            4,
            5,
            6,
            7,
            8,
            9,
            10,
            11,
            12,
            13,
            14,
            15,
            16,
            17,
            18,
            19,
            20
           ],
           "y": [
            0.08014330454170704,
            0,
            0.03755095065571368,
            0,
            0.07434744387865067,
            0,
            0.10730729904025793,
            0,
            0.13088702410459518,
            0,
            0.139527955558151,
            0,
            0.13088702410459518,
            0,
            0.10730729904025793,
            0,
            0.07434744387865067,
            0,
            0.03755095065571368,
            0,
            0.08014330454170704
           ]
          }
         ],
         "name": "Time Step 32"
        },
        {
         "data": [
          {
           "name": "Time Step 33",
           "type": "bar",
           "x": [
            0,
            1,
            2,
            3,
            4,
            5,
            6,
            7,
            8,
            9,
            10,
            11,
            12,
            13,
            14,
            15,
            16,
            17,
            18,
            19,
            20
           ],
           "y": [
            0.08014330454170704,
            0.01877547532785684,
            0,
            0.05594919726718217,
            0,
            0.0908273714594543,
            0,
            0.11909716157242656,
            0,
            0.1352074898313731,
            0,
            0.1352074898313731,
            0,
            0.11909716157242656,
            0,
            0.0908273714594543,
            0,
            0.05594919726718217,
            0,
            0.01877547532785684,
            0.08014330454170704
           ]
          }
         ],
         "name": "Time Step 33"
        },
        {
         "data": [
          {
           "name": "Time Step 34",
           "type": "bar",
           "x": [
            0,
            1,
            2,
            3,
            4,
            5,
            6,
            7,
            8,
            9,
            10,
            11,
            12,
            13,
            14,
            15,
            16,
            17,
            18,
            19,
            20
           ],
           "y": [
            0.08953104220563546,
            0,
            0.037362336297519505,
            0,
            0.07338828436331823,
            0,
            0.10496226651594043,
            0,
            0.12715232570189983,
            0,
            0.1352074898313731,
            0,
            0.12715232570189983,
            0,
            0.10496226651594043,
            0,
            0.07338828436331823,
            0,
            0.037362336297519505,
            0,
            0.08953104220563546
           ]
          }
         ],
         "name": "Time Step 34"
        },
        {
         "data": [
          {
           "name": "Time Step 35",
           "type": "bar",
           "x": [
            0,
            1,
            2,
            3,
            4,
            5,
            6,
            7,
            8,
            9,
            10,
            11,
            12,
            13,
            14,
            15,
            16,
            17,
            18,
            19,
            20
           ],
           "y": [
            0.08953104220563546,
            0.018681168148759753,
            0,
            0.05537531033041887,
            0,
            0.08917527543962933,
            0,
            0.11605729610892013,
            0,
            0.13117990776663646,
            0,
            0.13117990776663646,
            0,
            0.11605729610892013,
            0,
            0.08917527543962933,
            0,
            0.05537531033041887,
            0,
            0.018681168148759753,
            0.08953104220563546
           ]
          }
         ],
         "name": "Time Step 35"
        },
        {
         "data": [
          {
           "name": "Time Step 36",
           "type": "bar",
           "x": [
            0,
            1,
            2,
            3,
            4,
            5,
            6,
            7,
            8,
            9,
            10,
            11,
            12,
            13,
            14,
            15,
            16,
            17,
            18,
            19,
            20
           ],
           "y": [
            0.09887162628001533,
            0,
            0.03702823923958931,
            0,
            0.0722752928850241,
            0,
            0.10261628577427473,
            0,
            0.1236186019377783,
            0,
            0.13117990776663646,
            0,
            0.1236186019377783,
            0,
            0.10261628577427473,
            0,
            0.0722752928850241,
            0,
            0.03702823923958931,
            0,
            0.09887162628001533
           ]
          }
         ],
         "name": "Time Step 36"
        },
        {
         "data": [
          {
           "name": "Time Step 37",
           "type": "bar",
           "x": [
            0,
            1,
            2,
            3,
            4,
            5,
            6,
            7,
            8,
            9,
            10,
            11,
            12,
            13,
            14,
            15,
            16,
            17,
            18,
            19,
            20
           ],
           "y": [
            0.09887162628001533,
            0.018514119619794656,
            0,
            0.054651766062306706,
            0,
            0.08744578932964941,
            0,
            0.11311744385602651,
            0,
            0.12739925485220738,
            0,
            0.12739925485220738,
            0,
            0.11311744385602651,
            0,
            0.08744578932964941,
            0,
            0.054651766062306706,
            0,
            0.018514119619794656,
            0.09887162628001533
           ]
          }
         ],
         "name": "Time Step 37"
        },
        {
         "data": [
          {
           "name": "Time Step 38",
           "type": "bar",
           "x": [
            0,
            1,
            2,
            3,
            4,
            5,
            6,
            7,
            8,
            9,
            10,
            11,
            12,
            13,
            14,
            15,
            16,
            17,
            18,
            19,
            20
           ],
           "y": [
            0.10812868608991266,
            0,
            0.03658294284105068,
            0,
            0.07104877769597806,
            0,
            0.10028161659283796,
            0,
            0.12025834935411694,
            0,
            0.12739925485220738,
            0,
            0.12025834935411694,
            0,
            0.10028161659283796,
            0,
            0.07104877769597806,
            0,
            0.03658294284105068,
            0,
            0.10812868608991266
           ]
          }
         ],
         "name": "Time Step 38"
        },
        {
         "data": [
          {
           "name": "Time Step 39",
           "type": "bar",
           "x": [
            0,
            1,
            2,
            3,
            4,
            5,
            6,
            7,
            8,
            9,
            10,
            11,
            12,
            13,
            14,
            15,
            16,
            17,
            18,
            19,
            20
           ],
           "y": [
            0.10812868608991266,
            0.01829147142052534,
            0,
            0.05381586026851437,
            0,
            0.08566519714440801,
            0,
            0.11026998297347745,
            0,
            0.12382880210316216,
            0,
            0.12382880210316216,
            0,
            0.11026998297347745,
            0,
            0.08566519714440801,
            0,
            0.05381586026851437,
            0,
            0.01829147142052534,
            0.10812868608991266
           ]
          }
         ],
         "name": "Time Step 39"
        },
        {
         "data": [
          {
           "name": "Time Step 40",
           "type": "bar",
           "x": [
            0,
            1,
            2,
            3,
            4,
            5,
            6,
            7,
            8,
            9,
            10,
            11,
            12,
            13,
            14,
            15,
            16,
            17,
            18,
            19,
            20
           ],
           "y": [
            0.11727442180017533,
            0,
            0.036053665844519855,
            0,
            0.06974052870646119,
            0,
            0.09796759005894273,
            0,
            0.11704939253831981,
            0,
            0.12382880210316216,
            0,
            0.11704939253831981,
            0,
            0.09796759005894273,
            0,
            0.06974052870646119,
            0,
            0.036053665844519855,
            0,
            0.11727442180017533
           ]
          }
         ],
         "name": "Time Step 40"
        },
        {
         "data": [
          {
           "name": "Time Step 41",
           "type": "bar",
           "x": [
            0,
            1,
            2,
            3,
            4,
            5,
            6,
            7,
            8,
            9,
            10,
            11,
            12,
            13,
            14,
            15,
            16,
            17,
            18,
            19,
            20
           ],
           "y": [
            0.11727442180017533,
            0.018026832922259928,
            0,
            0.05289709727549052,
            0,
            0.08385405938270196,
            0,
            0.10750849129863127,
            0,
            0.12043909732074098,
            0,
            0.12043909732074098,
            0,
            0.10750849129863127,
            0,
            0.08385405938270196,
            0,
            0.05289709727549052,
            0,
            0.018026832922259928,
            0.11727442180017533
           ]
          }
         ],
         "name": "Time Step 41"
        },
        {
         "data": [
          {
           "name": "Time Step 42",
           "type": "bar",
           "x": [
            0,
            1,
            2,
            3,
            4,
            5,
            6,
            7,
            8,
            9,
            10,
            11,
            12,
            13,
            14,
            15,
            16,
            17,
            18,
            19,
            20
           ],
           "y": [
            0.1262878382613053,
            0,
            0.035461965098875226,
            0,
            0.06837557832909624,
            0,
            0.09568127534066662,
            0,
            0.11397379430968613,
            0,
            0.12043909732074098,
            0,
            0.11397379430968613,
            0,
            0.09568127534066662,
            0,
            0.06837557832909624,
            0,
            0.035461965098875226,
            0,
            0.1262878382613053
           ]
          }
         ],
         "name": "Time Step 42"
        },
        {
         "data": [
          {
           "name": "Time Step 43",
           "type": "bar",
           "x": [
            0,
            1,
            2,
            3,
            4,
            5,
            6,
            7,
            8,
            9,
            10,
            11,
            12,
            13,
            14,
            15,
            16,
            17,
            18,
            19,
            20
           ],
           "y": [
            0.1262878382613053,
            0.017730982549437613,
            0,
            0.051918771713985734,
            0,
            0.08202842683488143,
            0,
            0.10482753482517637,
            0,
            0.11720644581521356,
            0,
            0.11720644581521356,
            0,
            0.10482753482517637,
            0,
            0.08202842683488143,
            0,
            0.051918771713985734,
            0,
            0.017730982549437613,
            0.1262878382613053
           ]
          }
         ],
         "name": "Time Step 43"
        },
        {
         "data": [
          {
           "name": "Time Step 44",
           "type": "bar",
           "x": [
            0,
            1,
            2,
            3,
            4,
            5,
            6,
            7,
            8,
            9,
            10,
            11,
            12,
            13,
            14,
            15,
            16,
            17,
            18,
            19,
            20
           ],
           "y": [
            0.1351533295360241,
            0,
            0.03482487713171167,
            0,
            0.06697359927443358,
            0,
            0.0934279808300289,
            0,
            0.11101699032019496,
            0,
            0.11720644581521356,
            0,
            0.11101699032019496,
            0,
            0.0934279808300289,
            0,
            0.06697359927443358,
            0,
            0.03482487713171167,
            0,
            0.1351533295360241
           ]
          }
         ],
         "name": "Time Step 44"
        },
        {
         "data": [
          {
           "name": "Time Step 45",
           "type": "bar",
           "x": [
            0,
            1,
            2,
            3,
            4,
            5,
            6,
            7,
            8,
            9,
            10,
            11,
            12,
            13,
            14,
            15,
            16,
            17,
            18,
            19,
            20
           ],
           "y": [
            0.1351533295360241,
            0.017412438565855837,
            0,
            0.05089923820307263,
            0,
            0.08020079005223124,
            0,
            0.10222248557511193,
            0,
            0.11411171806770426,
            0,
            0.11411171806770426,
            0,
            0.10222248557511193,
            0,
            0.08020079005223124,
            0,
            0.05089923820307263,
            0,
            0.017412438565855837,
            0.1351533295360241
           ]
          }
         ],
         "name": "Time Step 45"
        },
        {
         "data": [
          {
           "name": "Time Step 46",
           "type": "bar",
           "x": [
            0,
            1,
            2,
            3,
            4,
            5,
            6,
            7,
            8,
            9,
            10,
            11,
            12,
            13,
            14,
            15,
            16,
            17,
            18,
            19,
            20
           ],
           "y": [
            0.14385954881895202,
            0,
            0.03415583838446423,
            0,
            0.06555001412765193,
            0,
            0.09121163781367159,
            0,
            0.1081671018214081,
            0,
            0.11411171806770426,
            0,
            0.1081671018214081,
            0,
            0.09121163781367159,
            0,
            0.06555001412765193,
            0,
            0.03415583838446423,
            0,
            0.14385954881895202
           ]
          }
         ],
         "name": "Time Step 46"
        },
        {
         "data": [
          {
           "name": "Time Step 47",
           "type": "bar",
           "x": [
            0,
            1,
            2,
            3,
            4,
            5,
            6,
            7,
            8,
            9,
            10,
            11,
            12,
            13,
            14,
            15,
            16,
            17,
            18,
            19,
            20
           ],
           "y": [
            0.14385954881895202,
            0.017077919192232116,
            0,
            0.04985292625605808,
            0,
            0.07838082597066176,
            0,
            0.09968936981753984,
            0,
            0.11113940994455618,
            0,
            0.11113940994455618,
            0,
            0.09968936981753984,
            0,
            0.07838082597066176,
            0,
            0.04985292625605808,
            0,
            0.017077919192232116,
            0.14385954881895202
           ]
          }
         ],
         "name": "Time Step 47"
        },
        {
         "data": [
          {
           "name": "Time Step 48",
           "type": "bar",
           "x": [
            0,
            1,
            2,
            3,
            4,
            5,
            6,
            7,
            8,
            9,
            10,
            11,
            12,
            13,
            14,
            15,
            16,
            17,
            18,
            19,
            20
           ],
           "y": [
            0.15239850841506808,
            0,
            0.0334654227241451,
            0,
            0.06411687611335992,
            0,
            0.0890350978941008,
            0,
            0.10541438988104801,
            0,
            0.11113940994455618,
            0,
            0.10541438988104801,
            0,
            0.0890350978941008,
            0,
            0.06411687611335992,
            0,
            0.0334654227241451,
            0,
            0.15239850841506808
           ]
          }
         ],
         "name": "Time Step 48"
        },
        {
         "data": [
          {
           "name": "Time Step 49",
           "type": "bar",
           "x": [
            0,
            1,
            2,
            3,
            4,
            5,
            6,
            7,
            8,
            9,
            10,
            11,
            12,
            13,
            14,
            15,
            16,
            17,
            18,
            19,
            20
           ],
           "y": [
            0.15239850841506808,
            0.01673271136207255,
            0,
            0.04879114941875251,
            0,
            0.07657598700373036,
            0,
            0.0972247438875744,
            0,
            0.1082768999128021,
            0,
            0.1082768999128021,
            0,
            0.0972247438875744,
            0,
            0.07657598700373036,
            0,
            0.04879114941875251,
            0,
            0.01673271136207255,
            0.15239850841506808
           ]
          }
         ],
         "name": "Time Step 49"
        },
        {
         "data": [
          {
           "name": "Time Step 50",
           "type": "bar",
           "x": [
            0,
            1,
            2,
            3,
            4,
            5,
            6,
            7,
            8,
            9,
            10,
            11,
            12,
            13,
            14,
            15,
            16,
            17,
            18,
            19,
            20
           ],
           "y": [
            0.16076486409610435,
            0,
            0.03276193039041253,
            0,
            0.06268356821124144,
            0,
            0.08690036544565238,
            0,
            0.10275082190018825,
            0,
            0.1082768999128021,
            0,
            0.10275082190018825,
            0,
            0.08690036544565238,
            0,
            0.06268356821124144,
            0,
            0.03276193039041253,
            0,
            0.16076486409610435
           ]
          }
         ],
         "name": "Time Step 50"
        },
        {
         "data": [
          {
           "name": "Time Step 51",
           "type": "bar",
           "x": [
            0,
            1,
            2,
            3,
            4,
            5,
            6,
            7,
            8,
            9,
            10,
            11,
            12,
            13,
            14,
            15,
            16,
            17,
            18,
            19,
            20
           ],
           "y": [
            0.16076486409610435,
            0.016380965195206265,
            0,
            0.04772274930082698,
            0,
            0.07479196682844691,
            0,
            0.09482559367292032,
            0,
            0.10551386090649517,
            0,
            0.10551386090649517,
            0,
            0.09482559367292032,
            0,
            0.07479196682844691,
            0,
            0.04772274930082698,
            0,
            0.016380965195206265,
            0.16076486409610435
           ]
          }
         ],
         "name": "Time Step 51"
        },
        {
         "data": [
          {
           "name": "Time Step 52",
           "type": "bar",
           "x": [
            0,
            1,
            2,
            3,
            4,
            5,
            6,
            7,
            8,
            9,
            10,
            11,
            12,
            13,
            14,
            15,
            16,
            17,
            18,
            19,
            20
           ],
           "y": [
            0.1689553466937075,
            0,
            0.032051857248016624,
            0,
            0.061257358064636946,
            0,
            0.08480878025068361,
            0,
            0.10016972728970774,
            0,
            0.10551386090649517,
            0,
            0.10016972728970774,
            0,
            0.08480878025068361,
            0,
            0.061257358064636946,
            0,
            0.032051857248016624,
            0,
            0.1689553466937075
           ]
          }
         ],
         "name": "Time Step 52"
        },
        {
         "data": [
          {
           "name": "Time Step 53",
           "type": "bar",
           "x": [
            0,
            1,
            2,
            3,
            4,
            5,
            6,
            7,
            8,
            9,
            10,
            11,
            12,
            13,
            14,
            15,
            16,
            17,
            18,
            19,
            20
           ],
           "y": [
            0.1689553466937075,
            0.016025928624008312,
            0,
            0.046654607656326785,
            0,
            0.07303306915766028,
            0,
            0.09248925377019568,
            0,
            0.10284179409810146,
            0,
            0.10284179409810146,
            0,
            0.09248925377019568,
            0,
            0.07303306915766028,
            0,
            0.046654607656326785,
            0,
            0.016025928624008312,
            0.1689553466937075
           ]
          }
         ],
         "name": "Time Step 53"
        },
        {
         "data": [
          {
           "name": "Time Step 54",
           "type": "bar",
           "x": [
            0,
            1,
            2,
            3,
            4,
            5,
            6,
            7,
            8,
            9,
            10,
            11,
            12,
            13,
            14,
            15,
            16,
            17,
            18,
            19,
            20
           ],
           "y": [
            0.17696831100571164,
            0,
            0.03134026814016755,
            0,
            0.05984383840699353,
            0,
            0.08276116146392798,
            0,
            0.09766552393414857,
            0,
            0.10284179409810146,
            0,
            0.09766552393414857,
            0,
            0.08276116146392798,
            0,
            0.05984383840699353,
            0,
            0.03134026814016755,
            0,
            0.17696831100571164
           ]
          }
         ],
         "name": "Time Step 54"
        },
        {
         "data": [
          {
           "name": "Time Step 55",
           "type": "bar",
           "x": [
            0,
            1,
            2,
            3,
            4,
            5,
            6,
            7,
            8,
            9,
            10,
            11,
            12,
            13,
            14,
            15,
            16,
            17,
            18,
            19,
            20
           ],
           "y": [
            0.17696831100571164,
            0.015670134070083774,
            0,
            0.04559205327358054,
            0,
            0.07130249993546076,
            0,
            0.09021334269903827,
            0,
            0.10025365901612501,
            0,
            0.10025365901612501,
            0,
            0.09021334269903827,
            0,
            0.07130249993546076,
            0,
            0.04559205327358054,
            0,
            0.015670134070083774,
            0.17696831100571164
           ]
          }
         ],
         "name": "Time Step 55"
        },
        {
         "data": [
          {
           "name": "Time Step 56",
           "type": "bar",
           "x": [
            0,
            1,
            2,
            3,
            4,
            5,
            6,
            7,
            8,
            9,
            10,
            11,
            12,
            13,
            14,
            15,
            16,
            17,
            18,
            19,
            20
           ],
           "y": [
            0.18480337804075353,
            0,
            0.030631093671832157,
            0,
            0.05844727660452065,
            0,
            0.08075792131724951,
            0,
            0.09523350085758164,
            0,
            0.10025365901612501,
            0,
            0.09523350085758164,
            0,
            0.08075792131724951,
            0,
            0.05844727660452065,
            0,
            0.030631093671832157,
            0,
            0.18480337804075353
           ]
          }
         ],
         "name": "Time Step 56"
        },
        {
         "data": [
          {
           "name": "Time Step 57",
           "type": "bar",
           "x": [
            0,
            1,
            2,
            3,
            4,
            5,
            6,
            7,
            8,
            9,
            10,
            11,
            12,
            13,
            14,
            15,
            16,
            17,
            18,
            19,
            20
           ],
           "y": [
            0.18480337804075353,
            0.015315546835916079,
            0,
            0.0445391851381764,
            0,
            0.06960259896088508,
            0,
            0.08799571108741558,
            0,
            0.09774357993685333,
            0,
            0.09774357993685333,
            0,
            0.08799571108741558,
            0,
            0.06960259896088508,
            0,
            0.0445391851381764,
            0,
            0.015315546835916079,
            0.18480337804075353
           ]
          }
         ],
         "name": "Time Step 57"
        },
        {
         "data": [
          {
           "name": "Time Step 58",
           "type": "bar",
           "x": [
            0,
            1,
            2,
            3,
            4,
            5,
            6,
            7,
            8,
            9,
            10,
            11,
            12,
            13,
            14,
            15,
            16,
            17,
            18,
            19,
            20
           ],
           "y": [
            0.19246115145871157,
            0,
            0.02992736598704624,
            0,
            0.05707089204953074,
            0,
            0.07879915502415033,
            0,
            0.09286964551213445,
            0,
            0.09774357993685333,
            0,
            0.09286964551213445,
            0,
            0.07879915502415033,
            0,
            0.05707089204953074,
            0,
            0.02992736598704624,
            0,
            0.19246115145871157
           ]
          }
         ],
         "name": "Time Step 58"
        },
        {
         "data": [
          {
           "name": "Time Step 59",
           "type": "bar",
           "x": [
            0,
            1,
            2,
            3,
            4,
            5,
            6,
            7,
            8,
            9,
            10,
            11,
            12,
            13,
            14,
            15,
            16,
            17,
            18,
            19,
            20
           ],
           "y": [
            0.19246115145871157,
            0.01496368299352312,
            0,
            0.04349912901828849,
            0,
            0.06793502353684053,
            0,
            0.08583440026814239,
            0,
            0.0953066127244939,
            0,
            0.0953066127244939,
            0,
            0.08583440026814239,
            0,
            0.06793502353684053,
            0,
            0.04349912901828849,
            0,
            0.01496368299352312,
            0.19246115145871157
           ]
          }
         ],
         "name": "Time Step 59"
        },
        {
         "data": [
          {
           "name": "Time Step 60",
           "type": "bar",
           "x": [
            0,
            1,
            2,
            3,
            4,
            5,
            6,
            7,
            8,
            9,
            10,
            11,
            12,
            13,
            14,
            15,
            16,
            17,
            18,
            19,
            20
           ],
           "y": [
            0.19994299295547313,
            0,
            0.029231406005905805,
            0,
            0.05571707627756451,
            0,
            0.07688471190249146,
            0,
            0.09057050649631815,
            0,
            0.0953066127244939,
            0,
            0.09057050649631815,
            0,
            0.07688471190249146,
            0,
            0.05571707627756451,
            0,
            0.029231406005905805,
            0,
            0.19994299295547313
           ]
          }
         ],
         "name": "Time Step 60"
        },
        {
         "data": [
          {
           "name": "Time Step 61",
           "type": "bar",
           "x": [
            0,
            1,
            2,
            3,
            4,
            5,
            6,
            7,
            8,
            9,
            10,
            11,
            12,
            13,
            14,
            15,
            16,
            17,
            18,
            19,
            20
           ],
           "y": [
            0.19994299295547313,
            0.014615703002952903,
            0,
            0.04247424114173516,
            0,
            0.06630089409002798,
            0,
            0.0837276091994048,
            0,
            0.09293855961040602,
            0,
            0.09293855961040602,
            0,
            0.0837276091994048,
            0,
            0.06630089409002798,
            0,
            0.04247424114173516,
            0,
            0.014615703002952903,
            0.19994299295547313
           ]
          }
         ],
         "name": "Time Step 61"
        },
        {
         "data": [
          {
           "name": "Time Step 62",
           "type": "bar",
           "x": [
            0,
            1,
            2,
            3,
            4,
            5,
            6,
            7,
            8,
            9,
            10,
            11,
            12,
            13,
            14,
            15,
            16,
            17,
            18,
            19,
            20
           ],
           "y": [
            0.20725084445694958,
            0,
            0.028544972072344032,
            0,
            0.05438756761588157,
            0,
            0.0750142516447164,
            0,
            0.08833308440490542,
            0,
            0.09293855961040602,
            0,
            0.08833308440490542,
            0,
            0.0750142516447164,
            0,
            0.05438756761588157,
            0,
            0.028544972072344032,
            0,
            0.20725084445694958
           ]
          }
         ],
         "name": "Time Step 62"
        },
        {
         "data": [
          {
           "name": "Time Step 63",
           "type": "bar",
           "x": [
            0,
            1,
            2,
            3,
            4,
            5,
            6,
            7,
            8,
            9,
            10,
            11,
            12,
            13,
            14,
            15,
            16,
            17,
            18,
            19,
            20
           ],
           "y": [
            0.20725084445694958,
            0.014272486036172016,
            0,
            0.0414662698441128,
            0,
            0.06470090963029898,
            0,
            0.08167366802481091,
            0,
            0.09063582200765571,
            0,
            0.09063582200765571,
            0,
            0.08167366802481091,
            0,
            0.06470090963029898,
            0,
            0.0414662698441128,
            0,
            0.014272486036172016,
            0.20725084445694958
           ]
          }
         ],
         "name": "Time Step 63"
        },
        {
         "data": [
          {
           "name": "Time Step 64",
           "type": "bar",
           "x": [
            0,
            1,
            2,
            3,
            4,
            5,
            6,
            7,
            8,
            9,
            10,
            11,
            12,
            13,
            14,
            15,
            16,
            17,
            18,
            19,
            20
           ],
           "y": [
            0.2143870874750356,
            0,
            0.02786937794014241,
            0,
            0.053083589737205894,
            0,
            0.07318728882755494,
            0,
            0.08615474501623331,
            0,
            0.09063582200765571,
            0,
            0.08615474501623331,
            0,
            0.07318728882755494,
            0,
            0.053083589737205894,
            0,
            0.02786937794014241,
            0,
            0.2143870874750356
           ]
          }
         ],
         "name": "Time Step 64"
        },
        {
         "data": [
          {
           "name": "Time Step 65",
           "type": "bar",
           "x": [
            0,
            1,
            2,
            3,
            4,
            5,
            6,
            7,
            8,
            9,
            10,
            11,
            12,
            13,
            14,
            15,
            16,
            17,
            18,
            19,
            20
           ],
           "y": [
            0.2143870874750356,
            0.013934688970071205,
            0,
            0.04047648383867415,
            0,
            0.06313543928238041,
            0,
            0.07967101692189413,
            0,
            0.0883952835119445,
            0,
            0.0883952835119445,
            0,
            0.07967101692189413,
            0,
            0.06313543928238041,
            0,
            0.04047648383867415,
            0,
            0.013934688970071205,
            0.2143870874750356
           ]
          }
         ],
         "name": "Time Step 65"
        },
        {
         "data": [
          {
           "name": "Time Step 66",
           "type": "bar",
           "x": [
            0,
            1,
            2,
            3,
            4,
            5,
            6,
            7,
            8,
            9,
            10,
            11,
            12,
            13,
            14,
            15,
            16,
            17,
            18,
            19,
            20
           ],
           "y": [
            0.2213544319600712,
            0,
            0.027205586404372678,
            0,
            0.05180596156052728,
            0,
            0.07140322810213727,
            0,
            0.08403315021691932,
            0,
            0.0883952835119445,
            0,
            0.08403315021691932,
            0,
            0.07140322810213727,
            0,
            0.05180596156052728,
            0,
            0.027205586404372678,
            0,
            0.2213544319600712
           ]
          }
         ],
         "name": "Time Step 66"
        },
        {
         "data": [
          {
           "name": "Time Step 67",
           "type": "bar",
           "x": [
            0,
            1,
            2,
            3,
            4,
            5,
            6,
            7,
            8,
            9,
            10,
            11,
            12,
            13,
            14,
            15,
            16,
            17,
            18,
            19,
            20
           ],
           "y": [
            0.2213544319600712,
            0.013602793202186339,
            0,
            0.039505773982449977,
            0,
            0.06160459483133228,
            0,
            0.0777181891595283,
            0,
            0.08621421686443191,
            0,
            0.08621421686443191,
            0,
            0.0777181891595283,
            0,
            0.06160459483133228,
            0,
            0.039505773982449977,
            0,
            0.013602793202186339,
            0.2213544319600712
           ]
          }
         ],
         "name": "Time Step 67"
        },
        {
         "data": [
          {
           "name": "Time Step 68",
           "type": "bar",
           "x": [
            0,
            1,
            2,
            3,
            4,
            5,
            6,
            7,
            8,
            9,
            10,
            11,
            12,
            13,
            14,
            15,
            16,
            17,
            18,
            19,
            20
           ],
           "y": [
            0.22815582856116437,
            0,
            0.026554283592318158,
            0,
            0.05055518440689113,
            0,
            0.06966139199543028,
            0,
            0.0819662030119801,
            0,
            0.08621421686443191,
            0,
            0.0819662030119801,
            0,
            0.06966139199543028,
            0,
            0.05055518440689113,
            0,
            0.026554283592318158,
            0,
            0.22815582856116437
           ]
          }
         ],
         "name": "Time Step 68"
        },
        {
         "data": [
          {
           "name": "Time Step 69",
           "type": "bar",
           "x": [
            0,
            1,
            2,
            3,
            4,
            5,
            6,
            7,
            8,
            9,
            10,
            11,
            12,
            13,
            14,
            15,
            16,
            17,
            18,
            19,
            20
           ],
           "y": [
            0.22815582856116437,
            0.013277141796159079,
            0,
            0.03855473399960464,
            0,
            0.06010828820116071,
            0,
            0.07581379750370519,
            0,
            0.08409020993820601,
            0,
            0.08409020993820601,
            0,
            0.07581379750370519,
            0,
            0.06010828820116071,
            0,
            0.03855473399960464,
            0,
            0.013277141796159079,
            0.22815582856116437
           ]
          }
         ],
         "name": "Time Step 69"
        },
        {
         "data": [
          {
           "name": "Time Step 70",
           "type": "bar",
           "x": [
            0,
            1,
            2,
            3,
            4,
            5,
            6,
            7,
            8,
            9,
            10,
            11,
            12,
            13,
            14,
            15,
            16,
            17,
            18,
            19,
            20
           ],
           "y": [
            0.2347943994592439,
            0,
            0.02591593789788186,
            0,
            0.049331511100382676,
            0,
            0.06796104285243296,
            0,
            0.0799520037209556,
            0,
            0.08409020993820601,
            0,
            0.0799520037209556,
            0,
            0.06796104285243296,
            0,
            0.049331511100382676,
            0,
            0.02591593789788186,
            0,
            0.2347943994592439
           ]
          }
         ],
         "name": "Time Step 70"
        },
        {
         "data": [
          {
           "name": "Time Step 71",
           "type": "bar",
           "x": [
            0,
            1,
            2,
            3,
            4,
            5,
            6,
            7,
            8,
            9,
            10,
            11,
            12,
            13,
            14,
            15,
            16,
            17,
            18,
            19,
            20
           ],
           "y": [
            0.2347943994592439,
            0.01295796894894093,
            0,
            0.03762372449913227,
            0,
            0.05864627697640781,
            0,
            0.07395652328669428,
            0,
            0.0820211068295808,
            0,
            0.0820211068295808,
            0,
            0.07395652328669428,
            0,
            0.05864627697640781,
            0,
            0.03762372449913227,
            0,
            0.01295796894894093,
            0.2347943994592439
           ]
          }
         ],
         "name": "Time Step 71"
        },
        {
         "data": [
          {
           "name": "Time Step 72",
           "type": "bar",
           "x": [
            0,
            1,
            2,
            3,
            4,
            5,
            6,
            7,
            8,
            9,
            10,
            11,
            12,
            13,
            14,
            15,
            16,
            17,
            18,
            19,
            20
           ],
           "y": [
            0.24127338393371436,
            0,
            0.0252908467240366,
            0,
            0.04813500073777004,
            0,
            0.06630140013155104,
            0,
            0.07798881505813754,
            0,
            0.0820211068295808,
            0,
            0.07798881505813754,
            0,
            0.06630140013155104,
            0,
            0.04813500073777004,
            0,
            0.0252908467240366,
            0,
            0.24127338393371436
           ]
          }
         ],
         "name": "Time Step 72"
        },
        {
         "data": [
          {
           "name": "Time Step 73",
           "type": "bar",
           "x": [
            0,
            1,
            2,
            3,
            4,
            5,
            6,
            7,
            8,
            9,
            10,
            11,
            12,
            13,
            14,
            15,
            16,
            17,
            18,
            19,
            20
           ],
           "y": [
            0.24127338393371436,
            0.0126454233620183,
            0,
            0.03671292373090332,
            0,
            0.05721820043466054,
            0,
            0.0721451075948443,
            0,
            0.08000496094385917,
            0,
            0.08000496094385917,
            0,
            0.0721451075948443,
            0,
            0.05721820043466054,
            0,
            0.03671292373090332,
            0,
            0.0126454233620183,
            0.24127338393371436
           ]
          }
         ],
         "name": "Time Step 73"
        },
        {
         "data": [
          {
           "name": "Time Step 74",
           "type": "bar",
           "x": [
            0,
            1,
            2,
            3,
            4,
            5,
            6,
            7,
            8,
            9,
            10,
            11,
            12,
            13,
            14,
            15,
            16,
            17,
            18,
            19,
            20
           ],
           "y": [
            0.2475960956147235,
            0,
            0.02467917354646081,
            0,
            0.04696556208278193,
            0,
            0.06468165401475243,
            0,
            0.07607503426935174,
            0,
            0.08000496094385917,
            0,
            0.07607503426935174,
            0,
            0.06468165401475243,
            0,
            0.04696556208278193,
            0,
            0.02467917354646081,
            0,
            0.2475960956147235
           ]
          }
         ],
         "name": "Time Step 74"
        },
        {
         "data": [
          {
           "name": "Time Step 75",
           "type": "bar",
           "x": [
            0,
            1,
            2,
            3,
            4,
            5,
            6,
            7,
            8,
            9,
            10,
            11,
            12,
            13,
            14,
            15,
            16,
            17,
            18,
            19,
            20
           ],
           "y": [
            0.2475960956147235,
            0.012339586773230405,
            0,
            0.03582236781462137,
            0,
            0.05582360804876718,
            0,
            0.07037834414205207,
            0,
            0.07803999760660546,
            0,
            0.07803999760660546,
            0,
            0.07037834414205207,
            0,
            0.05582360804876718,
            0,
            0.03582236781462137,
            0,
            0.012339586773230405,
            0.2475960956147235
           ]
          }
         ],
         "name": "Time Step 75"
        },
        {
         "data": [
          {
           "name": "Time Step 76",
           "type": "bar",
           "x": [
            0,
            1,
            2,
            3,
            4,
            5,
            6,
            7,
            8,
            9,
            10,
            11,
            12,
            13,
            14,
            15,
            16,
            17,
            18,
            19,
            20
           ],
           "y": [
            0.25376588900133873,
            0,
            0.024080977293925887,
            0,
            0.04582298793169427,
            0,
            0.06310097609540963,
            0,
            0.07420917087432877,
            0,
            0.07803999760660546,
            0,
            0.07420917087432877,
            0,
            0.06310097609540963,
            0,
            0.04582298793169427,
            0,
            0.024080977293925887,
            0,
            0.25376588900133873
           ]
          }
         ],
         "name": "Time Step 76"
        },
        {
         "data": [
          {
           "name": "Time Step 77",
           "type": "bar",
           "x": [
            0,
            1,
            2,
            3,
            4,
            5,
            6,
            7,
            8,
            9,
            10,
            11,
            12,
            13,
            14,
            15,
            16,
            17,
            18,
            19,
            20
           ],
           "y": [
            0.25376588900133873,
            0.012040488646962944,
            0,
            0.03495198261281008,
            0,
            0.05446198201355195,
            0,
            0.0686550734848692,
            0,
            0.07612458424046711,
            0,
            0.07612458424046711,
            0,
            0.0686550734848692,
            0,
            0.05446198201355195,
            0,
            0.03495198261281008,
            0,
            0.012040488646962944,
            0.25376588900133873
           ]
          }
         ],
         "name": "Time Step 77"
        },
        {
         "data": [
          {
           "name": "Time Step 78",
           "type": "bar",
           "x": [
            0,
            1,
            2,
            3,
            4,
            5,
            6,
            7,
            8,
            9,
            10,
            11,
            12,
            13,
            14,
            15,
            16,
            17,
            18,
            19,
            20
           ],
           "y": [
            0.2597861333248202,
            0,
            0.023496235629886512,
            0,
            0.044706982313181015,
            0,
            0.06155852774921057,
            0,
            0.07238982886266815,
            0,
            0.07612458424046711,
            0,
            0.07238982886266815,
            0,
            0.06155852774921057,
            0,
            0.044706982313181015,
            0,
            0.023496235629886512,
            0,
            0.2597861333248202
           ]
          }
         ],
         "name": "Time Step 78"
        },
        {
         "data": [
          {
           "name": "Time Step 79",
           "type": "bar",
           "x": [
            0,
            1,
            2,
            3,
            4,
            5,
            6,
            7,
            8,
            9,
            10,
            11,
            12,
            13,
            14,
            15,
            16,
            17,
            18,
            19,
            20
           ],
           "y": [
            0.2597861333248202,
            0.011748117814943256,
            0,
            0.03410160897153376,
            0,
            0.05313275503119579,
            0,
            0.06697417830593935,
            0,
            0.07425720655156763,
            0,
            0.07425720655156763,
            0,
            0.06697417830593935,
            0,
            0.05313275503119579,
            0,
            0.03410160897153376,
            0,
            0.011748117814943256,
            0.2597861333248202
           ]
          }
         ],
         "name": "Time Step 79"
        },
        {
         "data": [
          {
           "name": "Time Step 80",
           "type": "bar",
           "x": [
            0,
            1,
            2,
            3,
            4,
            5,
            6,
            7,
            8,
            9,
            10,
            11,
            12,
            13,
            14,
            15,
            16,
            17,
            18,
            19,
            20
           ],
           "y": [
            0.2656601922322918,
            0,
            0.022924863393238508,
            0,
            0.043617182001364774,
            0,
            0.060053466668567576,
            0,
            0.07061569242875348,
            0,
            0.07425720655156763,
            0,
            0.07061569242875348,
            0,
            0.060053466668567576,
            0,
            0.043617182001364774,
            0,
            0.022924863393238508,
            0,
            0.2656601922322918
           ]
          }
         ],
         "name": "Time Step 80"
        },
        {
         "data": [
          {
           "name": "Time Step 81",
           "type": "bar",
           "x": [
            0,
            1,
            2,
            3,
            4,
            5,
            6,
            7,
            8,
            9,
            10,
            11,
            12,
            13,
            14,
            15,
            16,
            17,
            18,
            19,
            20
           ],
           "y": [
            0.2656601922322918,
            0.011462431696619254,
            0,
            0.033271022697301644,
            0,
            0.051835324334966175,
            0,
            0.06533457954866054,
            0,
            0.07243644949016056,
            0,
            0.07243644949016056,
            0,
            0.06533457954866054,
            0,
            0.051835324334966175,
            0,
            0.033271022697301644,
            0,
            0.011462431696619254,
            0.2656601922322918
           ]
          }
         ],
         "name": "Time Step 81"
        },
        {
         "data": [
          {
           "name": "Time Step 82",
           "type": "bar",
           "x": [
            0,
            1,
            2,
            3,
            4,
            5,
            6,
            7,
            8,
            9,
            10,
            11,
            12,
            13,
            14,
            15,
            16,
            17,
            18,
            19,
            20
           ],
           "y": [
            0.2713914080806014,
            0,
            0.02236672719696045,
            0,
            0.04255317351613391,
            0,
            0.05858495194181336,
            0,
            0.06888551451941055,
            0,
            0.07243644949016056,
            0,
            0.06888551451941055,
            0,
            0.05858495194181336,
            0,
            0.04255317351613391,
            0,
            0.02236672719696045,
            0,
            0.2713914080806014
           ]
          }
         ],
         "name": "Time Step 82"
        },
        {
         "data": [
          {
           "name": "Time Step 83",
           "type": "bar",
           "x": [
            0,
            1,
            2,
            3,
            4,
            5,
            6,
            7,
            8,
            9,
            10,
            11,
            12,
            13,
            14,
            15,
            16,
            17,
            18,
            19,
            20
           ],
           "y": [
            0.2713914080806014,
            0.011183363598480225,
            0,
            0.03245995035654718,
            0,
            0.050569062728973636,
            0,
            0.06373523323061195,
            0,
            0.07066098200478556,
            0,
            0.07066098200478556,
            0,
            0.06373523323061195,
            0,
            0.050569062728973636,
            0,
            0.03245995035654718,
            0,
            0.011183363598480225,
            0.2713914080806014
           ]
          }
         ],
         "name": "Time Step 83"
        },
        {
         "data": [
          {
           "name": "Time Step 84",
           "type": "bar",
           "x": [
            0,
            1,
            2,
            3,
            4,
            5,
            6,
            7,
            8,
            9,
            10,
            11,
            12,
            13,
            14,
            15,
            16,
            17,
            18,
            19,
            20
           ],
           "y": [
            0.27698308987984155,
            0,
            0.021821656977513704,
            0,
            0.04151450654276041,
            0,
            0.05715214797979279,
            0,
            0.06719810761769876,
            0,
            0.07066098200478556,
            0,
            0.06719810761769876,
            0,
            0.05715214797979279,
            0,
            0.04151450654276041,
            0,
            0.021821656977513704,
            0,
            0.27698308987984155
           ]
          }
         ],
         "name": "Time Step 84"
        },
        {
         "data": [
          {
           "name": "Time Step 85",
           "type": "bar",
           "x": [
            0,
            1,
            2,
            3,
            4,
            5,
            6,
            7,
            8,
            9,
            10,
            11,
            12,
            13,
            14,
            15,
            16,
            17,
            18,
            19,
            20
           ],
           "y": [
            0.27698308987984155,
            0.010910828488756852,
            0,
            0.03166808176013706,
            0,
            0.0493333272612766,
            0,
            0.062175127798745775,
            0,
            0.06892954481124217,
            0,
            0.06892954481124217,
            0,
            0.062175127798745775,
            0,
            0.0493333272612766,
            0,
            0.03166808176013706,
            0,
            0.010910828488756852,
            0.27698308987984155
           ]
          }
         ],
         "name": "Time Step 85"
        },
        {
         "data": [
          {
           "name": "Time Step 86",
           "type": "bar",
           "x": [
            0,
            1,
            2,
            3,
            4,
            5,
            6,
            7,
            8,
            9,
            10,
            11,
            12,
            13,
            14,
            15,
            16,
            17,
            18,
            19,
            20
           ],
           "y": [
            0.28243850412422,
            0,
            0.021289455124446955,
            0,
            0.04050070451070683,
            0,
            0.05575422753001119,
            0,
            0.06555233630499396,
            0,
            0.06892954481124217,
            0,
            0.06555233630499396,
            0,
            0.05575422753001119,
            0,
            0.04050070451070683,
            0,
            0.021289455124446955,
            0,
            0.28243850412422
           ]
          }
         ],
         "name": "Time Step 86"
        },
        {
         "data": [
          {
           "name": "Time Step 87",
           "type": "bar",
           "x": [
            0,
            1,
            2,
            3,
            4,
            5,
            6,
            7,
            8,
            9,
            10,
            11,
            12,
            13,
            14,
            15,
            16,
            17,
            18,
            19,
            20
           ],
           "y": [
            0.28243850412422,
            0.010644727562223478,
            0,
            0.030895079817576894,
            0,
            0.048127466020359014,
            0,
            0.06065328191750258,
            0,
            0.06724094055811806,
            0,
            0.06724094055811806,
            0,
            0.06065328191750258,
            0,
            0.048127466020359014,
            0,
            0.030895079817576894,
            0,
            0.010644727562223478,
            0.28243850412422
           ]
          }
         ],
         "name": "Time Step 87"
        },
        {
         "data": [
          {
           "name": "Time Step 88",
           "type": "bar",
           "x": [
            0,
            1,
            2,
            3,
            4,
            5,
            6,
            7,
            8,
            9,
            10,
            11,
            12,
            13,
            14,
            15,
            16,
            17,
            18,
            19,
            20
           ],
           "y": [
            0.28776086790533173,
            0,
            0.020769903689900185,
            0,
            0.03951127291896796,
            0,
            0.054390373968930796,
            0,
            0.06394711123781033,
            0,
            0.06724094055811806,
            0,
            0.06394711123781033,
            0,
            0.054390373968930796,
            0,
            0.03951127291896796,
            0,
            0.020769903689900185,
            0,
            0.28776086790533173
           ]
          }
         ],
         "name": "Time Step 88"
        },
        {
         "data": [
          {
           "name": "Time Step 89",
           "type": "bar",
           "x": [
            0,
            1,
            2,
            3,
            4,
            5,
            6,
            7,
            8,
            9,
            10,
            11,
            12,
            13,
            14,
            15,
            16,
            17,
            18,
            19,
            20
           ],
           "y": [
            0.28776086790533173,
            0.010384951844950092,
            0,
            0.03014058830443407,
            0,
            0.04695082344394938,
            0,
            0.05916874260337056,
            0,
            0.0655940258979642,
            0,
            0.0655940258979642,
            0,
            0.05916874260337056,
            0,
            0.04695082344394938,
            0,
            0.03014058830443407,
            0,
            0.010384951844950092,
            0.28776086790533173
           ]
          }
         ],
         "name": "Time Step 89"
        },
        {
         "data": [
          {
           "name": "Time Step 90",
           "type": "bar",
           "x": [
            0,
            1,
            2,
            3,
            4,
            5,
            6,
            7,
            8,
            9,
            10,
            11,
            12,
            13,
            14,
            15,
            16,
            17,
            18,
            19,
            20
           ],
           "y": [
            0.2929533438278068,
            0,
            0.020262770074692082,
            0,
            0.038545705874191726,
            0,
            0.05305978302365997,
            0,
            0.06238138425066738,
            0,
            0.0655940258979642,
            0,
            0.06238138425066738,
            0,
            0.05305978302365997,
            0,
            0.038545705874191726,
            0,
            0.020262770074692082,
            0,
            0.2929533438278068
           ]
          }
         ],
         "name": "Time Step 90"
        },
        {
         "data": [
          {
           "name": "Time Step 91",
           "type": "bar",
           "x": [
            0,
            1,
            2,
            3,
            4,
            5,
            6,
            7,
            8,
            9,
            10,
            11,
            12,
            13,
            14,
            15,
            16,
            17,
            18,
            19,
            20
           ],
           "y": [
            0.2929533438278068,
            0.010131385037346041,
            0,
            0.029404237974441902,
            0,
            0.04580274444892585,
            0,
            0.057720583637163675,
            0,
            0.0639877050743158,
            0,
            0.0639877050743158,
            0,
            0.057720583637163675,
            0,
            0.04580274444892585,
            0,
            0.029404237974441902,
            0,
            0.010131385037346041,
            0.2929533438278068
           ]
          }
         ],
         "name": "Time Step 91"
        },
        {
         "data": [
          {
           "name": "Time Step 92",
           "type": "bar",
           "x": [
            0,
            1,
            2,
            3,
            4,
            5,
            6,
            7,
            8,
            9,
            10,
            11,
            12,
            13,
            14,
            15,
            16,
            17,
            18,
            19,
            20
           ],
           "y": [
            0.2980190363464798,
            0,
            0.019767811505893972,
            0,
            0.037603491211683875,
            0,
            0.05176166404304476,
            0,
            0.060854144355739735,
            0,
            0.0639877050743158,
            0,
            0.060854144355739735,
            0,
            0.05176166404304476,
            0,
            0.037603491211683875,
            0,
            0.019767811505893972,
            0,
            0.2980190363464798
           ]
          }
         ],
         "name": "Time Step 92"
        },
        {
         "data": [
          {
           "name": "Time Step 93",
           "type": "bar",
           "x": [
            0,
            1,
            2,
            3,
            4,
            5,
            6,
            7,
            8,
            9,
            10,
            11,
            12,
            13,
            14,
            15,
            16,
            17,
            18,
            19,
            20
           ],
           "y": [
            0.2980190363464798,
            0.009883905752946986,
            0,
            0.02868565135878892,
            0,
            0.044682577627364314,
            0,
            0.056307904199392245,
            0,
            0.06242092471502776,
            0,
            0.06242092471502776,
            0,
            0.056307904199392245,
            0,
            0.044682577627364314,
            0,
            0.02868565135878892,
            0,
            0.009883905752946986,
            0.2980190363464798
           ]
          }
         ],
         "name": "Time Step 93"
        },
        {
         "data": [
          {
           "name": "Time Step 94",
           "type": "bar",
           "x": [
            0,
            1,
            2,
            3,
            4,
            5,
            6,
            7,
            8,
            9,
            10,
            11,
            12,
            13,
            14,
            15,
            16,
            17,
            18,
            19,
            20
           ],
           "y": [
            0.3029609892229533,
            0,
            0.019284778555867955,
            0,
            0.03668411449307662,
            0,
            0.05049524091337828,
            0,
            0.05936441445721,
            0,
            0.06242092471502776,
            0,
            0.05936441445721,
            0,
            0.05049524091337828,
            0,
            0.03668411449307662,
            0,
            0.019284778555867955,
            0,
            0.3029609892229533
           ]
          }
         ],
         "name": "Time Step 94"
        },
        {
         "data": [
          {
           "name": "Time Step 95",
           "type": "bar",
           "x": [
            0,
            1,
            2,
            3,
            4,
            5,
            6,
            7,
            8,
            9,
            10,
            11,
            12,
            13,
            14,
            15,
            16,
            17,
            18,
            19,
            20
           ],
           "y": [
            0.3029609892229533,
            0.009642389277933977,
            0,
            0.027984446524472288,
            0,
            0.04358967770322745,
            0,
            0.05492982768529414,
            0,
            0.060892669586118886,
            0,
            0.060892669586118886,
            0,
            0.05492982768529414,
            0,
            0.04358967770322745,
            0,
            0.027984446524472288,
            0,
            0.009642389277933977,
            0.3029609892229533
           ]
          }
         ],
         "name": "Time Step 95"
        },
        {
         "data": [
          {
           "name": "Time Step 96",
           "type": "bar",
           "x": [
            0,
            1,
            2,
            3,
            4,
            5,
            6,
            7,
            8,
            9,
            10,
            11,
            12,
            13,
            14,
            15,
            16,
            17,
            18,
            19,
            20
           ],
           "y": [
            0.30778218386192024,
            0,
            0.018813417901203132,
            0,
            0.03578706211384987,
            0,
            0.04925975269426079,
            0,
            0.057911248635706514,
            0,
            0.060892669586118886,
            0,
            0.057911248635706514,
            0,
            0.04925975269426079,
            0,
            0.03578706211384987,
            0,
            0.018813417901203132,
            0,
            0.30778218386192024
           ]
          }
         ],
         "name": "Time Step 96"
        },
        {
         "data": [
          {
           "name": "Time Step 97",
           "type": "bar",
           "x": [
            0,
            1,
            2,
            3,
            4,
            5,
            6,
            7,
            8,
            9,
            10,
            11,
            12,
            13,
            14,
            15,
            16,
            17,
            18,
            19,
            20
           ],
           "y": [
            0.30778218386192024,
            0.009406708950601566,
            0,
            0.0273002400075265,
            0,
            0.04252340740405533,
            0,
            0.05358550066498365,
            0,
            0.0594019591109127,
            0,
            0.0594019591109127,
            0,
            0.05358550066498365,
            0,
            0.04252340740405533,
            0,
            0.0273002400075265,
            0,
            0.009406708950601566,
            0.30778218386192024
           ]
          }
         ],
         "name": "Time Step 97"
        },
        {
         "data": [
          {
           "name": "Time Step 98",
           "type": "bar",
           "x": [
            0,
            1,
            2,
            3,
            4,
            5,
            6,
            7,
            8,
            9,
            10,
            11,
            12,
            13,
            14,
            15,
            16,
            17,
            18,
            19,
            20
           ],
           "y": [
            0.31248553833722104,
            0,
            0.018353474479064033,
            0,
            0.03491182370579091,
            0,
            0.048054454034519495,
            0,
            0.05649372988794818,
            0,
            0.0594019591109127,
            0,
            0.05649372988794818,
            0,
            0.048054454034519495,
            0,
            0.03491182370579091,
            0,
            0.018353474479064033,
            0,
            0.31248553833722104
           ]
          }
         ],
         "name": "Time Step 98"
        },
        {
         "data": [
          {
           "name": "Time Step 99",
           "type": "bar",
           "x": [
            0,
            1,
            2,
            3,
            4,
            5,
            6,
            7,
            8,
            9,
            10,
            11,
            12,
            13,
            14,
            15,
            16,
            17,
            18,
            19,
            20
           ],
           "y": [
            0.31248553833722104,
            0.009176737239532017,
            0,
            0.026632649092427473,
            0,
            0.0414831388701552,
            0,
            0.05227409196123384,
            0,
            0.05794784449943044,
            0,
            0.05794784449943044,
            0,
            0.05227409196123384,
            0,
            0.0414831388701552,
            0,
            0.026632649092427473,
            0,
            0.009176737239532017,
            0.31248553833722104
           ]
          }
         ],
         "name": "Time Step 99"
        },
        {
         "data": [
          {
           "name": "Time Step 100",
           "type": "bar",
           "x": [
            0,
            1,
            2,
            3,
            4,
            5,
            6,
            7,
            8,
            9,
            10,
            11,
            12,
            13,
            14,
            15,
            16,
            17,
            18,
            19,
            20
           ],
           "y": [
            0.31707390695698706,
            0,
            0.017904693165979743,
            0,
            0.03405789398129134,
            0,
            0.04687861541569452,
            0,
            0.05511096823033214,
            0,
            0.05794784449943044,
            0,
            0.05511096823033214,
            0,
            0.04687861541569452,
            0,
            0.03405789398129134,
            0,
            0.017904693165979743,
            0,
            0.31707390695698706
           ]
          }
         ],
         "name": "Time Step 100"
        },
        {
         "data": [
          {
           "name": "Time Step 101",
           "type": "bar",
           "x": [
            0,
            1,
            2,
            3,
            4,
            5,
            6,
            7,
            8,
            9,
            10,
            11,
            12,
            13,
            14,
            15,
            16,
            17,
            18,
            19,
            20
           ],
           "y": [
            0.31707390695698706,
            0.008952346582989872,
            0,
            0.02598129357363554,
            0,
            0.040468254698492925,
            0,
            0.05099479182301333,
            0,
            0.05652940636488129,
            0,
            0.05652940636488129,
            0,
            0.05099479182301333,
            0,
            0.040468254698492925,
            0,
            0.02598129357363554,
            0,
            0.008952346582989872,
            0.31707390695698706
           ]
          }
         ],
         "name": "Time Step 101"
        },
        {
         "data": [
          {
           "name": "Time Step 102",
           "type": "bar",
           "x": [
            0,
            1,
            2,
            3,
            4,
            5,
            6,
            7,
            8,
            9,
            10,
            11,
            12,
            13,
            14,
            15,
            16,
            17,
            18,
            19,
            20
           ],
           "y": [
            0.321550080248482,
            0,
            0.017466820078312705,
            0,
            0.033224774136064235,
            0,
            0.045731523260753124,
            0,
            0.05376209909394731,
            0,
            0.05652940636488129,
            0,
            0.05376209909394731,
            0,
            0.045731523260753124,
            0,
            0.033224774136064235,
            0,
            0.017466820078312705,
            0,
            0.321550080248482
           ]
          }
         ],
         "name": "Time Step 102"
        },
        {
         "data": [
          {
           "name": "Time Step 103",
           "type": "bar",
           "x": [
            0,
            1,
            2,
            3,
            4,
            5,
            6,
            7,
            8,
            9,
            10,
            11,
            12,
            13,
            14,
            15,
            16,
            17,
            18,
            19,
            20
           ],
           "y": [
            0.321550080248482,
            0.008733410039156352,
            0,
            0.02534579710718847,
            0,
            0.03947814869840868,
            0,
            0.04974681117735022,
            0,
            0.0551457527294143,
            0,
            0.0551457527294143,
            0,
            0.04974681117735022,
            0,
            0.03947814869840868,
            0,
            0.02534579710718847,
            0,
            0.008733410039156352,
            0.321550080248482
           ]
          }
         ],
         "name": "Time Step 103"
        },
        {
         "data": [
          {
           "name": "Time Step 104",
           "type": "bar",
           "x": [
            0,
            1,
            2,
            3,
            4,
            5,
            6,
            7,
            8,
            9,
            10,
            11,
            12,
            13,
            14,
            15,
            16,
            17,
            18,
            19,
            20
           ],
           "y": [
            0.32591678526806017,
            0,
            0.017039603573172413,
            0,
            0.032411972902798576,
            0,
            0.04461247993787945,
            0,
            0.05244628195338226,
            0,
            0.0551457527294143,
            0,
            0.05244628195338226,
            0,
            0.04461247993787945,
            0,
            0.032411972902798576,
            0,
            0.017039603573172413,
            0,
            0.32591678526806017
           ]
          }
         ],
         "name": "Time Step 104"
        },
        {
         "data": [
          {
           "name": "Time Step 105",
           "type": "bar",
           "x": [
            0,
            1,
            2,
            3,
            4,
            5,
            6,
            7,
            8,
            9,
            10,
            11,
            12,
            13,
            14,
            15,
            16,
            17,
            18,
            19,
            20
           ],
           "y": [
            0.32591678526806017,
            0.008519801786586206,
            0,
            0.024725788237985494,
            0,
            0.03851222642033901,
            0,
            0.048529380945630855,
            0,
            0.05379601734139828,
            0,
            0.05379601734139828,
            0,
            0.048529380945630855,
            0,
            0.03851222642033901,
            0,
            0.024725788237985494,
            0,
            0.008519801786586206,
            0.32591678526806017
           ]
          }
         ],
         "name": "Time Step 105"
        },
        {
         "data": [
          {
           "name": "Time Step 106",
           "type": "bar",
           "x": [
            0,
            1,
            2,
            3,
            4,
            5,
            6,
            7,
            8,
            9,
            10,
            11,
            12,
            13,
            14,
            15,
            16,
            17,
            18,
            19,
            20
           ],
           "y": [
            0.33017668616135326,
            0,
            0.01662279501228585,
            0,
            0.03161900732916225,
            0,
            0.04352080368298493,
            0,
            0.05116269914351457,
            0,
            0.05379601734139828,
            0,
            0.05116269914351457,
            0,
            0.04352080368298493,
            0,
            0.03161900732916225,
            0,
            0.01662279501228585,
            0,
            0.33017668616135326
           ]
          }
         ],
         "name": "Time Step 106"
        },
        {
         "data": [
          {
           "name": "Time Step 107",
           "type": "bar",
           "x": [
            0,
            1,
            2,
            3,
            4,
            5,
            6,
            7,
            8,
            9,
            10,
            11,
            12,
            13,
            14,
            15,
            16,
            17,
            18,
            19,
            20
           ],
           "y": [
            0.33017668616135326,
            0.008311397506142924,
            0,
            0.02412090117072405,
            0,
            0.037569905506073586,
            0,
            0.04734175141324975,
            0,
            0.05247935824245642,
            0,
            0.05247935824245642,
            0,
            0.04734175141324975,
            0,
            0.037569905506073586,
            0,
            0.02412090117072405,
            0,
            0.008311397506142924,
            0.33017668616135326
           ]
          }
         ],
         "name": "Time Step 107"
        },
        {
         "data": [
          {
           "name": "Time Step 108",
           "type": "bar",
           "x": [
            0,
            1,
            2,
            3,
            4,
            5,
            6,
            7,
            8,
            9,
            10,
            11,
            12,
            13,
            14,
            15,
            16,
            17,
            18,
            19,
            20
           ],
           "y": [
            0.33433238491442474,
            0,
            0.01621614933843349,
            0,
            0.030845403338398816,
            0,
            0.04245582845966167,
            0,
            0.04991055482785309,
            0,
            0.05247935824245642,
            0,
            0.04991055482785309,
            0,
            0.04245582845966167,
            0,
            0.030845403338398816,
            0,
            0.01621614933843349,
            0,
            0.33433238491442474
           ]
          }
         ],
         "name": "Time Step 108"
        },
        {
         "data": [
          {
           "name": "Time Step 109",
           "type": "bar",
           "x": [
            0,
            1,
            2,
            3,
            4,
            5,
            6,
            7,
            8,
            9,
            10,
            11,
            12,
            13,
            14,
            15,
            16,
            17,
            18,
            19,
            20
           ],
           "y": [
            0.33433238491442474,
            0.008108074669216744,
            0,
            0.023530776338416153,
            0,
            0.036650615899030244,
            0,
            0.04618319164375738,
            0,
            0.051194956535154754,
            0,
            0.051194956535154754,
            0,
            0.04618319164375738,
            0,
            0.036650615899030244,
            0,
            0.023530776338416153,
            0,
            0.008108074669216744,
            0.33433238491442474
           ]
          }
         ],
         "name": "Time Step 109"
        },
        {
         "data": [
          {
           "name": "Time Step 110",
           "type": "bar",
           "x": [
            0,
            1,
            2,
            3,
            4,
            5,
            6,
            7,
            8,
            9,
            10,
            11,
            12,
            13,
            14,
            15,
            16,
            17,
            18,
            19,
            20
           ],
           "y": [
            0.3383864222490331,
            0,
            0.01581942550381645,
            0,
            0.030090696118723198,
            0,
            0.041416903771393815,
            0,
            0.048689074089456066,
            0,
            0.051194956535154754,
            0,
            0.048689074089456066,
            0,
            0.041416903771393815,
            0,
            0.030090696118723198,
            0,
            0.01581942550381645,
            0,
            0.3383864222490331
           ]
          }
         ],
         "name": "Time Step 110"
        }
       ],
       "layout": {
        "sliders": [
         {
          "active": 0,
          "currentvalue": {
           "font": {
            "size": 20
           },
           "prefix": "Time Step:",
           "visible": true,
           "xanchor": "right"
          },
          "len": 0.9,
          "pad": {
           "b": 10,
           "t": 50
          },
          "steps": [
           {
            "args": [
             [
              "Time Step 0"
             ],
             {
              "frame": {
               "duration": 0,
               "redraw": true
              },
              "mode": "immediate"
             }
            ],
            "label": "Time Step 0",
            "method": "animate"
           },
           {
            "args": [
             [
              "Time Step 1"
             ],
             {
              "frame": {
               "duration": 0,
               "redraw": true
              },
              "mode": "immediate"
             }
            ],
            "label": "Time Step 1",
            "method": "animate"
           },
           {
            "args": [
             [
              "Time Step 2"
             ],
             {
              "frame": {
               "duration": 0,
               "redraw": true
              },
              "mode": "immediate"
             }
            ],
            "label": "Time Step 2",
            "method": "animate"
           },
           {
            "args": [
             [
              "Time Step 3"
             ],
             {
              "frame": {
               "duration": 0,
               "redraw": true
              },
              "mode": "immediate"
             }
            ],
            "label": "Time Step 3",
            "method": "animate"
           },
           {
            "args": [
             [
              "Time Step 4"
             ],
             {
              "frame": {
               "duration": 0,
               "redraw": true
              },
              "mode": "immediate"
             }
            ],
            "label": "Time Step 4",
            "method": "animate"
           },
           {
            "args": [
             [
              "Time Step 5"
             ],
             {
              "frame": {
               "duration": 0,
               "redraw": true
              },
              "mode": "immediate"
             }
            ],
            "label": "Time Step 5",
            "method": "animate"
           },
           {
            "args": [
             [
              "Time Step 6"
             ],
             {
              "frame": {
               "duration": 0,
               "redraw": true
              },
              "mode": "immediate"
             }
            ],
            "label": "Time Step 6",
            "method": "animate"
           },
           {
            "args": [
             [
              "Time Step 7"
             ],
             {
              "frame": {
               "duration": 0,
               "redraw": true
              },
              "mode": "immediate"
             }
            ],
            "label": "Time Step 7",
            "method": "animate"
           },
           {
            "args": [
             [
              "Time Step 8"
             ],
             {
              "frame": {
               "duration": 0,
               "redraw": true
              },
              "mode": "immediate"
             }
            ],
            "label": "Time Step 8",
            "method": "animate"
           },
           {
            "args": [
             [
              "Time Step 9"
             ],
             {
              "frame": {
               "duration": 0,
               "redraw": true
              },
              "mode": "immediate"
             }
            ],
            "label": "Time Step 9",
            "method": "animate"
           },
           {
            "args": [
             [
              "Time Step 10"
             ],
             {
              "frame": {
               "duration": 0,
               "redraw": true
              },
              "mode": "immediate"
             }
            ],
            "label": "Time Step 10",
            "method": "animate"
           },
           {
            "args": [
             [
              "Time Step 11"
             ],
             {
              "frame": {
               "duration": 0,
               "redraw": true
              },
              "mode": "immediate"
             }
            ],
            "label": "Time Step 11",
            "method": "animate"
           },
           {
            "args": [
             [
              "Time Step 12"
             ],
             {
              "frame": {
               "duration": 0,
               "redraw": true
              },
              "mode": "immediate"
             }
            ],
            "label": "Time Step 12",
            "method": "animate"
           },
           {
            "args": [
             [
              "Time Step 13"
             ],
             {
              "frame": {
               "duration": 0,
               "redraw": true
              },
              "mode": "immediate"
             }
            ],
            "label": "Time Step 13",
            "method": "animate"
           },
           {
            "args": [
             [
              "Time Step 14"
             ],
             {
              "frame": {
               "duration": 0,
               "redraw": true
              },
              "mode": "immediate"
             }
            ],
            "label": "Time Step 14",
            "method": "animate"
           },
           {
            "args": [
             [
              "Time Step 15"
             ],
             {
              "frame": {
               "duration": 0,
               "redraw": true
              },
              "mode": "immediate"
             }
            ],
            "label": "Time Step 15",
            "method": "animate"
           },
           {
            "args": [
             [
              "Time Step 16"
             ],
             {
              "frame": {
               "duration": 0,
               "redraw": true
              },
              "mode": "immediate"
             }
            ],
            "label": "Time Step 16",
            "method": "animate"
           },
           {
            "args": [
             [
              "Time Step 17"
             ],
             {
              "frame": {
               "duration": 0,
               "redraw": true
              },
              "mode": "immediate"
             }
            ],
            "label": "Time Step 17",
            "method": "animate"
           },
           {
            "args": [
             [
              "Time Step 18"
             ],
             {
              "frame": {
               "duration": 0,
               "redraw": true
              },
              "mode": "immediate"
             }
            ],
            "label": "Time Step 18",
            "method": "animate"
           },
           {
            "args": [
             [
              "Time Step 19"
             ],
             {
              "frame": {
               "duration": 0,
               "redraw": true
              },
              "mode": "immediate"
             }
            ],
            "label": "Time Step 19",
            "method": "animate"
           },
           {
            "args": [
             [
              "Time Step 20"
             ],
             {
              "frame": {
               "duration": 0,
               "redraw": true
              },
              "mode": "immediate"
             }
            ],
            "label": "Time Step 20",
            "method": "animate"
           },
           {
            "args": [
             [
              "Time Step 21"
             ],
             {
              "frame": {
               "duration": 0,
               "redraw": true
              },
              "mode": "immediate"
             }
            ],
            "label": "Time Step 21",
            "method": "animate"
           },
           {
            "args": [
             [
              "Time Step 22"
             ],
             {
              "frame": {
               "duration": 0,
               "redraw": true
              },
              "mode": "immediate"
             }
            ],
            "label": "Time Step 22",
            "method": "animate"
           },
           {
            "args": [
             [
              "Time Step 23"
             ],
             {
              "frame": {
               "duration": 0,
               "redraw": true
              },
              "mode": "immediate"
             }
            ],
            "label": "Time Step 23",
            "method": "animate"
           },
           {
            "args": [
             [
              "Time Step 24"
             ],
             {
              "frame": {
               "duration": 0,
               "redraw": true
              },
              "mode": "immediate"
             }
            ],
            "label": "Time Step 24",
            "method": "animate"
           },
           {
            "args": [
             [
              "Time Step 25"
             ],
             {
              "frame": {
               "duration": 0,
               "redraw": true
              },
              "mode": "immediate"
             }
            ],
            "label": "Time Step 25",
            "method": "animate"
           },
           {
            "args": [
             [
              "Time Step 26"
             ],
             {
              "frame": {
               "duration": 0,
               "redraw": true
              },
              "mode": "immediate"
             }
            ],
            "label": "Time Step 26",
            "method": "animate"
           },
           {
            "args": [
             [
              "Time Step 27"
             ],
             {
              "frame": {
               "duration": 0,
               "redraw": true
              },
              "mode": "immediate"
             }
            ],
            "label": "Time Step 27",
            "method": "animate"
           },
           {
            "args": [
             [
              "Time Step 28"
             ],
             {
              "frame": {
               "duration": 0,
               "redraw": true
              },
              "mode": "immediate"
             }
            ],
            "label": "Time Step 28",
            "method": "animate"
           },
           {
            "args": [
             [
              "Time Step 29"
             ],
             {
              "frame": {
               "duration": 0,
               "redraw": true
              },
              "mode": "immediate"
             }
            ],
            "label": "Time Step 29",
            "method": "animate"
           },
           {
            "args": [
             [
              "Time Step 30"
             ],
             {
              "frame": {
               "duration": 0,
               "redraw": true
              },
              "mode": "immediate"
             }
            ],
            "label": "Time Step 30",
            "method": "animate"
           },
           {
            "args": [
             [
              "Time Step 31"
             ],
             {
              "frame": {
               "duration": 0,
               "redraw": true
              },
              "mode": "immediate"
             }
            ],
            "label": "Time Step 31",
            "method": "animate"
           },
           {
            "args": [
             [
              "Time Step 32"
             ],
             {
              "frame": {
               "duration": 0,
               "redraw": true
              },
              "mode": "immediate"
             }
            ],
            "label": "Time Step 32",
            "method": "animate"
           },
           {
            "args": [
             [
              "Time Step 33"
             ],
             {
              "frame": {
               "duration": 0,
               "redraw": true
              },
              "mode": "immediate"
             }
            ],
            "label": "Time Step 33",
            "method": "animate"
           },
           {
            "args": [
             [
              "Time Step 34"
             ],
             {
              "frame": {
               "duration": 0,
               "redraw": true
              },
              "mode": "immediate"
             }
            ],
            "label": "Time Step 34",
            "method": "animate"
           },
           {
            "args": [
             [
              "Time Step 35"
             ],
             {
              "frame": {
               "duration": 0,
               "redraw": true
              },
              "mode": "immediate"
             }
            ],
            "label": "Time Step 35",
            "method": "animate"
           },
           {
            "args": [
             [
              "Time Step 36"
             ],
             {
              "frame": {
               "duration": 0,
               "redraw": true
              },
              "mode": "immediate"
             }
            ],
            "label": "Time Step 36",
            "method": "animate"
           },
           {
            "args": [
             [
              "Time Step 37"
             ],
             {
              "frame": {
               "duration": 0,
               "redraw": true
              },
              "mode": "immediate"
             }
            ],
            "label": "Time Step 37",
            "method": "animate"
           },
           {
            "args": [
             [
              "Time Step 38"
             ],
             {
              "frame": {
               "duration": 0,
               "redraw": true
              },
              "mode": "immediate"
             }
            ],
            "label": "Time Step 38",
            "method": "animate"
           },
           {
            "args": [
             [
              "Time Step 39"
             ],
             {
              "frame": {
               "duration": 0,
               "redraw": true
              },
              "mode": "immediate"
             }
            ],
            "label": "Time Step 39",
            "method": "animate"
           },
           {
            "args": [
             [
              "Time Step 40"
             ],
             {
              "frame": {
               "duration": 0,
               "redraw": true
              },
              "mode": "immediate"
             }
            ],
            "label": "Time Step 40",
            "method": "animate"
           },
           {
            "args": [
             [
              "Time Step 41"
             ],
             {
              "frame": {
               "duration": 0,
               "redraw": true
              },
              "mode": "immediate"
             }
            ],
            "label": "Time Step 41",
            "method": "animate"
           },
           {
            "args": [
             [
              "Time Step 42"
             ],
             {
              "frame": {
               "duration": 0,
               "redraw": true
              },
              "mode": "immediate"
             }
            ],
            "label": "Time Step 42",
            "method": "animate"
           },
           {
            "args": [
             [
              "Time Step 43"
             ],
             {
              "frame": {
               "duration": 0,
               "redraw": true
              },
              "mode": "immediate"
             }
            ],
            "label": "Time Step 43",
            "method": "animate"
           },
           {
            "args": [
             [
              "Time Step 44"
             ],
             {
              "frame": {
               "duration": 0,
               "redraw": true
              },
              "mode": "immediate"
             }
            ],
            "label": "Time Step 44",
            "method": "animate"
           },
           {
            "args": [
             [
              "Time Step 45"
             ],
             {
              "frame": {
               "duration": 0,
               "redraw": true
              },
              "mode": "immediate"
             }
            ],
            "label": "Time Step 45",
            "method": "animate"
           },
           {
            "args": [
             [
              "Time Step 46"
             ],
             {
              "frame": {
               "duration": 0,
               "redraw": true
              },
              "mode": "immediate"
             }
            ],
            "label": "Time Step 46",
            "method": "animate"
           },
           {
            "args": [
             [
              "Time Step 47"
             ],
             {
              "frame": {
               "duration": 0,
               "redraw": true
              },
              "mode": "immediate"
             }
            ],
            "label": "Time Step 47",
            "method": "animate"
           },
           {
            "args": [
             [
              "Time Step 48"
             ],
             {
              "frame": {
               "duration": 0,
               "redraw": true
              },
              "mode": "immediate"
             }
            ],
            "label": "Time Step 48",
            "method": "animate"
           },
           {
            "args": [
             [
              "Time Step 49"
             ],
             {
              "frame": {
               "duration": 0,
               "redraw": true
              },
              "mode": "immediate"
             }
            ],
            "label": "Time Step 49",
            "method": "animate"
           },
           {
            "args": [
             [
              "Time Step 50"
             ],
             {
              "frame": {
               "duration": 0,
               "redraw": true
              },
              "mode": "immediate"
             }
            ],
            "label": "Time Step 50",
            "method": "animate"
           },
           {
            "args": [
             [
              "Time Step 51"
             ],
             {
              "frame": {
               "duration": 0,
               "redraw": true
              },
              "mode": "immediate"
             }
            ],
            "label": "Time Step 51",
            "method": "animate"
           },
           {
            "args": [
             [
              "Time Step 52"
             ],
             {
              "frame": {
               "duration": 0,
               "redraw": true
              },
              "mode": "immediate"
             }
            ],
            "label": "Time Step 52",
            "method": "animate"
           },
           {
            "args": [
             [
              "Time Step 53"
             ],
             {
              "frame": {
               "duration": 0,
               "redraw": true
              },
              "mode": "immediate"
             }
            ],
            "label": "Time Step 53",
            "method": "animate"
           },
           {
            "args": [
             [
              "Time Step 54"
             ],
             {
              "frame": {
               "duration": 0,
               "redraw": true
              },
              "mode": "immediate"
             }
            ],
            "label": "Time Step 54",
            "method": "animate"
           },
           {
            "args": [
             [
              "Time Step 55"
             ],
             {
              "frame": {
               "duration": 0,
               "redraw": true
              },
              "mode": "immediate"
             }
            ],
            "label": "Time Step 55",
            "method": "animate"
           },
           {
            "args": [
             [
              "Time Step 56"
             ],
             {
              "frame": {
               "duration": 0,
               "redraw": true
              },
              "mode": "immediate"
             }
            ],
            "label": "Time Step 56",
            "method": "animate"
           },
           {
            "args": [
             [
              "Time Step 57"
             ],
             {
              "frame": {
               "duration": 0,
               "redraw": true
              },
              "mode": "immediate"
             }
            ],
            "label": "Time Step 57",
            "method": "animate"
           },
           {
            "args": [
             [
              "Time Step 58"
             ],
             {
              "frame": {
               "duration": 0,
               "redraw": true
              },
              "mode": "immediate"
             }
            ],
            "label": "Time Step 58",
            "method": "animate"
           },
           {
            "args": [
             [
              "Time Step 59"
             ],
             {
              "frame": {
               "duration": 0,
               "redraw": true
              },
              "mode": "immediate"
             }
            ],
            "label": "Time Step 59",
            "method": "animate"
           },
           {
            "args": [
             [
              "Time Step 60"
             ],
             {
              "frame": {
               "duration": 0,
               "redraw": true
              },
              "mode": "immediate"
             }
            ],
            "label": "Time Step 60",
            "method": "animate"
           },
           {
            "args": [
             [
              "Time Step 61"
             ],
             {
              "frame": {
               "duration": 0,
               "redraw": true
              },
              "mode": "immediate"
             }
            ],
            "label": "Time Step 61",
            "method": "animate"
           },
           {
            "args": [
             [
              "Time Step 62"
             ],
             {
              "frame": {
               "duration": 0,
               "redraw": true
              },
              "mode": "immediate"
             }
            ],
            "label": "Time Step 62",
            "method": "animate"
           },
           {
            "args": [
             [
              "Time Step 63"
             ],
             {
              "frame": {
               "duration": 0,
               "redraw": true
              },
              "mode": "immediate"
             }
            ],
            "label": "Time Step 63",
            "method": "animate"
           },
           {
            "args": [
             [
              "Time Step 64"
             ],
             {
              "frame": {
               "duration": 0,
               "redraw": true
              },
              "mode": "immediate"
             }
            ],
            "label": "Time Step 64",
            "method": "animate"
           },
           {
            "args": [
             [
              "Time Step 65"
             ],
             {
              "frame": {
               "duration": 0,
               "redraw": true
              },
              "mode": "immediate"
             }
            ],
            "label": "Time Step 65",
            "method": "animate"
           },
           {
            "args": [
             [
              "Time Step 66"
             ],
             {
              "frame": {
               "duration": 0,
               "redraw": true
              },
              "mode": "immediate"
             }
            ],
            "label": "Time Step 66",
            "method": "animate"
           },
           {
            "args": [
             [
              "Time Step 67"
             ],
             {
              "frame": {
               "duration": 0,
               "redraw": true
              },
              "mode": "immediate"
             }
            ],
            "label": "Time Step 67",
            "method": "animate"
           },
           {
            "args": [
             [
              "Time Step 68"
             ],
             {
              "frame": {
               "duration": 0,
               "redraw": true
              },
              "mode": "immediate"
             }
            ],
            "label": "Time Step 68",
            "method": "animate"
           },
           {
            "args": [
             [
              "Time Step 69"
             ],
             {
              "frame": {
               "duration": 0,
               "redraw": true
              },
              "mode": "immediate"
             }
            ],
            "label": "Time Step 69",
            "method": "animate"
           },
           {
            "args": [
             [
              "Time Step 70"
             ],
             {
              "frame": {
               "duration": 0,
               "redraw": true
              },
              "mode": "immediate"
             }
            ],
            "label": "Time Step 70",
            "method": "animate"
           },
           {
            "args": [
             [
              "Time Step 71"
             ],
             {
              "frame": {
               "duration": 0,
               "redraw": true
              },
              "mode": "immediate"
             }
            ],
            "label": "Time Step 71",
            "method": "animate"
           },
           {
            "args": [
             [
              "Time Step 72"
             ],
             {
              "frame": {
               "duration": 0,
               "redraw": true
              },
              "mode": "immediate"
             }
            ],
            "label": "Time Step 72",
            "method": "animate"
           },
           {
            "args": [
             [
              "Time Step 73"
             ],
             {
              "frame": {
               "duration": 0,
               "redraw": true
              },
              "mode": "immediate"
             }
            ],
            "label": "Time Step 73",
            "method": "animate"
           },
           {
            "args": [
             [
              "Time Step 74"
             ],
             {
              "frame": {
               "duration": 0,
               "redraw": true
              },
              "mode": "immediate"
             }
            ],
            "label": "Time Step 74",
            "method": "animate"
           },
           {
            "args": [
             [
              "Time Step 75"
             ],
             {
              "frame": {
               "duration": 0,
               "redraw": true
              },
              "mode": "immediate"
             }
            ],
            "label": "Time Step 75",
            "method": "animate"
           },
           {
            "args": [
             [
              "Time Step 76"
             ],
             {
              "frame": {
               "duration": 0,
               "redraw": true
              },
              "mode": "immediate"
             }
            ],
            "label": "Time Step 76",
            "method": "animate"
           },
           {
            "args": [
             [
              "Time Step 77"
             ],
             {
              "frame": {
               "duration": 0,
               "redraw": true
              },
              "mode": "immediate"
             }
            ],
            "label": "Time Step 77",
            "method": "animate"
           },
           {
            "args": [
             [
              "Time Step 78"
             ],
             {
              "frame": {
               "duration": 0,
               "redraw": true
              },
              "mode": "immediate"
             }
            ],
            "label": "Time Step 78",
            "method": "animate"
           },
           {
            "args": [
             [
              "Time Step 79"
             ],
             {
              "frame": {
               "duration": 0,
               "redraw": true
              },
              "mode": "immediate"
             }
            ],
            "label": "Time Step 79",
            "method": "animate"
           },
           {
            "args": [
             [
              "Time Step 80"
             ],
             {
              "frame": {
               "duration": 0,
               "redraw": true
              },
              "mode": "immediate"
             }
            ],
            "label": "Time Step 80",
            "method": "animate"
           },
           {
            "args": [
             [
              "Time Step 81"
             ],
             {
              "frame": {
               "duration": 0,
               "redraw": true
              },
              "mode": "immediate"
             }
            ],
            "label": "Time Step 81",
            "method": "animate"
           },
           {
            "args": [
             [
              "Time Step 82"
             ],
             {
              "frame": {
               "duration": 0,
               "redraw": true
              },
              "mode": "immediate"
             }
            ],
            "label": "Time Step 82",
            "method": "animate"
           },
           {
            "args": [
             [
              "Time Step 83"
             ],
             {
              "frame": {
               "duration": 0,
               "redraw": true
              },
              "mode": "immediate"
             }
            ],
            "label": "Time Step 83",
            "method": "animate"
           },
           {
            "args": [
             [
              "Time Step 84"
             ],
             {
              "frame": {
               "duration": 0,
               "redraw": true
              },
              "mode": "immediate"
             }
            ],
            "label": "Time Step 84",
            "method": "animate"
           },
           {
            "args": [
             [
              "Time Step 85"
             ],
             {
              "frame": {
               "duration": 0,
               "redraw": true
              },
              "mode": "immediate"
             }
            ],
            "label": "Time Step 85",
            "method": "animate"
           },
           {
            "args": [
             [
              "Time Step 86"
             ],
             {
              "frame": {
               "duration": 0,
               "redraw": true
              },
              "mode": "immediate"
             }
            ],
            "label": "Time Step 86",
            "method": "animate"
           },
           {
            "args": [
             [
              "Time Step 87"
             ],
             {
              "frame": {
               "duration": 0,
               "redraw": true
              },
              "mode": "immediate"
             }
            ],
            "label": "Time Step 87",
            "method": "animate"
           },
           {
            "args": [
             [
              "Time Step 88"
             ],
             {
              "frame": {
               "duration": 0,
               "redraw": true
              },
              "mode": "immediate"
             }
            ],
            "label": "Time Step 88",
            "method": "animate"
           },
           {
            "args": [
             [
              "Time Step 89"
             ],
             {
              "frame": {
               "duration": 0,
               "redraw": true
              },
              "mode": "immediate"
             }
            ],
            "label": "Time Step 89",
            "method": "animate"
           },
           {
            "args": [
             [
              "Time Step 90"
             ],
             {
              "frame": {
               "duration": 0,
               "redraw": true
              },
              "mode": "immediate"
             }
            ],
            "label": "Time Step 90",
            "method": "animate"
           },
           {
            "args": [
             [
              "Time Step 91"
             ],
             {
              "frame": {
               "duration": 0,
               "redraw": true
              },
              "mode": "immediate"
             }
            ],
            "label": "Time Step 91",
            "method": "animate"
           },
           {
            "args": [
             [
              "Time Step 92"
             ],
             {
              "frame": {
               "duration": 0,
               "redraw": true
              },
              "mode": "immediate"
             }
            ],
            "label": "Time Step 92",
            "method": "animate"
           },
           {
            "args": [
             [
              "Time Step 93"
             ],
             {
              "frame": {
               "duration": 0,
               "redraw": true
              },
              "mode": "immediate"
             }
            ],
            "label": "Time Step 93",
            "method": "animate"
           },
           {
            "args": [
             [
              "Time Step 94"
             ],
             {
              "frame": {
               "duration": 0,
               "redraw": true
              },
              "mode": "immediate"
             }
            ],
            "label": "Time Step 94",
            "method": "animate"
           },
           {
            "args": [
             [
              "Time Step 95"
             ],
             {
              "frame": {
               "duration": 0,
               "redraw": true
              },
              "mode": "immediate"
             }
            ],
            "label": "Time Step 95",
            "method": "animate"
           },
           {
            "args": [
             [
              "Time Step 96"
             ],
             {
              "frame": {
               "duration": 0,
               "redraw": true
              },
              "mode": "immediate"
             }
            ],
            "label": "Time Step 96",
            "method": "animate"
           },
           {
            "args": [
             [
              "Time Step 97"
             ],
             {
              "frame": {
               "duration": 0,
               "redraw": true
              },
              "mode": "immediate"
             }
            ],
            "label": "Time Step 97",
            "method": "animate"
           },
           {
            "args": [
             [
              "Time Step 98"
             ],
             {
              "frame": {
               "duration": 0,
               "redraw": true
              },
              "mode": "immediate"
             }
            ],
            "label": "Time Step 98",
            "method": "animate"
           },
           {
            "args": [
             [
              "Time Step 99"
             ],
             {
              "frame": {
               "duration": 0,
               "redraw": true
              },
              "mode": "immediate"
             }
            ],
            "label": "Time Step 99",
            "method": "animate"
           },
           {
            "args": [
             [
              "Time Step 100"
             ],
             {
              "frame": {
               "duration": 0,
               "redraw": true
              },
              "mode": "immediate"
             }
            ],
            "label": "Time Step 100",
            "method": "animate"
           },
           {
            "args": [
             [
              "Time Step 101"
             ],
             {
              "frame": {
               "duration": 0,
               "redraw": true
              },
              "mode": "immediate"
             }
            ],
            "label": "Time Step 101",
            "method": "animate"
           },
           {
            "args": [
             [
              "Time Step 102"
             ],
             {
              "frame": {
               "duration": 0,
               "redraw": true
              },
              "mode": "immediate"
             }
            ],
            "label": "Time Step 102",
            "method": "animate"
           },
           {
            "args": [
             [
              "Time Step 103"
             ],
             {
              "frame": {
               "duration": 0,
               "redraw": true
              },
              "mode": "immediate"
             }
            ],
            "label": "Time Step 103",
            "method": "animate"
           },
           {
            "args": [
             [
              "Time Step 104"
             ],
             {
              "frame": {
               "duration": 0,
               "redraw": true
              },
              "mode": "immediate"
             }
            ],
            "label": "Time Step 104",
            "method": "animate"
           },
           {
            "args": [
             [
              "Time Step 105"
             ],
             {
              "frame": {
               "duration": 0,
               "redraw": true
              },
              "mode": "immediate"
             }
            ],
            "label": "Time Step 105",
            "method": "animate"
           },
           {
            "args": [
             [
              "Time Step 106"
             ],
             {
              "frame": {
               "duration": 0,
               "redraw": true
              },
              "mode": "immediate"
             }
            ],
            "label": "Time Step 106",
            "method": "animate"
           },
           {
            "args": [
             [
              "Time Step 107"
             ],
             {
              "frame": {
               "duration": 0,
               "redraw": true
              },
              "mode": "immediate"
             }
            ],
            "label": "Time Step 107",
            "method": "animate"
           },
           {
            "args": [
             [
              "Time Step 108"
             ],
             {
              "frame": {
               "duration": 0,
               "redraw": true
              },
              "mode": "immediate"
             }
            ],
            "label": "Time Step 108",
            "method": "animate"
           },
           {
            "args": [
             [
              "Time Step 109"
             ],
             {
              "frame": {
               "duration": 0,
               "redraw": true
              },
              "mode": "immediate"
             }
            ],
            "label": "Time Step 109",
            "method": "animate"
           },
           {
            "args": [
             [
              "Time Step 110"
             ],
             {
              "frame": {
               "duration": 0,
               "redraw": true
              },
              "mode": "immediate"
             }
            ],
            "label": "Time Step 110",
            "method": "animate"
           }
          ],
          "transition": {
           "duration": 300,
           "easing": "cubic-in-out"
          },
          "x": 0.1,
          "xanchor": "left",
          "y": 0,
          "yanchor": "top"
         }
        ],
        "template": {
         "data": {
          "bar": [
           {
            "error_x": {
             "color": "#2a3f5f"
            },
            "error_y": {
             "color": "#2a3f5f"
            },
            "marker": {
             "line": {
              "color": "#E5ECF6",
              "width": 0.5
             }
            },
            "type": "bar"
           }
          ],
          "barpolar": [
           {
            "marker": {
             "line": {
              "color": "#E5ECF6",
              "width": 0.5
             }
            },
            "type": "barpolar"
           }
          ],
          "carpet": [
           {
            "aaxis": {
             "endlinecolor": "#2a3f5f",
             "gridcolor": "white",
             "linecolor": "white",
             "minorgridcolor": "white",
             "startlinecolor": "#2a3f5f"
            },
            "baxis": {
             "endlinecolor": "#2a3f5f",
             "gridcolor": "white",
             "linecolor": "white",
             "minorgridcolor": "white",
             "startlinecolor": "#2a3f5f"
            },
            "type": "carpet"
           }
          ],
          "choropleth": [
           {
            "colorbar": {
             "outlinewidth": 0,
             "ticks": ""
            },
            "type": "choropleth"
           }
          ],
          "contour": [
           {
            "colorbar": {
             "outlinewidth": 0,
             "ticks": ""
            },
            "colorscale": [
             [
              0,
              "#0d0887"
             ],
             [
              0.1111111111111111,
              "#46039f"
             ],
             [
              0.2222222222222222,
              "#7201a8"
             ],
             [
              0.3333333333333333,
              "#9c179e"
             ],
             [
              0.4444444444444444,
              "#bd3786"
             ],
             [
              0.5555555555555556,
              "#d8576b"
             ],
             [
              0.6666666666666666,
              "#ed7953"
             ],
             [
              0.7777777777777778,
              "#fb9f3a"
             ],
             [
              0.8888888888888888,
              "#fdca26"
             ],
             [
              1,
              "#f0f921"
             ]
            ],
            "type": "contour"
           }
          ],
          "contourcarpet": [
           {
            "colorbar": {
             "outlinewidth": 0,
             "ticks": ""
            },
            "type": "contourcarpet"
           }
          ],
          "heatmap": [
           {
            "colorbar": {
             "outlinewidth": 0,
             "ticks": ""
            },
            "colorscale": [
             [
              0,
              "#0d0887"
             ],
             [
              0.1111111111111111,
              "#46039f"
             ],
             [
              0.2222222222222222,
              "#7201a8"
             ],
             [
              0.3333333333333333,
              "#9c179e"
             ],
             [
              0.4444444444444444,
              "#bd3786"
             ],
             [
              0.5555555555555556,
              "#d8576b"
             ],
             [
              0.6666666666666666,
              "#ed7953"
             ],
             [
              0.7777777777777778,
              "#fb9f3a"
             ],
             [
              0.8888888888888888,
              "#fdca26"
             ],
             [
              1,
              "#f0f921"
             ]
            ],
            "type": "heatmap"
           }
          ],
          "heatmapgl": [
           {
            "colorbar": {
             "outlinewidth": 0,
             "ticks": ""
            },
            "colorscale": [
             [
              0,
              "#0d0887"
             ],
             [
              0.1111111111111111,
              "#46039f"
             ],
             [
              0.2222222222222222,
              "#7201a8"
             ],
             [
              0.3333333333333333,
              "#9c179e"
             ],
             [
              0.4444444444444444,
              "#bd3786"
             ],
             [
              0.5555555555555556,
              "#d8576b"
             ],
             [
              0.6666666666666666,
              "#ed7953"
             ],
             [
              0.7777777777777778,
              "#fb9f3a"
             ],
             [
              0.8888888888888888,
              "#fdca26"
             ],
             [
              1,
              "#f0f921"
             ]
            ],
            "type": "heatmapgl"
           }
          ],
          "histogram": [
           {
            "marker": {
             "colorbar": {
              "outlinewidth": 0,
              "ticks": ""
             }
            },
            "type": "histogram"
           }
          ],
          "histogram2d": [
           {
            "colorbar": {
             "outlinewidth": 0,
             "ticks": ""
            },
            "colorscale": [
             [
              0,
              "#0d0887"
             ],
             [
              0.1111111111111111,
              "#46039f"
             ],
             [
              0.2222222222222222,
              "#7201a8"
             ],
             [
              0.3333333333333333,
              "#9c179e"
             ],
             [
              0.4444444444444444,
              "#bd3786"
             ],
             [
              0.5555555555555556,
              "#d8576b"
             ],
             [
              0.6666666666666666,
              "#ed7953"
             ],
             [
              0.7777777777777778,
              "#fb9f3a"
             ],
             [
              0.8888888888888888,
              "#fdca26"
             ],
             [
              1,
              "#f0f921"
             ]
            ],
            "type": "histogram2d"
           }
          ],
          "histogram2dcontour": [
           {
            "colorbar": {
             "outlinewidth": 0,
             "ticks": ""
            },
            "colorscale": [
             [
              0,
              "#0d0887"
             ],
             [
              0.1111111111111111,
              "#46039f"
             ],
             [
              0.2222222222222222,
              "#7201a8"
             ],
             [
              0.3333333333333333,
              "#9c179e"
             ],
             [
              0.4444444444444444,
              "#bd3786"
             ],
             [
              0.5555555555555556,
              "#d8576b"
             ],
             [
              0.6666666666666666,
              "#ed7953"
             ],
             [
              0.7777777777777778,
              "#fb9f3a"
             ],
             [
              0.8888888888888888,
              "#fdca26"
             ],
             [
              1,
              "#f0f921"
             ]
            ],
            "type": "histogram2dcontour"
           }
          ],
          "mesh3d": [
           {
            "colorbar": {
             "outlinewidth": 0,
             "ticks": ""
            },
            "type": "mesh3d"
           }
          ],
          "parcoords": [
           {
            "line": {
             "colorbar": {
              "outlinewidth": 0,
              "ticks": ""
             }
            },
            "type": "parcoords"
           }
          ],
          "pie": [
           {
            "automargin": true,
            "type": "pie"
           }
          ],
          "scatter": [
           {
            "marker": {
             "colorbar": {
              "outlinewidth": 0,
              "ticks": ""
             }
            },
            "type": "scatter"
           }
          ],
          "scatter3d": [
           {
            "line": {
             "colorbar": {
              "outlinewidth": 0,
              "ticks": ""
             }
            },
            "marker": {
             "colorbar": {
              "outlinewidth": 0,
              "ticks": ""
             }
            },
            "type": "scatter3d"
           }
          ],
          "scattercarpet": [
           {
            "marker": {
             "colorbar": {
              "outlinewidth": 0,
              "ticks": ""
             }
            },
            "type": "scattercarpet"
           }
          ],
          "scattergeo": [
           {
            "marker": {
             "colorbar": {
              "outlinewidth": 0,
              "ticks": ""
             }
            },
            "type": "scattergeo"
           }
          ],
          "scattergl": [
           {
            "marker": {
             "colorbar": {
              "outlinewidth": 0,
              "ticks": ""
             }
            },
            "type": "scattergl"
           }
          ],
          "scattermapbox": [
           {
            "marker": {
             "colorbar": {
              "outlinewidth": 0,
              "ticks": ""
             }
            },
            "type": "scattermapbox"
           }
          ],
          "scatterpolar": [
           {
            "marker": {
             "colorbar": {
              "outlinewidth": 0,
              "ticks": ""
             }
            },
            "type": "scatterpolar"
           }
          ],
          "scatterpolargl": [
           {
            "marker": {
             "colorbar": {
              "outlinewidth": 0,
              "ticks": ""
             }
            },
            "type": "scatterpolargl"
           }
          ],
          "scatterternary": [
           {
            "marker": {
             "colorbar": {
              "outlinewidth": 0,
              "ticks": ""
             }
            },
            "type": "scatterternary"
           }
          ],
          "surface": [
           {
            "colorbar": {
             "outlinewidth": 0,
             "ticks": ""
            },
            "colorscale": [
             [
              0,
              "#0d0887"
             ],
             [
              0.1111111111111111,
              "#46039f"
             ],
             [
              0.2222222222222222,
              "#7201a8"
             ],
             [
              0.3333333333333333,
              "#9c179e"
             ],
             [
              0.4444444444444444,
              "#bd3786"
             ],
             [
              0.5555555555555556,
              "#d8576b"
             ],
             [
              0.6666666666666666,
              "#ed7953"
             ],
             [
              0.7777777777777778,
              "#fb9f3a"
             ],
             [
              0.8888888888888888,
              "#fdca26"
             ],
             [
              1,
              "#f0f921"
             ]
            ],
            "type": "surface"
           }
          ],
          "table": [
           {
            "cells": {
             "fill": {
              "color": "#EBF0F8"
             },
             "line": {
              "color": "white"
             }
            },
            "header": {
             "fill": {
              "color": "#C8D4E3"
             },
             "line": {
              "color": "white"
             }
            },
            "type": "table"
           }
          ]
         },
         "layout": {
          "annotationdefaults": {
           "arrowcolor": "#2a3f5f",
           "arrowhead": 0,
           "arrowwidth": 1
          },
          "autotypenumbers": "strict",
          "coloraxis": {
           "colorbar": {
            "outlinewidth": 0,
            "ticks": ""
           }
          },
          "colorscale": {
           "diverging": [
            [
             0,
             "#8e0152"
            ],
            [
             0.1,
             "#c51b7d"
            ],
            [
             0.2,
             "#de77ae"
            ],
            [
             0.3,
             "#f1b6da"
            ],
            [
             0.4,
             "#fde0ef"
            ],
            [
             0.5,
             "#f7f7f7"
            ],
            [
             0.6,
             "#e6f5d0"
            ],
            [
             0.7,
             "#b8e186"
            ],
            [
             0.8,
             "#7fbc41"
            ],
            [
             0.9,
             "#4d9221"
            ],
            [
             1,
             "#276419"
            ]
           ],
           "sequential": [
            [
             0,
             "#0d0887"
            ],
            [
             0.1111111111111111,
             "#46039f"
            ],
            [
             0.2222222222222222,
             "#7201a8"
            ],
            [
             0.3333333333333333,
             "#9c179e"
            ],
            [
             0.4444444444444444,
             "#bd3786"
            ],
            [
             0.5555555555555556,
             "#d8576b"
            ],
            [
             0.6666666666666666,
             "#ed7953"
            ],
            [
             0.7777777777777778,
             "#fb9f3a"
            ],
            [
             0.8888888888888888,
             "#fdca26"
            ],
            [
             1,
             "#f0f921"
            ]
           ],
           "sequentialminus": [
            [
             0,
             "#0d0887"
            ],
            [
             0.1111111111111111,
             "#46039f"
            ],
            [
             0.2222222222222222,
             "#7201a8"
            ],
            [
             0.3333333333333333,
             "#9c179e"
            ],
            [
             0.4444444444444444,
             "#bd3786"
            ],
            [
             0.5555555555555556,
             "#d8576b"
            ],
            [
             0.6666666666666666,
             "#ed7953"
            ],
            [
             0.7777777777777778,
             "#fb9f3a"
            ],
            [
             0.8888888888888888,
             "#fdca26"
            ],
            [
             1,
             "#f0f921"
            ]
           ]
          },
          "colorway": [
           "#636efa",
           "#EF553B",
           "#00cc96",
           "#ab63fa",
           "#FFA15A",
           "#19d3f3",
           "#FF6692",
           "#B6E880",
           "#FF97FF",
           "#FECB52"
          ],
          "font": {
           "color": "#2a3f5f"
          },
          "geo": {
           "bgcolor": "white",
           "lakecolor": "white",
           "landcolor": "#E5ECF6",
           "showlakes": true,
           "showland": true,
           "subunitcolor": "white"
          },
          "hoverlabel": {
           "align": "left"
          },
          "hovermode": "closest",
          "mapbox": {
           "style": "light"
          },
          "paper_bgcolor": "white",
          "plot_bgcolor": "#E5ECF6",
          "polar": {
           "angularaxis": {
            "gridcolor": "white",
            "linecolor": "white",
            "ticks": ""
           },
           "bgcolor": "#E5ECF6",
           "radialaxis": {
            "gridcolor": "white",
            "linecolor": "white",
            "ticks": ""
           }
          },
          "scene": {
           "xaxis": {
            "backgroundcolor": "#E5ECF6",
            "gridcolor": "white",
            "gridwidth": 2,
            "linecolor": "white",
            "showbackground": true,
            "ticks": "",
            "zerolinecolor": "white"
           },
           "yaxis": {
            "backgroundcolor": "#E5ECF6",
            "gridcolor": "white",
            "gridwidth": 2,
            "linecolor": "white",
            "showbackground": true,
            "ticks": "",
            "zerolinecolor": "white"
           },
           "zaxis": {
            "backgroundcolor": "#E5ECF6",
            "gridcolor": "white",
            "gridwidth": 2,
            "linecolor": "white",
            "showbackground": true,
            "ticks": "",
            "zerolinecolor": "white"
           }
          },
          "shapedefaults": {
           "line": {
            "color": "#2a3f5f"
           }
          },
          "ternary": {
           "aaxis": {
            "gridcolor": "white",
            "linecolor": "white",
            "ticks": ""
           },
           "baxis": {
            "gridcolor": "white",
            "linecolor": "white",
            "ticks": ""
           },
           "bgcolor": "#E5ECF6",
           "caxis": {
            "gridcolor": "white",
            "linecolor": "white",
            "ticks": ""
           }
          },
          "title": {
           "x": 0.05
          },
          "xaxis": {
           "automargin": true,
           "gridcolor": "white",
           "linecolor": "white",
           "ticks": "",
           "title": {
            "standoff": 15
           },
           "zerolinecolor": "white",
           "zerolinewidth": 2
          },
          "yaxis": {
           "automargin": true,
           "gridcolor": "white",
           "linecolor": "white",
           "ticks": "",
           "title": {
            "standoff": 15
           },
           "zerolinecolor": "white",
           "zerolinewidth": 2
          }
         }
        },
        "updatemenus": [
         {
          "buttons": [
           {
            "args": [
             null,
             {
              "frame": {
               "duration": 100,
               "redraw": true
              },
              "fromcurrent": true
             }
            ],
            "label": "Play",
            "method": "animate"
           },
           {
            "args": [
             [
              null
             ],
             {
              "frame": {
               "duration": 0,
               "redraw": true
              },
              "mode": "immediate",
              "transition": {
               "duration": 0
              }
             }
            ],
            "label": "Pause",
            "method": "animate"
           }
          ],
          "direction": "left",
          "pad": {
           "r": 10,
           "t": 87
          },
          "showactive": false,
          "type": "buttons",
          "x": 0.1,
          "xanchor": "right",
          "y": 0,
          "yanchor": "top"
         }
        ],
        "xaxis": {
         "anchor": "y",
         "domain": [
          0,
          1
         ]
        },
        "yaxis": {
         "anchor": "x",
         "domain": [
          0,
          1
         ]
        }
       }
      }
     },
     "metadata": {},
     "output_type": "display_data"
    }
   ],
   "source": [
    "import plotly.graph_objs as go\n",
    "from plotly.subplots import make_subplots\n",
    "import numpy as np\n",
    "\n",
    "# Create your array of probability distributions at different time steps.\n",
    "# Let's assume you have a list of arrays called `distribution_data`, where each array represents a probability distribution.\n",
    "\n",
    "# Create a figure with subplots\n",
    "fig = make_subplots(rows=1, cols=1)\n",
    "\n",
    "# Set up the initial plot (assuming distribution_data[0] is the initial distribution)\n",
    "x = np.arange(len(vs[0]))  # Assuming your data is discrete\n",
    "trace = go.Bar(x=x, y=vs[0], name='Time Step 0')\n",
    "\n",
    "# Add the trace to the subplot\n",
    "fig.add_trace(trace, row=1, col=1)\n",
    "\n",
    "# Define initial animation duration\n",
    "animation_duration = 100  # 1 second\n",
    "\n",
    "# Function to update the plot for each frame of the animation\n",
    "def update(frame):\n",
    "    # Create a new trace for the current distribution\n",
    "    new_trace = go.Bar(x=x, y=vs[frame], name=f'Time Step {frame}')\n",
    "\n",
    "    # Update the subplot with the new trace\n",
    "    fig.data = [new_trace]\n",
    "\n",
    "    # Update the title\n",
    "    fig.update_layout(title=f'Time Step {frame}')\n",
    "\n",
    "# Create the animation\n",
    "num_frames = len(vs)\n",
    "\n",
    "animation_frames = [go.Frame(data=[go.Bar(x=x, y=vs[frame], name=f'Time Step {frame}')],\n",
    "                            name=f'Time Step {frame}')\n",
    "                    for frame in range(num_frames)]\n",
    "\n",
    "fig.frames = animation_frames\n",
    "\n",
    "# Define the layout for your plot\n",
    "layout = go.Layout(\n",
    "    updatemenus=[\n",
    "        {\n",
    "            'buttons': [\n",
    "                {\n",
    "                    'args': [None, {'frame': {'duration': animation_duration, 'redraw': True}, 'fromcurrent': True}],\n",
    "                    'label': 'Play',\n",
    "                    'method': 'animate',\n",
    "                },\n",
    "                {\n",
    "                    'args': [[None], {'frame': {'duration': 0, 'redraw': True}, 'mode': 'immediate', 'transition': {'duration': 0}}],\n",
    "                    'label': 'Pause',\n",
    "                    'method': 'animate',\n",
    "                },\n",
    "            ],\n",
    "            'direction': 'left',\n",
    "            'pad': {'r': 10, 't': 87},\n",
    "            'showactive': False,\n",
    "            'type': 'buttons',\n",
    "            'x': 0.1,\n",
    "            'xanchor': 'right',\n",
    "            'y': 0,\n",
    "            'yanchor': 'top',\n",
    "        },\n",
    "    ],\n",
    "    sliders=[{\n",
    "        'active': 0,\n",
    "        'yanchor': 'top',\n",
    "        'xanchor': 'left',\n",
    "        'currentvalue': {\n",
    "            'font': {'size': 20},\n",
    "            'prefix': 'Time Step:',\n",
    "            'visible': True,\n",
    "            'xanchor': 'right',\n",
    "        },\n",
    "        'transition': {'duration': 300, 'easing': 'cubic-in-out'},\n",
    "        'pad': {'b': 10, 't': 50},\n",
    "        'len': 0.9,\n",
    "        'x': 0.1,\n",
    "        'y': 0,\n",
    "        'steps': [{'args': [[f'Time Step {frame}'], {'frame': {'duration': 0, 'redraw': True}, 'mode': 'immediate'}],\n",
    "                   'label': f'Time Step {frame}',\n",
    "                   'method': 'animate'} for frame in range(num_frames)],\n",
    "    }],\n",
    ")\n",
    "\n",
    "fig.update_layout(layout)\n",
    "\n",
    "# Show the animation\n",
    "fig.show()\n"
   ]
  },
  {
   "cell_type": "code",
   "execution_count": null,
   "id": "0352fe1b",
   "metadata": {},
   "outputs": [],
   "source": []
  }
 ],
 "metadata": {
  "kernelspec": {
   "display_name": "Python 3 (ipykernel)",
   "language": "python",
   "name": "python3"
  },
  "language_info": {
   "codemirror_mode": {
    "name": "ipython",
    "version": 3
   },
   "file_extension": ".py",
   "mimetype": "text/x-python",
   "name": "python",
   "nbconvert_exporter": "python",
   "pygments_lexer": "ipython3",
   "version": "3.8.3"
  }
 },
 "nbformat": 4,
 "nbformat_minor": 5
}
