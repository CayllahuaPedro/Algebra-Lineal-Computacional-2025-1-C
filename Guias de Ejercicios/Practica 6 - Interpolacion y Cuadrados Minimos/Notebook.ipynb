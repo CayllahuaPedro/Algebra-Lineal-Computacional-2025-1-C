{
 "cells": [
  {
   "cell_type": "markdown",
   "metadata": {},
   "source": [
    "### Ejercicio 7"
   ]
  },
  {
   "cell_type": "markdown",
   "metadata": {},
   "source": []
  },
  {
   "cell_type": "code",
   "execution_count": 4,
   "metadata": {},
   "outputs": [],
   "source": [
    "import numpy as np\n",
    "import matplotlib.pyplot as plt"
   ]
  },
  {
   "cell_type": "code",
   "execution_count": 5,
   "metadata": {},
   "outputs": [],
   "source": [
    "f = lambda x: 1 / (1 + 25*(x**2))\n",
    "\n",
    "def interpolar(n):\n",
    "    x = np.linspace(-1, 1, n+1)\n",
    "    y = f(x)\n",
    "    return x, y"
   ]
  },
  {
   "cell_type": "code",
   "execution_count": 6,
   "metadata": {},
   "outputs": [
    {
     "data": {
      "image/png": "[encoded data removed]",
      "text/plain": [
       "<Figure size 432x288 with 1 Axes>"
      ]
     },
     "metadata": {
      "needs_background": "light"
     },
     "output_type": "display_data"
    }
   ],
   "source": [
    "# plot the function\n",
    "x = np.linspace(-1, 1, 1000)\n",
    "y = f(x)\n",
    "\n",
    "# plot the interpolation\n",
    "x_5, y_5 = interpolar(5)\n",
    "x_10, y_10 = interpolar(10)\n",
    "x_15, y_15 = interpolar(15)\n",
    "\n",
    "plt.plot(x, y, label='f(x)')\n",
    "plt.legend()\n",
    "plt.show()"
   ]
  },
  {
   "cell_type": "markdown",
   "metadata": {},
   "source": [
    "### Ejercicio 8"
   ]
  },
  {
   "cell_type": "code",
   "execution_count": 60,
   "metadata": {},
   "outputs": [
    {
     "name": "stdout",
     "output_type": "stream",
     "text": [
      "ã=0.57, b=2.40, c=-0.50, d=0.57\n",
      "\n",
      "a=1.77, b=2.40, c=-0.50, d=0.57\n"
     ]
    }
   ],
   "source": [
    "# Use poly fit to fit an n degree polynomial to the data\n",
    "# data = np.array([[1950,1960,1970,1980,1990,2000],\n",
    "#                  [17,20.5,23.9,27.9,32.6,36.9]])\n",
    "\n",
    "a = 0.7\n",
    "b = 2.4\n",
    "c = -0.5\n",
    "d = 1.5\n",
    "\n",
    "f = lambda x: a * np.exp(b*x**2 + c*x + d)\n",
    "\n",
    "logf = lambda x: np.log(a) + b*x**2 + c*x + d\n",
    "\n",
    "x = np.array([0.1, 0.2, 0.3, 0.4, 0.5])\n",
    "logy = logf(x)\n",
    "\n",
    "# Create a matrix with 1s in the first column, x^2 in the second, x in the third and 1s again in the fourth column\n",
    "A = np.array([[1, x[0]**2, x[0], 1],\n",
    "              [1, x[1]**2, x[1], 1],\n",
    "              [1, x[2]**2, x[2], 1],\n",
    "              [1, x[3]**2, x[3], 1],\n",
    "              [1, x[4]**2, x[4], 1]])\n",
    "\n",
    "# Compute x = (A^t A)^-1 * A^t * logy using the pseudo inverse\n",
    "x = np.linalg.pinv(A).dot(logy)\n",
    "\n",
    "print(\"ã={:.2f}, b={:.2f}, c={:.2f}, d={:.2f}\\n\".format((x[0]), x[1], x[2], x[3]))\n",
    "print(\"a={:.2f}, b={:.2f}, c={:.2f}, d={:.2f}\".format(np.exp(x[0]), x[1], x[2], x[3]))"
   ]
  },
  {
   "cell_type": "code",
   "execution_count": 57,
   "metadata": {},
   "outputs": [
    {
     "name": "stdout",
     "output_type": "stream",
     "text": [
      "Error: 0.00\n"
     ]
    }
   ],
   "source": [
    "# compute the error\n",
    "error = np.linalg.norm(A.dot(x) - logy)\n",
    "print(\"Error: {:.2f}\".format(error))\n"
   ]
  },
  {
   "cell_type": "code",
   "execution_count": 58,
   "metadata": {},
   "outputs": [
    {
     "data": {
      "text/plain": [
       "array([ 0.72166253,  2.4       , -0.5       ,  0.42166253])"
      ]
     },
     "execution_count": 58,
     "metadata": {},
     "output_type": "execute_result"
    }
   ],
   "source": [
    "x[0] += 0.15\n",
    "x[-1] -= 0.15\n",
    "x"
   ]
  },
  {
   "cell_type": "code",
   "execution_count": 59,
   "metadata": {},
   "outputs": [
    {
     "name": "stdout",
     "output_type": "stream",
     "text": [
      "Error: 0.00\n"
     ]
    }
   ],
   "source": [
    "# compute the error\n",
    "error = np.linalg.norm(A.dot(x) - logy)\n",
    "print(\"Error: {:.2f}\".format(error))"
   ]
  },
  {
   "cell_type": "code",
   "execution_count": 61,
   "metadata": {},
   "outputs": [
    {
     "data": {
      "text/plain": [
       "array([ 0.77166253,  2.4       , -0.5       ,  0.47166253])"
      ]
     },
     "execution_count": 61,
     "metadata": {},
     "output_type": "execute_result"
    }
   ],
   "source": [
    "# ahora NO suman el mismo valor que antes\n",
    "x[0] += 0.2\n",
    "x[-1] -= 0.1\n",
    "x"
   ]
  },
  {
   "cell_type": "code",
   "execution_count": 62,
   "metadata": {},
   "outputs": [
    {
     "name": "stdout",
     "output_type": "stream",
     "text": [
      "Error: 0.22\n"
     ]
    }
   ],
   "source": [
    "# compute the error\n",
    "error = np.linalg.norm(A.dot(x) - logy)\n",
    "print(\"Error: {:.2f}\".format(error))"
   ]
  },
  {
   "cell_type": "code",
   "execution_count": 42,
   "metadata": {},
   "outputs": [
    {
     "name": "stdout",
     "output_type": "stream",
     "text": [
      "\n",
      "U =\n",
      " [[-0.43178834 -0.61398717  0.56770844  0.32789195 -0.08229571]\n",
      " [-0.43895475 -0.3410911  -0.24980824 -0.79219038 -0.03171478]\n",
      " [-0.44659783 -0.03967321 -0.53356414  0.40921946  0.58891863]\n",
      " [-0.45471758  0.29026649 -0.28355927  0.24656444 -0.75351006]\n",
      " [-0.46331399  0.648728    0.50020637 -0.19148546  0.27860192]]\n",
      "\n",
      "S =\n",
      " [3.24298634e+00 3.60437194e-01 3.20102671e-02 2.55602901e-17]\n",
      "\n",
      "V =\n",
      " [[-6.89294454e-01 -7.72908556e-02 -2.09218631e-01 -6.89294454e-01]\n",
      " [-1.54692693e-01  5.14016133e-01  8.29414105e-01 -1.54692693e-01]\n",
      " [ 3.07136255e-02  8.54291250e-01 -5.17976648e-01  3.07136255e-02]\n",
      " [ 7.07106781e-01 -1.47877573e-15  1.07448944e-15 -7.07106781e-01]]\n"
     ]
    }
   ],
   "source": [
    "# SVD decomposition of A\n",
    "U, S, V = np.linalg.svd(A)\n",
    "\n",
    "print(\"\\nU =\\n\", U)\n",
    "print(\"\\nS =\\n\", S)\n",
    "print(\"\\nV =\\n\", V)\n"
   ]
  },
  {
   "cell_type": "code",
   "execution_count": null,
   "metadata": {},
   "outputs": [],
   "source": [
    "n = 2\n",
    "p = np.polyfit(x, y, n+1)\n",
    "print(p)\n",
    "\n",
    "# Evaluate polynomial p in a grid of points between -1 and 1\n",
    "grid_x = np.linspace(-0.2, 0.7, 1000)\n",
    "grid_y = logf(grid_x)\n",
    "\n",
    "\n",
    "# Plot data and polynomial\n",
    "plt.plot(grid_x, grid_y, '-')\n",
    "plt.plot(x, np.exp(p[0]) + np.polyval(p[1:], x), 'o')\n",
    "plt.show()"
   ]
  }
 ],
 "metadata": {
  "kernelspec": {
   "display_name": "base",
   "language": "python",
   "name": "python3"
  },
  "language_info": {
   "codemirror_mode": {
    "name": "ipython",
    "version": 3
   },
   "file_extension": ".py",
   "mimetype": "text/x-python",
   "name": "python",
   "nbconvert_exporter": "python",
   "pygments_lexer": "ipython3",
   "version": "3.8.3"
  }
 },
 "nbformat": 4,
 "nbformat_minor": 2
}
