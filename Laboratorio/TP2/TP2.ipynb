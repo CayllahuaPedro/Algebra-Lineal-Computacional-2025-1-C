{
 "cells": [
  {
   "cell_type": "markdown",
   "metadata": {},
   "source": [
    "---\n",
    "$$\\Huge \\text{Álgebra Lineal Computacional}$$\n",
    "$$\\Huge \\text{Trabajo Práctico II}$$\n",
    "\n",
    "$$\\LARGE \\text{Sistemas de Recomendación}$$\n",
    "\n",
    "---"
   ]
  },
  {
   "cell_type": "markdown",
   "metadata": {},
   "source": [
    "### **Alumno:** Jack"
   ]
  },
  {
   "cell_type": "code",
   "execution_count": 1,
   "metadata": {},
   "outputs": [],
   "source": [
    "import pandas as pd\n",
    "import numpy as np\n",
    "import matplotlib.pyplot as plt\n",
    "\n",
    "# Para definir colormaps personalizados\n",
    "from matplotlib.colors import ListedColormap\n",
    "from matplotlib.cm import ScalarMappable"
   ]
  },
  {
   "cell_type": "code",
   "execution_count": 2,
   "metadata": {},
   "outputs": [],
   "source": [
    "# !pip install tqdm\n",
    "# Barra de progreso\n",
    "from tqdm import tqdm"
   ]
  },
  {
   "cell_type": "code",
   "execution_count": 3,
   "metadata": {},
   "outputs": [],
   "source": [
    "# !pip install plotly\n",
    "# Para graficar en 3D al final\n",
    "import plotly.graph_objects as go"
   ]
  },
  {
   "cell_type": "code",
   "execution_count": 4,
   "metadata": {},
   "outputs": [],
   "source": [
    "seed = 42\n",
    "np.random.seed(seed)"
   ]
  },
  {
   "cell_type": "markdown",
   "metadata": {},
   "source": [
    "# Ejercicio 1\n",
    "\n",
    "### $\\text{(a)}$ Carga de datos\n",
    "\n",
    "Asumimos que el archivo con los datos `wine.csv` se encuentra en la misma carpeta que esta notebook.\n",
    "\n",
    "Para la carga de datos usamos la librería Pandas, que permite, entre otras cosas, generar un DataFrame con los datos cargados para operar sobre ellos de una manera más cómoda.\n",
    "\n",
    "En éste TP sólo usaremos esta librería para la carga y visualización de datos. Todas las operaciones posteriores se harán usando Numpy para respetar el formato de matrices que manejamos en la materia."
   ]
  },
  {
   "cell_type": "code",
   "execution_count": 5,
   "metadata": {},
   "outputs": [],
   "source": [
    "data = pd.read_csv('wine.csv', sep=',')"
   ]
  },
  {
   "cell_type": "markdown",
   "metadata": {},
   "source": [
    "Lo primero que hacemos es verificar que los datos se hayan cargado en el formato correcto:"
   ]
  },
  {
   "cell_type": "code",
   "execution_count": 6,
   "metadata": {},
   "outputs": [
    {
     "data": {
      "text/html": [
       "<div>\n",
       "<style scoped>\n",
       "    .dataframe tbody tr th:only-of-type {\n",
       "        vertical-align: middle;\n",
       "    }\n",
       "\n",
       "    .dataframe tbody tr th {\n",
       "        vertical-align: top;\n",
       "    }\n",
       "\n",
       "    .dataframe thead th {\n",
       "        text-align: right;\n",
       "    }\n",
       "</style>\n",
       "<table border=\"1\" class=\"dataframe\">\n",
       "  <thead>\n",
       "    <tr style=\"text-align: right;\">\n",
       "      <th></th>\n",
       "      <th>Alcohol</th>\n",
       "      <th>Malic_Acid</th>\n",
       "      <th>Ash</th>\n",
       "      <th>Ash_Alcanity</th>\n",
       "      <th>Magnesium</th>\n",
       "      <th>Total_Phenols</th>\n",
       "      <th>Flavanoids</th>\n",
       "      <th>Nonflavanoid_Phenols</th>\n",
       "      <th>Proanthocyanins</th>\n",
       "      <th>Color_Intensity</th>\n",
       "      <th>Hue</th>\n",
       "      <th>OD280</th>\n",
       "      <th>Proline</th>\n",
       "      <th>Customer_Segment</th>\n",
       "    </tr>\n",
       "  </thead>\n",
       "  <tbody>\n",
       "    <tr>\n",
       "      <th>0</th>\n",
       "      <td>14.23</td>\n",
       "      <td>1.71</td>\n",
       "      <td>2.43</td>\n",
       "      <td>15.6</td>\n",
       "      <td>127</td>\n",
       "      <td>2.80</td>\n",
       "      <td>3.06</td>\n",
       "      <td>0.28</td>\n",
       "      <td>2.29</td>\n",
       "      <td>5.64</td>\n",
       "      <td>1.04</td>\n",
       "      <td>3.92</td>\n",
       "      <td>1065</td>\n",
       "      <td>1</td>\n",
       "    </tr>\n",
       "    <tr>\n",
       "      <th>1</th>\n",
       "      <td>13.20</td>\n",
       "      <td>1.78</td>\n",
       "      <td>2.14</td>\n",
       "      <td>11.2</td>\n",
       "      <td>100</td>\n",
       "      <td>2.65</td>\n",
       "      <td>2.76</td>\n",
       "      <td>0.26</td>\n",
       "      <td>1.28</td>\n",
       "      <td>4.38</td>\n",
       "      <td>1.05</td>\n",
       "      <td>3.40</td>\n",
       "      <td>1050</td>\n",
       "      <td>1</td>\n",
       "    </tr>\n",
       "    <tr>\n",
       "      <th>2</th>\n",
       "      <td>13.16</td>\n",
       "      <td>2.36</td>\n",
       "      <td>2.67</td>\n",
       "      <td>18.6</td>\n",
       "      <td>101</td>\n",
       "      <td>2.80</td>\n",
       "      <td>3.24</td>\n",
       "      <td>0.30</td>\n",
       "      <td>2.81</td>\n",
       "      <td>5.68</td>\n",
       "      <td>1.03</td>\n",
       "      <td>3.17</td>\n",
       "      <td>1185</td>\n",
       "      <td>1</td>\n",
       "    </tr>\n",
       "    <tr>\n",
       "      <th>3</th>\n",
       "      <td>14.37</td>\n",
       "      <td>1.95</td>\n",
       "      <td>2.50</td>\n",
       "      <td>16.8</td>\n",
       "      <td>113</td>\n",
       "      <td>3.85</td>\n",
       "      <td>3.49</td>\n",
       "      <td>0.24</td>\n",
       "      <td>2.18</td>\n",
       "      <td>7.80</td>\n",
       "      <td>0.86</td>\n",
       "      <td>3.45</td>\n",
       "      <td>1480</td>\n",
       "      <td>1</td>\n",
       "    </tr>\n",
       "    <tr>\n",
       "      <th>4</th>\n",
       "      <td>13.24</td>\n",
       "      <td>2.59</td>\n",
       "      <td>2.87</td>\n",
       "      <td>21.0</td>\n",
       "      <td>118</td>\n",
       "      <td>2.80</td>\n",
       "      <td>2.69</td>\n",
       "      <td>0.39</td>\n",
       "      <td>1.82</td>\n",
       "      <td>4.32</td>\n",
       "      <td>1.04</td>\n",
       "      <td>2.93</td>\n",
       "      <td>735</td>\n",
       "      <td>1</td>\n",
       "    </tr>\n",
       "    <tr>\n",
       "      <th>...</th>\n",
       "      <td>...</td>\n",
       "      <td>...</td>\n",
       "      <td>...</td>\n",
       "      <td>...</td>\n",
       "      <td>...</td>\n",
       "      <td>...</td>\n",
       "      <td>...</td>\n",
       "      <td>...</td>\n",
       "      <td>...</td>\n",
       "      <td>...</td>\n",
       "      <td>...</td>\n",
       "      <td>...</td>\n",
       "      <td>...</td>\n",
       "      <td>...</td>\n",
       "    </tr>\n",
       "    <tr>\n",
       "      <th>173</th>\n",
       "      <td>13.71</td>\n",
       "      <td>5.65</td>\n",
       "      <td>2.45</td>\n",
       "      <td>20.5</td>\n",
       "      <td>95</td>\n",
       "      <td>1.68</td>\n",
       "      <td>0.61</td>\n",
       "      <td>0.52</td>\n",
       "      <td>1.06</td>\n",
       "      <td>7.70</td>\n",
       "      <td>0.64</td>\n",
       "      <td>1.74</td>\n",
       "      <td>740</td>\n",
       "      <td>3</td>\n",
       "    </tr>\n",
       "    <tr>\n",
       "      <th>174</th>\n",
       "      <td>13.40</td>\n",
       "      <td>3.91</td>\n",
       "      <td>2.48</td>\n",
       "      <td>23.0</td>\n",
       "      <td>102</td>\n",
       "      <td>1.80</td>\n",
       "      <td>0.75</td>\n",
       "      <td>0.43</td>\n",
       "      <td>1.41</td>\n",
       "      <td>7.30</td>\n",
       "      <td>0.70</td>\n",
       "      <td>1.56</td>\n",
       "      <td>750</td>\n",
       "      <td>3</td>\n",
       "    </tr>\n",
       "    <tr>\n",
       "      <th>175</th>\n",
       "      <td>13.27</td>\n",
       "      <td>4.28</td>\n",
       "      <td>2.26</td>\n",
       "      <td>20.0</td>\n",
       "      <td>120</td>\n",
       "      <td>1.59</td>\n",
       "      <td>0.69</td>\n",
       "      <td>0.43</td>\n",
       "      <td>1.35</td>\n",
       "      <td>10.20</td>\n",
       "      <td>0.59</td>\n",
       "      <td>1.56</td>\n",
       "      <td>835</td>\n",
       "      <td>3</td>\n",
       "    </tr>\n",
       "    <tr>\n",
       "      <th>176</th>\n",
       "      <td>13.17</td>\n",
       "      <td>2.59</td>\n",
       "      <td>2.37</td>\n",
       "      <td>20.0</td>\n",
       "      <td>120</td>\n",
       "      <td>1.65</td>\n",
       "      <td>0.68</td>\n",
       "      <td>0.53</td>\n",
       "      <td>1.46</td>\n",
       "      <td>9.30</td>\n",
       "      <td>0.60</td>\n",
       "      <td>1.62</td>\n",
       "      <td>840</td>\n",
       "      <td>3</td>\n",
       "    </tr>\n",
       "    <tr>\n",
       "      <th>177</th>\n",
       "      <td>14.13</td>\n",
       "      <td>4.10</td>\n",
       "      <td>2.74</td>\n",
       "      <td>24.5</td>\n",
       "      <td>96</td>\n",
       "      <td>2.05</td>\n",
       "      <td>0.76</td>\n",
       "      <td>0.56</td>\n",
       "      <td>1.35</td>\n",
       "      <td>9.20</td>\n",
       "      <td>0.61</td>\n",
       "      <td>1.60</td>\n",
       "      <td>560</td>\n",
       "      <td>3</td>\n",
       "    </tr>\n",
       "  </tbody>\n",
       "</table>\n",
       "<p>178 rows × 14 columns</p>\n",
       "</div>"
      ],
      "text/plain": [
       "     Alcohol  Malic_Acid   Ash  Ash_Alcanity  Magnesium  Total_Phenols  \\\n",
       "0      14.23        1.71  2.43          15.6        127           2.80   \n",
       "1      13.20        1.78  2.14          11.2        100           2.65   \n",
       "2      13.16        2.36  2.67          18.6        101           2.80   \n",
       "3      14.37        1.95  2.50          16.8        113           3.85   \n",
       "4      13.24        2.59  2.87          21.0        118           2.80   \n",
       "..       ...         ...   ...           ...        ...            ...   \n",
       "173    13.71        5.65  2.45          20.5         95           1.68   \n",
       "174    13.40        3.91  2.48          23.0        102           1.80   \n",
       "175    13.27        4.28  2.26          20.0        120           1.59   \n",
       "176    13.17        2.59  2.37          20.0        120           1.65   \n",
       "177    14.13        4.10  2.74          24.5         96           2.05   \n",
       "\n",
       "     Flavanoids  Nonflavanoid_Phenols  Proanthocyanins  Color_Intensity   Hue  \\\n",
       "0          3.06                  0.28             2.29             5.64  1.04   \n",
       "1          2.76                  0.26             1.28             4.38  1.05   \n",
       "2          3.24                  0.30             2.81             5.68  1.03   \n",
       "3          3.49                  0.24             2.18             7.80  0.86   \n",
       "4          2.69                  0.39             1.82             4.32  1.04   \n",
       "..          ...                   ...              ...              ...   ...   \n",
       "173        0.61                  0.52             1.06             7.70  0.64   \n",
       "174        0.75                  0.43             1.41             7.30  0.70   \n",
       "175        0.69                  0.43             1.35            10.20  0.59   \n",
       "176        0.68                  0.53             1.46             9.30  0.60   \n",
       "177        0.76                  0.56             1.35             9.20  0.61   \n",
       "\n",
       "     OD280  Proline  Customer_Segment  \n",
       "0     3.92     1065                 1  \n",
       "1     3.40     1050                 1  \n",
       "2     3.17     1185                 1  \n",
       "3     3.45     1480                 1  \n",
       "4     2.93      735                 1  \n",
       "..     ...      ...               ...  \n",
       "173   1.74      740                 3  \n",
       "174   1.56      750                 3  \n",
       "175   1.56      835                 3  \n",
       "176   1.62      840                 3  \n",
       "177   1.60      560                 3  \n",
       "\n",
       "[178 rows x 14 columns]"
      ]
     },
     "execution_count": 6,
     "metadata": {},
     "output_type": "execute_result"
    }
   ],
   "source": [
    "data"
   ]
  },
  {
   "cell_type": "markdown",
   "metadata": {},
   "source": [
    "Los datos cargados contienen 178 filas de datos (*\"observaciones\"*) y 14 columnas, 13 de las cuales son características o *features* de los datos observados, y una última columna *Customer_Segment* representa la etiqueta o categoría a la cual ese vino particular pertenece."
   ]
  },
  {
   "cell_type": "markdown",
   "metadata": {},
   "source": [
    "### $\\text{(b)}$ Separamos los datos\n",
    "\n",
    "Separamos los datos en una matriz de variables independientes $X \\in \\mathbb R^{178 \\times 13}$ con todas las características de todos los vinos, y un vector vertical $y \\in \\mathbb R^{178}$ con todas las etiquetas correspondientes:"
   ]
  },
  {
   "cell_type": "code",
   "execution_count": 7,
   "metadata": {},
   "outputs": [],
   "source": [
    "num_indep = data.shape[1] - 1\n",
    "X = data.iloc[:, 0:num_indep].values\n",
    "y = data.iloc[:, -1].values"
   ]
  },
  {
   "cell_type": "markdown",
   "metadata": {},
   "source": [
    "Desde este momento en adelante, perdimos la representación de los datos como DataFrame para representarlos como matrices de Numpy."
   ]
  },
  {
   "cell_type": "code",
   "execution_count": 8,
   "metadata": {},
   "outputs": [
    {
     "name": "stdout",
     "output_type": "stream",
     "text": [
      "Dimensionalidad de X: 178 x 13\n",
      "Dimensionalidad de y: 178\n"
     ]
    }
   ],
   "source": [
    "print(f\"Dimensionalidad de X: {X.shape[0]} x {X.shape[1]}\", )\n",
    "print(f\"Dimensionalidad de y: {y.shape[0]}\")"
   ]
  },
  {
   "cell_type": "markdown",
   "metadata": {},
   "source": [
    "### $\\text{(c)}$ Normalización y centrado de los datos\n",
    "\n",
    "Es necesario centrar y estandarizar los datos a desviación estándar 1 para evitar sesgos o grandes diferencias de escala en los datos que que puedan llevar al modelo predictivo a tener mayores errores de predicción.\n",
    "\n",
    "En los siguientes dos gráficos podemos ver cómo ésto influye y es solucionado centrando y estandarizando los datos:"
   ]
  },
  {
   "cell_type": "code",
   "execution_count": 9,
   "metadata": {},
   "outputs": [
    {
     "data": {
      "text/plain": [
       "[]"
      ]
     },
     "execution_count": 9,
     "metadata": {},
     "output_type": "execute_result"
    },
    {
     "data": {
      "image/png": "[encoded data removed]",
      "text/plain": [
       "<Figure size 432x288 with 1 Axes>"
      ]
     },
     "metadata": {
      "needs_background": "light"
     },
     "output_type": "display_data"
    }
   ],
   "source": [
    "numvar1 = 0\n",
    "numvar2 = 1\n",
    "\n",
    "plt.scatter(X[numvar1], X[numvar2], label='Datos sin normalizar')\n",
    "\n",
    "plt.title(f'Datos originales para variables {data.columns[numvar1]} y {data.columns[numvar2]}')\n",
    "\n",
    "plt.xlabel(data.columns[numvar1])\n",
    "plt.ylabel(data.columns[numvar2])\n",
    "\n",
    "plt.legend(loc='upper left')\n",
    "plt.plot()"
   ]
  },
  {
   "cell_type": "markdown",
   "metadata": {},
   "source": [
    "Definimos la función `normalizar_datos` que resta la media y divide por la desviación estándar de cada columna por separado."
   ]
  },
  {
   "cell_type": "code",
   "execution_count": 10,
   "metadata": {},
   "outputs": [],
   "source": [
    "def normalizar_datos(X):\n",
    "    \"\"\"\n",
    "    Normaliza los datos en la matriz X.\n",
    "\n",
    "    Parameters:\n",
    "    - X (numpy.ndarray): Matriz de datos a normalizar.\n",
    "\n",
    "    Returns:\n",
    "    - X_estandar (numpy.ndarray): Matriz normalizada.\n",
    "    - X_mean (numpy.ndarray): Media de cada característica.\n",
    "    - X_std (numpy.ndarray): Desviación estándar de cada característica.\n",
    "    \"\"\"\n",
    "    n = X.shape[0]\n",
    "\n",
    "    # Promedio sobre todas las filas (axis=0)\n",
    "    X_mean = np.sum(X, axis=0) / n\n",
    "    \n",
    "    # Desviación estándar sobre todas las filas (axis=0)\n",
    "    X_std = np.sqrt(np.sum((X - X_mean) ** 2, axis=0) / n)\n",
    "\n",
    "    X_std_np = np.std(X, axis=0)\n",
    "\n",
    "    # Estandarización\n",
    "    X_estandar = (X - X_mean) / X_std\n",
    "\n",
    "    return X_estandar, X_mean, X_std"
   ]
  },
  {
   "cell_type": "markdown",
   "metadata": {},
   "source": [
    "Verificamos que la normalización de los datos centra los datos para toda variable independiente y estandariza su desviación estandar a 1:"
   ]
  },
  {
   "cell_type": "code",
   "execution_count": 11,
   "metadata": {},
   "outputs": [
    {
     "name": "stdout",
     "output_type": "stream",
     "text": [
      "Media de X: [-0. -0. -0. -0. -0.  0. -0.  0. -0.  0.  0.  0. -0.]\n",
      "Desviación estándar de X: [1. 1. 1. 1. 1. 1. 1. 1. 1. 1. 1. 1. 1.]\n"
     ]
    }
   ],
   "source": [
    "X, X_mean, X_std = normalizar_datos(X)\n",
    "\n",
    "print(f\"Media de X: {X.mean(axis=0).round(2)}\")\n",
    "print(f\"Desviación estándar de X: {X.std(axis=0).round(2)}\")"
   ]
  },
  {
   "cell_type": "markdown",
   "metadata": {},
   "source": [
    "Visualizamos los datos para cualquier par de variables independientes `numvar1` y `numvar2`:"
   ]
  },
  {
   "cell_type": "code",
   "execution_count": 12,
   "metadata": {},
   "outputs": [
    {
     "data": {
      "text/plain": [
       "[]"
      ]
     },
     "execution_count": 12,
     "metadata": {},
     "output_type": "execute_result"
    },
    {
     "data": {
      "image/png": "[encoded data removed]",
      "text/plain": [
       "<Figure size 432x288 with 1 Axes>"
      ]
     },
     "metadata": {
      "needs_background": "light"
     },
     "output_type": "display_data"
    }
   ],
   "source": [
    "numvar1 = 0\n",
    "numvar2 = 1\n",
    "\n",
    "plt.scatter(X[numvar1], X[numvar2], label='Datos normalizados')\n",
    "\n",
    "plt.hlines(0, -3, 3, color=\"gray\")\n",
    "plt.vlines(0, -3, 3, color=\"gray\")\n",
    "\n",
    "plt.title(f'Datos normalizados con Media 0 y Desviación Estándar 1')\n",
    "\n",
    "plt.xlabel(data.columns[numvar1])\n",
    "plt.ylabel(data.columns[numvar2])\n",
    "\n",
    "plt.legend()\n",
    "plt.plot()"
   ]
  },
  {
   "cell_type": "markdown",
   "metadata": {},
   "source": [
    "Podemos observar como los datos quedan organizados en el mismo rango, mostrando una nube de puntos centrada en el cero."
   ]
  },
  {
   "cell_type": "markdown",
   "metadata": {},
   "source": [
    "### $\\text{(d)}$ Matriz de Covarianza\n",
    "\n",
    "La Matriz de Covarianza representa cómo las características de los datos están relacionadas entre sí en términos de sus variaciones conjuntas. Esta matriz se utiliza para analizar la dependencia y la dispersión conjunta de las características en el conjunto de datos. En nuestro caso con 13 características, la matriz de covarianza será una matriz en $\\mathbb R^{13 \\times 13}$, donde cada elemento de la matriz representa la covarianza entre dos características $x_i \\in \\mathbb R^{178}$ particulares.\n",
    "\n",
    "Partiendo de:\n",
    "\n",
    "$X \\in \\mathbb R ^ {178 \\times 13}$\n",
    "\n",
    "con  $x_i \\in \\mathbb R^{178}$ cada columna $i$ de $X$, $i \\in [1,2,3, \\dots, 13]$\n",
    "\n",
    "Entonces tenemos que:\n",
    "\n",
    "$$ X^t X = \n",
    "\\begin{bmatrix}\n",
    "  \\langle x_1, x_1 \\rangle & \\langle x_1, x_2 \\rangle & \\langle x_1, x_3 \\rangle & \\ldots & \\langle x_1, x_{13} \\rangle \\\\\n",
    "  \\langle x_2, x_1 \\rangle & \\langle x_2, x_2 \\rangle & \\langle x_2, x_3 \\rangle & \\ldots & \\langle x_2, x_{13} \\rangle \\\\\n",
    "  \\langle x_3, x_1 \\rangle & \\langle x_3, x_2 \\rangle & \\langle x_3, x_3 \\rangle & \\ldots & \\langle x_3, x_{13} \\rangle \\\\\n",
    "  \\vdots & \\vdots & \\vdots & \\ddots & \\vdots \\\\\n",
    "  \\langle x_{13}, x_1 \\rangle & \\langle x_{13}, x_2 \\rangle & \\langle x_{13}, x_3 \\rangle & \\ldots & \\langle x_{13}, x_{13} \\rangle \\\\\n",
    "\\end{bmatrix} \\in \\mathbb R ^ {13 \\times 13}\n",
    "$$\n",
    "\n",
    "Como los valores originales están estandarizados, solo basta dividir cada uno de los elementos por la cantidad de filas u observaciones (178) de cada característica para obtener las covarianzas de nuestra matriz:\n",
    "\n",
    "$$ \\frac {X^t X}{178} = \n",
    "\\begin{bmatrix}\n",
    "  \\text{Var}(x_1) & \\text{Cov}(x_1, x_2) & \\text{Cov}(x_1, x_3) & \\ldots & \\text{Cov}(x_1, x_{13}) \\\\\n",
    "  \\text{Cov}(x_2, x_1) & \\text{Var}(x_2) & \\text{Cov}(x_2, x_3) & \\ldots & \\text{Cov}(x_2, x_{13}) \\\\\n",
    "  \\text{Cov}(x_3, x_1) & \\text{Cov}(x_3, x_2) & \\text{Var}(x_3) & \\ldots & \\text{Cov}(x_3, x_{13}) \\\\\n",
    "  \\vdots & \\vdots & \\vdots & \\ddots & \\vdots \\\\\n",
    "  \\text{Cov}(x_{13}, x_1) & \\text{Cov}(x_{13}, x_2) & \\text{Cov}(x_{13}, x_3) & \\ldots & \\text{Var}(x_{13}) \\\\\n",
    "\\end{bmatrix}\n",
    "$$\n",
    "\n",
    "Que como la desviación estándar de los datos es 1 para cada característica de datos, la varianza también será 1, lo que podemos escribir de manera explícita con unos en la diagonal:\n",
    "\n",
    "$$ \\frac {X^t X}{178} = \n",
    "\\begin{bmatrix}\n",
    "  1 & \\text{Cov}(x_1, x_2) & \\text{Cov}(x_1, x_3) & \\ldots & \\text{Cov}(x_1, x_{13}) \\\\\n",
    "  \\text{Cov}(x_2, x_1) & 1 & \\text{Cov}(x_2, x_3) & \\ldots & \\text{Cov}(x_2, x_{13}) \\\\\n",
    "  \\text{Cov}(x_3, x_1) & \\text{Cov}(x_3, x_2) & 1 & \\ldots & \\text{Cov}(x_3, x_{13}) \\\\\n",
    "  \\vdots & \\vdots & \\vdots & \\ddots & \\vdots \\\\\n",
    "  \\text{Cov}(x_{13}, x_1) & \\text{Cov}(x_{13}, x_2) & \\text{Cov}(x_{13}, x_3) & \\ldots & 1 \\\\\n",
    "\\end{bmatrix}\n",
    "$$\n",
    "\n",
    "Propiedades covarianza:\n",
    "\n",
    "* **Simetría:** La matriz de covarianza es simétrica, lo que significa que la covarianza entre la característica $i$ y la característica $j$ es igual a la covarianza entre la característica $j$ y la característica $i$. Esta simetría refleja la **bidireccionalidad** de la relación entre las características.\n",
    "\n",
    "* **Autovalores positivos:** Todos los autovalores de esta matriz son mayores a cero, pues es simétrica y parte de $X$ con columnas li.\n",
    "\n",
    "* **Diagonal principal:** Los elementos en la diagonal principal de la matriz de covarianza representan la **varianza** de cada una de las 13 características por sí sola. Es decir, estos valores indican cuánto varían individualmente las características. Como los datos están estandarizados, este valor es siempre 1.\n",
    "\n",
    "* **Valores en rango:** Todos los valores en la matriz de covarianza están entre -1 y 1.\n",
    "\n",
    "* **Medida de la relación:** Los valores fuera de la diagonal principal indican cómo las características están relacionadas entre sí. Un valor positivo en una celda indica que las características tienden a cambiar en la misma dirección, mientras que un valor negativo sugiere que cambian en direcciones opuestas. La magnitud de estos valores refleja la fuerza de la relación y un valor cercano a cero indica que saber algo de una variable no me dice nada de la otra.\n",
    "\n"
   ]
  },
  {
   "cell_type": "code",
   "execution_count": 13,
   "metadata": {},
   "outputs": [],
   "source": [
    "def matriz_covarianza(X):\n",
    "    \"\"\"\n",
    "    Calcula la matriz de covarianza de los datos en la matriz X.\n",
    "\n",
    "    Parameters:\n",
    "    - X (numpy.ndarray): Matriz de datos.\n",
    "\n",
    "    Returns:\n",
    "    - cov_matrix (numpy.ndarray): Matriz de covarianza.\n",
    "    \"\"\"\n",
    "    n = X.shape[0]\n",
    "    return X.T.dot(X) / n"
   ]
  },
  {
   "cell_type": "code",
   "execution_count": 14,
   "metadata": {},
   "outputs": [],
   "source": [
    "XTX = matriz_covarianza(X)"
   ]
  },
  {
   "cell_type": "code",
   "execution_count": 15,
   "metadata": {},
   "outputs": [
    {
     "data": {
      "text/plain": [
       "True"
      ]
     },
     "execution_count": 15,
     "metadata": {},
     "output_type": "execute_result"
    }
   ],
   "source": [
    "def test_covarianza(X):\n",
    "    \"\"\"\n",
    "    Prueba la función de matriz de covarianza comparando su resultado con la función np.cov.\n",
    "\n",
    "    Parameters:\n",
    "    - X (numpy.ndarray): Matriz de datos.\n",
    "\n",
    "    Returns:\n",
    "    - resultado (bool): True si las matrices son cercanas (iguales), False en caso contrario.\n",
    "    \"\"\"\n",
    "    XTX = matriz_covarianza(X)\n",
    "    XTX_np = np.cov(X, rowvar=False, bias=True)\n",
    "\n",
    "    # Verifico si XTX y XTX_np son \"iguales\"\n",
    "    return np.allclose(XTX, XTX_np)\n",
    "\n",
    "test_covarianza(X)"
   ]
  },
  {
   "cell_type": "markdown",
   "metadata": {},
   "source": [
    "### Visualización de Matriz de Covarianza"
   ]
  },
  {
   "cell_type": "code",
   "execution_count": 16,
   "metadata": {},
   "outputs": [],
   "source": [
    "# Cambio tamaño de la figura para visualizar mejor los números\n",
    "plt.rcParams['figure.figsize'] = [12, 12]"
   ]
  },
  {
   "cell_type": "code",
   "execution_count": 17,
   "metadata": {},
   "outputs": [
    {
     "data": {
      "image/png": "[encoded data removed]",
      "text/plain": [
       "<Figure size 864x864 with 1 Axes>"
      ]
     },
     "metadata": {
      "needs_background": "light"
     },
     "output_type": "display_data"
    }
   ],
   "source": [
    "plt.matshow(XTX, cmap='bwr_r', vmin=-1, vmax=1)\n",
    "\n",
    "for i in range(XTX.shape[0]):\n",
    "    for j in range(XTX.shape[1]):\n",
    "        # Valores de la matriz de covarianza\n",
    "        plt.text(i, j, str(XTX[i, j].round(2)), va='center', ha='center',\n",
    "                 color='white' if XTX[i, j] > 0.7 else 'black')\n",
    "\n",
    "# Agrego categorías a los ejes directamente desde el dataframe original\n",
    "plt.xticks(range(XTX.shape[0]), data.columns[0:num_indep], rotation=90, fontsize=12)\n",
    "plt.yticks(range(XTX.shape[1]), data.columns[0:num_indep], fontsize=12)\n",
    "plt.title('Matriz de Covarianza')\n",
    "plt.show()"
   ]
  },
  {
   "cell_type": "markdown",
   "metadata": {},
   "source": [
    "Viendo las mayores intensidades de color azul o rojo podemos encontrar las variables más interrelacionadas, como son `Malic_Acid` con `Hue` de forma negativa o `proline` con `alcohol` de forma positiva.\n",
    "\n",
    "De esta manera, uno podría asumir que si `proline` es alto entonces `alcohol` también, por lo que podríamos quedarnos solo con la variable `proline` y tener **casi** la misma información. Ésta es la idea detrás de tomar autovalores de la matriz de covarianza y cómo a partir de combinar la información de distintas variables se puede resumir gran parte de esa información en una única variable nueva. "
   ]
  },
  {
   "cell_type": "markdown",
   "metadata": {},
   "source": [
    "### $\\text{(e)}$ Máximo autovalor y Método de la Potencia\n",
    "\n",
    "Definimos la función `encontrar_max_autovalor` que devuelve el máximo autovalor y su correspondiente autovector utilizando el método de la potencia.\n",
    "\n",
    "Por seguridad, se configuró una máxima cantidad de iteraciones a realizar, en caso de que no haya convergencia (imposible para los datos de este TP por tener columnas li., pero generalizando para otros casos)."
   ]
  },
  {
   "cell_type": "code",
   "execution_count": 18,
   "metadata": {},
   "outputs": [],
   "source": [
    "def encontrar_max_autovalor(X, tol = 1e-6, max_iter = 10_000):\n",
    "    \"\"\"\n",
    "    Dada una matriz X y una tolerancia, devuelve el autovalor más grande y su autovector asociado\n",
    "    utilizando el método de la potencia.\n",
    "\n",
    "    Parameters:\n",
    "    - X (numpy.ndarray): Matriz para encontrar el autovalor.\n",
    "    - tol (float): Tolerancia para la convergencia del método.\n",
    "    - max_iter (int): Número máximo de iteraciones.\n",
    "\n",
    "    Returns:\n",
    "    - aval (float): Autovalor más grande.\n",
    "    - x (numpy.ndarray): Autovector asociado al autovalor más grande.\n",
    "    \"\"\"\n",
    "    \n",
    "    max_iter = 10_000\n",
    "\n",
    "    n = X.shape[0]\n",
    "    x = np.ones(n)/np.sqrt(n)\n",
    "    x = x / np.linalg.norm(x)\n",
    "    x_old = np.zeros_like(x)\n",
    "    i = 0\n",
    "    while np.linalg.norm(x - x_old) > tol and i < max_iter:\n",
    "        x_old = x\n",
    "        x = X.dot(x)\n",
    "        x = x / np.linalg.norm(x)\n",
    "        i += 1\n",
    "\n",
    "    if i == max_iter:\n",
    "        print(f\"Advertencia: El autovalor no convergió! Iteraciones realizadas: {i}\")\n",
    "\n",
    "    aval = x.T.dot(X.dot(x))\n",
    "    return aval, x\n"
   ]
  },
  {
   "cell_type": "code",
   "execution_count": 19,
   "metadata": {},
   "outputs": [
    {
     "name": "stdout",
     "output_type": "stream",
     "text": [
      "Autovalor máximo: 4.70585\n",
      "Autovector asociado:\n",
      "[ 0.1443 -0.2452 -0.0021 -0.2393  0.142   0.3947  0.4229 -0.2985  0.3134\n",
      " -0.0886  0.2967  0.3762  0.2868]\n"
     ]
    }
   ],
   "source": [
    "max_aval, max_avec = encontrar_max_autovalor(XTX)\n",
    "\n",
    "print(f\"Autovalor máximo: {max_aval.round(6)}\")\n",
    "print(f\"Autovector asociado:\\n{max_avec.round(4)}\")"
   ]
  },
  {
   "cell_type": "code",
   "execution_count": 20,
   "metadata": {},
   "outputs": [
    {
     "name": "stdout",
     "output_type": "stream",
     "text": [
      "Autovalor máximo calculado con Numpy: 4.70585\n",
      "Autovector correspondiente:\n",
      "[-0.1443  0.2452  0.0021  0.2393 -0.142  -0.3947 -0.4229  0.2985 -0.3134\n",
      "  0.0886 -0.2967 -0.3762 -0.2868]\n"
     ]
    }
   ],
   "source": [
    "autovalores, autovectores = np.linalg.eig(XTX)\n",
    "print(f\"Autovalor máximo calculado con Numpy: {autovalores[0].round(6)}\")\n",
    "print(f\"Autovector correspondiente:\\n{autovectores[:, 0].round(4)}\")"
   ]
  },
  {
   "cell_type": "markdown",
   "metadata": {},
   "source": [
    "En el siguiente punto verificaremos que todos los autovalores y autovectores calculados con el método de la potencia sean bien cercanos a los valores devueltos por Numpy."
   ]
  },
  {
   "cell_type": "markdown",
   "metadata": {},
   "source": [
    "### $\\text{(f)}$ Autovalores sucesivos y sus autovectores\n",
    "\n",
    "Dado que nuestros datos poseen 13 columnas de variables independientes (y linealmente independiente), y que ninguna de sus filas es combinación lineal de otras, el rango de la matriz $X$ será de la menor de las dimensiones entre filas y columnas, en nuestro caso, 13 columnas.\n",
    "\n",
    "Por lo tanto, la matriz de covarianza que surge de hacer $X^t X$ tendrá todos sus autovalores positivos, que serán 13 (si alguno fuera cero, entonces deberían existir columnas o filas linealmente dependientes entre ellas).\n",
    "\n",
    "Cada uno de los 13 autovalores de $X^t X$ es a su vez cada uno de los **valores principales** de $X$, el cual nos indica la \"intensidad\" o \"peso\" que tiene el autovector asociado correspondiente como dirección hacia donde mayor varianza tienen los datos.\n",
    "\n",
    "Dicho de otra forma, cada uno de estos autovalores y autovectores asociado \"resume\" la información que se encuentra en los datos $X$, de forma que el primer valor principal y el autovector asociado nos dará la máxima información posible en una única dimensión, mientras que el segundo valor principal y el autovector asociado nos dará la segunda-máxima información posible en una dirección ortogonal al primer vector. Así sucesivamente hasta recorrer los 13 valores principales y sus correspondientes autovectores, los cuales, en todo su conjunto, nos dan exactamente toda la información que aparece en $X$.\n",
    "\n",
    "Un detalle importante es que, así como los valores principales se ordenan de mayor a menor en la matriz diagonal $\\Sigma$ en una descomposición SVD, tendremos ordenados por \"importancia\" los valores principales y autovectores que mejor resumen nuestros datos en $X$."
   ]
  },
  {
   "cell_type": "markdown",
   "metadata": {},
   "source": [
    "### Algoritmo\n",
    "\n",
    "Para implementar el algoritmo que calcula todos los autovalores y autovectores de una matriz en órden descendente, usaremos la función `encontrar_max_autovalor` definida anteriormente.\n",
    "\n",
    "Una vez encontrado el primer autovalor $\\sigma_1$ y su correspondiente autovector $v_1$, restaremos a la matriz original el producto: $\\sigma_1 \\langle v_1, v_1 \\rangle$\n",
    "\n",
    "De esta forma obtendremos una nueva matriz cuyo autovalor máximo será el segundo autovalor más grande de la matriz original, con su correspondiente autovector:\n",
    "\n",
    "$$X^t X = U \\Sigma V^t $$\n",
    "\n",
    "Como $X^t X$ es simétrica:\n",
    "\n",
    "$$X^t X = V \\Sigma V^t $$\n",
    "\n",
    "Que podemos reescribir de forma reducida como:\n",
    "\n",
    "$$X^t X = \\sigma_1 \\langle v_1, v_1 \\rangle + \\sigma_2 \\langle v_2, v_2 \\rangle + \\dots + \\sigma_{13} \\langle v_{13}, v_{13} \\rangle$$\n",
    "\n",
    "Luego de encontrar el primer autovalor y autovector de $X^t X$, restamos a la matriz original:\n",
    "\n",
    "$$X^t X - \\sigma_1 \\langle v_1, v_1 \\rangle= \\sigma_1 \\langle v_1, v_1 \\rangle + \\sigma_2 \\langle v_2, v_2 \\rangle + \\dots + \\sigma_{13} \\langle v_{13}, v_{13} \\rangle - \\sigma_1 \\langle v_1, v_1 \\rangle$$\n",
    "\n",
    "$$X^t X - \\sigma_1 \\langle v_1, v_1 \\rangle= \\sigma_1 \\langle v_1, v_1 \\rangle - \\sigma_1 \\langle v_1, v_1 \\rangle + \\sigma_2 \\langle v_2, v_2 \\rangle + \\dots + \\sigma_{13} \\langle v_{13}, v_{13}\\rangle $$\n",
    "\n",
    "$$A_{-1}= \\sigma_2 \\langle v_2, v_2 \\rangle + \\dots + \\sigma_{13} \\langle v_{13}, v_{13} \\rangle - \\sigma_1 \\langle v_1, v_1 \\rangle$$\n",
    "\n",
    "La nueva matriz $A_{-1}$ tendrá todas las componentes de rango 1 que $X^t X$ menos la primera, por lo que su máximo autovalor y autovector correspondiente se corresponderá con el segundo máximo de la matriz $X^t X$ inicial.\n",
    "\n",
    "De manera iterativa podemos encontrar cada uno de los autovalores y autovectores de la matriz original en orden descendente.\n"
   ]
  },
  {
   "cell_type": "code",
   "execution_count": 21,
   "metadata": {},
   "outputs": [],
   "source": [
    "def encontrar_autovalores(X, n, tol=1e-8):\n",
    "    \"\"\"\n",
    "    Dada una matriz X y un número n, devuelve los n autovalores más grandes y sus autovectores asociados\n",
    "    utilizando el método de la potencia.\n",
    "\n",
    "    Parameters:\n",
    "    - X (numpy.ndarray): Matriz para encontrar los autovalores.\n",
    "    - n (int): Número de autovalores a calcular.\n",
    "    - tol (float): Tolerancia para la convergencia del método.\n",
    "\n",
    "    Returns:\n",
    "    - autovalores (numpy.ndarray): Array con los n autovalores más grandes.\n",
    "    - autovectores (numpy.ndarray): Matriz cuyas columnas son los autovectores asociados a los autovalores.\n",
    "    \"\"\"\n",
    "    \n",
    "    autovalores = np.zeros(n)\n",
    "    autovectores = np.zeros((X.shape[0], n))\n",
    "    nuevaX = X.copy()\n",
    "\n",
    "    for i in range(n):\n",
    "        aval, avec = encontrar_max_autovalor(nuevaX, tol)\n",
    "        autovalores[i] = aval\n",
    "        autovectores[:, i] = avec\n",
    "        nuevaX = nuevaX - aval * np.outer(avec, avec)\n",
    "        \n",
    "    return autovalores, autovectores"
   ]
  },
  {
   "cell_type": "markdown",
   "metadata": {},
   "source": [
    "Verificamos que todos los autovalores y autovectores calculados con `encontrar_autovalores` sean iguales a `np.linalg.eig()` de Numpy:"
   ]
  },
  {
   "cell_type": "code",
   "execution_count": 22,
   "metadata": {},
   "outputs": [
    {
     "name": "stdout",
     "output_type": "stream",
     "text": [
      "Autovalores similares a Numpy: True\n",
      "Autovectores similares a Numpy: True\n"
     ]
    },
    {
     "data": {
      "text/plain": [
       "True"
      ]
     },
     "execution_count": 22,
     "metadata": {},
     "output_type": "execute_result"
    }
   ],
   "source": [
    "def test_autovalores(X):\n",
    "    \"\"\"\n",
    "    Prueba la función de encontrar_autovalores comparando sus resultados con la función np.linalg.eig.\n",
    "\n",
    "    Parameters:\n",
    "    - X (numpy.ndarray): Matriz de datos.\n",
    "\n",
    "    Returns:\n",
    "    - resultado (bool): True si los autovalores y autovectores son similares a los de Numpy, False en caso contrario.\n",
    "    \"\"\"\n",
    "    n = X.shape[0]\n",
    "    autovalores, autovectores = encontrar_autovalores(X, n)\n",
    "    autovalores_np, autovectores_np = np.linalg.eig(X)\n",
    "\n",
    "    # Ordeno los autovalores y autovectores de mayor a menor\n",
    "    idx = np.argsort(autovalores_np)[::-1]\n",
    "    autovalores_np = autovalores_np[idx]\n",
    "    autovectores_np = autovectores_np[:, idx]\n",
    "\n",
    "    autovalores_similares = np.allclose(autovalores, autovalores_np)\n",
    "\n",
    "    # Los autovectores pueden tener signo opuesto, por lo que no es posible compararlos directamente\n",
    "    autovectores_similares = True\n",
    "    for v in autovectores:\n",
    "        if (v not in autovectores) and (-v not in autovectores):\n",
    "            autovectores_similares = False\n",
    "            break\n",
    "\n",
    "    print(f\"Autovalores similares a Numpy: {autovalores_similares}\")\n",
    "    print(f\"Autovectores similares a Numpy: {autovectores_similares}\")\n",
    "    return autovalores_similares and autovectores_similares\n",
    "\n",
    "test_autovalores(XTX)"
   ]
  },
  {
   "cell_type": "markdown",
   "metadata": {},
   "source": [
    "### $\\text{(g)}$ Método de PCA y KNN\n",
    "\n",
    "Para utilizar el método de PCA (*Principal Component Analisys*) necesitamos obtener los primeros $n$ componentes principales de la matriz de covarianza de los datos estandarizados, es decir, sus $n$ autovectores más grandes.\n",
    "\n",
    "Una vez obtenido estos valores, podemos usar el algoritmo KNN sobre los datos proyectados en una dimensionalidad menor para clasificarlos utilizando solamente una porción del espacio utilizado por los datos de entrenamiento."
   ]
  },
  {
   "cell_type": "code",
   "execution_count": 23,
   "metadata": {},
   "outputs": [],
   "source": [
    "def calcular_pca(X, n=2):\n",
    "    \"\"\"\n",
    "    Dado un conjunto de datos X y un número n, devuelve los n autovalores más grandes y sus autovectores asociados.\n",
    "\n",
    "    Parameters:\n",
    "    - X (numpy.ndarray): Matriz de datos.\n",
    "    - n (int): Número de componentes principales a calcular.\n",
    "\n",
    "    Returns:\n",
    "    - autovalores (numpy.ndarray): Array con los n autovalores más grandes.\n",
    "    - autovectores (numpy.ndarray): Matriz cuyas columnas son los autovectores asociados a los autovalores.\n",
    "    \"\"\"\n",
    "    XTX = matriz_covarianza(X)\n",
    "    autovalores, autovectores = encontrar_autovalores(XTX, n)\n",
    "    return autovalores, autovectores"
   ]
  },
  {
   "cell_type": "code",
   "execution_count": 24,
   "metadata": {},
   "outputs": [],
   "source": [
    "def proyectar_datos(X, W):\n",
    "    \"\"\"\n",
    "    Dado un conjunto de datos X y una matriz de proyección W, devuelve los datos transformados.\n",
    "\n",
    "    Parameters:\n",
    "    - X (numpy.ndarray): Matriz de datos a proyectar.\n",
    "    - W (numpy.ndarray): Matriz de proyección.\n",
    "\n",
    "    Returns:\n",
    "    - X_proyectado (numpy.ndarray): Matriz de datos transformados.\n",
    "    \"\"\"\n",
    "    return X.dot(W)"
   ]
  },
  {
   "cell_type": "code",
   "execution_count": 25,
   "metadata": {},
   "outputs": [],
   "source": [
    "def knn(X, y, x_new, k=3):\n",
    "    \"\"\"\n",
    "    Dado un conjunto de datos X, sus etiquetas y un punto x, devuelve la clase a la que pertenece x\n",
    "    utilizando el algoritmo KNN con k vecinos.\n",
    "\n",
    "    Parameters:\n",
    "    - X (numpy.ndarray): Conjunto de datos de entrenamiento.\n",
    "    - y (numpy.ndarray): Etiquetas correspondientes a los datos de entrenamiento.\n",
    "    - x_new (numpy.ndarray): Nuevo punto para clasificar.\n",
    "    - k (int): Número de vecinos a considerar.\n",
    "\n",
    "    Returns:\n",
    "    - max_clase (int): Clase predicha para el punto x_new.\n",
    "    \"\"\"\n",
    "    # Calculamos las distancias como norma 2 entre todos los puntos y el punto x\n",
    "    distancias = np.linalg.norm(X - x_new, axis=1, ord=2)\n",
    "\n",
    "    # Ordenamos las distancias de menor a mayor y nos quedamos con los índices\n",
    "    indices = np.argsort(distancias)\n",
    "\n",
    "    # Ordenamos las clases y nos quedamos con las k primeras\n",
    "    clases = y[indices][:k]\n",
    "\n",
    "    # Contamos cuántas veces aparece cada clase\n",
    "    # Ignoramos la clase 0 que no existe pero que es parte de bincount\n",
    "    cantidades = np.bincount(clases, minlength=4)\n",
    "\n",
    "    # Nos quedamos con la clase que más aparece\n",
    "    max_clase = np.argmax(cantidades)\n",
    "    return max_clase"
   ]
  },
  {
   "cell_type": "markdown",
   "metadata": {},
   "source": [
    "### Visualización de prueba de PCA y KNN\n",
    "\n",
    "A continuación, una prueba de testeo de las tres funciones definidas anteriormente:\n",
    "\n",
    "1. `calcular_pca` que dada una matriz $X$ devuelve una matriz $W$ con sus $n$ componentes principales como columnas.\n",
    "2. `proyectar_datos` que dada una matriz de datos $X$ y una matriz de proyección $W$ (obtenida a partir de `calcular_pca`) devuelve las coordenadas de $X$ en el subespacio definido por $W$.\n",
    "3. `knn` que dada una matriz de datos $X$, sus etiquetas $y$ y un nuevo punto $x_{new}$ devuelve la clase a la que perteneces este punto.\n",
    "\n",
    "La función `test_pca` calculará los componentes principales de **la totalidad** de los datos $X$ y los proyectará sobre el subespacio generado por los primeros $n$ autovectores de $X^t X$ (las primeras $n$ componentes principales de $X$).\n",
    "\n",
    "Luego se generará una grilla de puntos que se categorizarán usando la función `knn`.\n",
    "\n",
    "De esta manera tendremos las coordenadas de los datos del dataset proyectados como puntos en el plano de 2 dimensiones (2 componentes principales) y también las zonas de decisión de ese espacio coloreadas por categoría a la cual pertenecen."
   ]
  },
  {
   "cell_type": "code",
   "execution_count": 26,
   "metadata": {},
   "outputs": [],
   "source": [
    "def test_pca(X, y, k=5):\n",
    "    \"\"\"\n",
    "    Dado un conjunto de datos X y sus etiquetas, devuelve un gráfico de dispersión de los datos\n",
    "    proyectados en los n autovectores más grandes.\n",
    "\n",
    "    Parameters:\n",
    "    - X (numpy.ndarray): Conjunto de datos de entrenamiento.\n",
    "    - y (numpy.ndarray): Etiquetas correspondientes a los datos de entrenamiento.\n",
    "    - k (int): Número de vecinos a considerar en el algoritmo KNN.\n",
    "\n",
    "    Returns:\n",
    "    - None\n",
    "    \"\"\"\n",
    "    n = 2 # Número de componentes principales (fijo)\n",
    "\n",
    "    avals, avecs = calcular_pca(X, n)\n",
    "    X_pca = proyectar_datos(X, avecs)\n",
    "\n",
    "    # Grilla de puntos para graficar las zonas de decisión\n",
    "    x1 = np.linspace(-4.5, 4.5, 200)\n",
    "    x2 = np.linspace(-4.5, 4.5, 200)\n",
    "    xx1, xx2 = np.meshgrid(x1, x2)\n",
    "\n",
    "    xx = np.array([xx1.flatten(), xx2.flatten()]).T\n",
    "    yy = np.array([knn(X_pca, y, x, k) for x in xx])\n",
    "    yy = yy.reshape(xx1.shape)\n",
    "\n",
    "    cmap = ListedColormap(['blue', 'red', 'green'])\n",
    "\n",
    "    plt.contourf(xx1, xx2, yy, cmap=cmap, alpha=0.4, vmin=1, vmax=3)\n",
    "\n",
    "    plt.scatter(X_pca[:, 0], X_pca[:, 1], c=y, cmap=cmap, label='Datos proyectados', edgecolors='k')\n",
    "\n",
    "    # ScalarMappable para visualizar la barra de colores lateral\n",
    "    sm = ScalarMappable(cmap=cmap)\n",
    "    sm.set_array([])\n",
    "    plt.colorbar(sm, ticks=[1, 2, 3], label='Clase', boundaries=[0.5, 1.5, 2.5, 3.5])\n",
    "    \n",
    "    plt.title(f'PCA con {n} componentes principales y zonas de decisión de KNN con k={k}')\n",
    "    plt.legend()\n",
    "    plt.show()"
   ]
  },
  {
   "cell_type": "markdown",
   "metadata": {},
   "source": [
    "El primer ejemplo de test es con $k=1$ para `knn`, donde se observan \"agujeros\" en regiones por puntos de alguna categoria rodeados de alguna otra:\n"
   ]
  },
  {
   "cell_type": "code",
   "execution_count": 27,
   "metadata": {},
   "outputs": [
    {
     "data": {
      "image/png": "[encoded data removed]",
      "text/plain": [
       "<Figure size 864x864 with 2 Axes>"
      ]
     },
     "metadata": {
      "needs_background": "light"
     },
     "output_type": "display_data"
    }
   ],
   "source": [
    "test_pca(X, y, k=1)"
   ]
  },
  {
   "cell_type": "markdown",
   "metadata": {},
   "source": [
    "Con $k=5$ podemos ver que estos \"agujeros\" desaparecen como es de esperar, ya que al tomar en cuenta varios vecinos, los datos aislados son descartados en estas decisiones:"
   ]
  },
  {
   "cell_type": "code",
   "execution_count": 28,
   "metadata": {},
   "outputs": [
    {
     "data": {
      "image/png": "[encoded data removed]",
      "text/plain": [
       "<Figure size 864x864 with 2 Axes>"
      ]
     },
     "metadata": {
      "needs_background": "light"
     },
     "output_type": "display_data"
    }
   ],
   "source": [
    "test_pca(X, y, k=5)"
   ]
  },
  {
   "cell_type": "markdown",
   "metadata": {},
   "source": [
    "### $\\text{(g)}$ Función de Clasificación\n",
    "\n",
    "Finalmente definimos la función que se encargará de clasificar un nuevo punto $x_i$ a partir de un conjunto de datos estandarizados $X_{train}$"
   ]
  },
  {
   "cell_type": "code",
   "execution_count": 29,
   "metadata": {},
   "outputs": [],
   "source": [
    "def clasificar_pca(xi, X_train_pca, y_train, X_mean, X_std, W_pca, k=5):\n",
    "    \"\"\"\n",
    "    Dado un punto xi, las componentes principales de un conjunto de entrenamiento estandarizado X_train_pca,\n",
    "    sus etiquetas y_train, la media y desviación estándar de X_train original, n componentes principales en W_pca\n",
    "    y un número k de vecinos, devuelve la tupla (xi_pca, yi) donde xi_pca es la proyección de xi en los n componentes\n",
    "    principales y yi es la clase a la que pertenece.\n",
    "\n",
    "    Parameters:\n",
    "    - xi (numpy.ndarray): Punto a clasificar.\n",
    "    - X_train_pca (numpy.ndarray): Componentes principales del conjunto de entrenamiento.\n",
    "    - y_train (numpy.ndarray): Etiquetas correspondientes al conjunto de entrenamiento.\n",
    "    - X_mean (numpy.ndarray): Media del conjunto de entrenamiento original.\n",
    "    - X_std (numpy.ndarray): Desviación estándar del conjunto de entrenamiento original.\n",
    "    - W_pca (numpy.ndarray): Matriz de proyección de PCA.\n",
    "    - k (int): Número de vecinos a considerar en el algoritmo KNN.\n",
    "\n",
    "    Returns:\n",
    "    - (xi_pca, yi) (tuple): Tupla donde xi_pca es la proyección de xi en los n componentes principales y yi es la\n",
    "      clase a la que pertenece.\n",
    "    \"\"\"\n",
    "    # Normalizamos el punto xi a partir de la media y desviación estándar de X_train\n",
    "    xi_norm = (xi - X_mean) / X_std\n",
    "\n",
    "    # Calculamos los n componentes principales\n",
    "    xi_pca = proyectar_datos(xi_norm, W_pca)\n",
    "\n",
    "    # Clasificamos utilizando KNN\n",
    "    yi = knn(X_train_pca, y_train, xi_pca, k)\n",
    "    return xi_pca, yi"
   ]
  },
  {
   "cell_type": "markdown",
   "metadata": {},
   "source": [
    "# Ejercicio 2\n",
    "\n",
    "### Datos originales\n",
    "\n",
    "Primero necesitamos volver a los datos originales sin estandarizar, ya que no queremos que haya ningún tipo de filtración de información desde los datos de testeo hacia entrenamiento.\n",
    "\n",
    "Para eso primero separamos los datos en datos de entrenamiento y de testeo, para luego estandarizarlos solo usando la media y desviación estándar de los datos de entrenamiento.\n",
    "\n"
   ]
  },
  {
   "cell_type": "code",
   "execution_count": 30,
   "metadata": {},
   "outputs": [],
   "source": [
    "# Construyo matrices de datos sin estandarizar\n",
    "num_indep = data.shape[1] - 1\n",
    "X = data.iloc[:, 0:num_indep].values\n",
    "y = data.iloc[:, -1].values"
   ]
  },
  {
   "cell_type": "markdown",
   "metadata": {},
   "source": [
    "### División de los datos\n",
    "\n",
    "Dividimos los datos en datos de entrenamiento $X_{train}, y_{train}$ y datos de testeo $X_{test}, y_{test}$.\n",
    "\n",
    "Para eso elegiremos un $80 \\%$ de los datos al azar como entrenamiento y el restante $20\\%$ como testeo."
   ]
  },
  {
   "cell_type": "code",
   "execution_count": 31,
   "metadata": {},
   "outputs": [],
   "source": [
    "def dividir_dataset(X, y, p=0.8):\n",
    "    \"\"\"\n",
    "    Dado un conjunto de datos X y sus etiquetas, devuelve dos conjuntos de datos y etiquetas de entrenamiento y testeo.\n",
    "\n",
    "    Parameters:\n",
    "    - X (numpy.ndarray): Conjunto de datos.\n",
    "    - y (numpy.ndarray): Etiquetas correspondientes a los datos.\n",
    "    - p (float): Proporción de datos a utilizar para entrenamiento (por defecto, 0.8).\n",
    "\n",
    "    Returns:\n",
    "    - X_train (numpy.ndarray): Conjunto de datos de entrenamiento.\n",
    "    - y_train (numpy.ndarray): Etiquetas correspondientes al conjunto de entrenamiento.\n",
    "    - X_test (numpy.ndarray): Conjunto de datos de testeo.\n",
    "    - y_test (numpy.ndarray): Etiquetas correspondientes al conjunto de testeo.\n",
    "    \"\"\"\n",
    "    n = X.shape[0]\n",
    "    rand_idx = np.random.permutation(n)\n",
    "    n_train = int(n * p)\n",
    "\n",
    "    train_idx = rand_idx[:n_train]\n",
    "    test_idx = rand_idx[n_train:]\n",
    "\n",
    "    X_train = X[train_idx, :]\n",
    "    y_train = y[train_idx]\n",
    "\n",
    "    X_test = X[test_idx, :]\n",
    "    y_test = y[test_idx]\n",
    "\n",
    "    return X_train, y_train, X_test, y_test\n"
   ]
  },
  {
   "cell_type": "markdown",
   "metadata": {},
   "source": [
    "Verificamos que las dimensiones de las matrices devueltas por la función `dividir_dataset` estén en orden:"
   ]
  },
  {
   "cell_type": "code",
   "execution_count": 32,
   "metadata": {},
   "outputs": [
    {
     "name": "stdout",
     "output_type": "stream",
     "text": [
      "Datos totales: 178\n",
      "Proporción de datos de entrenamiento: 0.8\n",
      "\n",
      "Dimensionalidad de X_train: 142 x 13\n",
      "Dimensionalidad de y_train: 142\n",
      "Dimensionalidad de X_test: 36 x 13\n",
      "Dimensionalidad de y_test: 36\n"
     ]
    }
   ],
   "source": [
    "X_train, y_train, X_test, y_test = dividir_dataset(X, y)\n",
    "\n",
    "print(f\"Datos totales: {X.shape[0]}\")\n",
    "print(f\"Proporción de datos de entrenamiento: {round(X_train.shape[0] / X.shape[0], 2)}\")\n",
    "print()\n",
    "print(f\"Dimensionalidad de X_train: {X_train.shape[0]} x {X_train.shape[1]}\")\n",
    "print(f\"Dimensionalidad de y_train: {y_train.shape[0]}\")\n",
    "print(f\"Dimensionalidad de X_test: {X_test.shape[0]} x {X_test.shape[1]}\")\n",
    "print(f\"Dimensionalidad de y_test: {y_test.shape[0]}\")"
   ]
  },
  {
   "cell_type": "markdown",
   "metadata": {},
   "source": [
    "Estandarizamos **solo** los datos de entrenamiento y guardamos media $X_{mean}$ y desviación estándar $X_{std}$ originales para poder estandarizar nuevos puntos $x_i$ bajo la distribución de los datos de entrenamiento $X_{train}$"
   ]
  },
  {
   "cell_type": "code",
   "execution_count": 33,
   "metadata": {},
   "outputs": [],
   "source": [
    "X_train, X_mean, X_std = normalizar_datos(X_train)\n",
    "# Nota: Los datos de testeo se estandarizan dentro de la función clasificar_pca"
   ]
  },
  {
   "cell_type": "code",
   "execution_count": 34,
   "metadata": {},
   "outputs": [],
   "source": [
    "def ejecutar_modelo(X_test, X_train_pca, y_train, W_pca, X_mean, X_std, n=2, k=10):\n",
    "    \"\"\"\n",
    "    Ejecuta un modelo que clasifica puntos en el conjunto de prueba X_test utilizando PCA y KNN.\n",
    "\n",
    "    Parameters:\n",
    "    - X_test (numpy.ndarray): Conjunto de datos de prueba.\n",
    "    - X_train_pca (numpy.ndarray): Componentes principales del conjunto de entrenamiento.\n",
    "    - y_train (numpy.ndarray): Etiquetas correspondientes al conjunto de entrenamiento.\n",
    "    - W_pca (numpy.ndarray): Matriz de proyección de PCA.\n",
    "    - X_mean (numpy.ndarray): Media del conjunto de entrenamiento original.\n",
    "    - X_std (numpy.ndarray): Desviación estándar del conjunto de entrenamiento original.\n",
    "    - n (int): Número de componentes principales (por defecto, 2).\n",
    "    - k (int): Número de vecinos a considerar en el algoritmo KNN (por defecto, 10).\n",
    "\n",
    "    Returns:\n",
    "    - X_test_pca (numpy.ndarray): Conjunto de datos de prueba proyectado en los n componentes principales.\n",
    "    - y_pred (numpy.ndarray): Etiquetas predichas para el conjunto de prueba.\n",
    "    \"\"\"\n",
    "    num_test = X_test.shape[0]\n",
    "    X_test_pca = np.zeros((num_test, n))\n",
    "    y_pred = np.zeros_like(y_test)\n",
    "\n",
    "    for i in range(num_test):\n",
    "        xi_pca, yi =  clasificar_pca(X_test[i], X_train_pca, y_train, X_mean, X_std, W_pca, k)\n",
    "        X_test_pca[i, :] = xi_pca\n",
    "        y_pred[i] = yi\n",
    "\n",
    "    return X_test_pca, y_pred"
   ]
  },
  {
   "cell_type": "code",
   "execution_count": 35,
   "metadata": {},
   "outputs": [
    {
     "name": "stdout",
     "output_type": "stream",
     "text": [
      "Número de predicciones correctas: 33\n",
      "Número de predicciones incorrectas: 3\n",
      "Precisión: 0.9166666666666666\n"
     ]
    }
   ],
   "source": [
    "def test_modelo(X_train, X_test, y_train, y_test, n=2, k=10):\n",
    "    \"\"\"\n",
    "    Realiza pruebas de un modelo que utiliza PCA y KNN para clasificar datos de prueba.\n",
    "\n",
    "    Parameters:\n",
    "    - X_train (numpy.ndarray): Conjunto de datos de entrenamiento.\n",
    "    - X_test (numpy.ndarray): Conjunto de datos de prueba.\n",
    "    - y_train (numpy.ndarray): Etiquetas correspondientes al conjunto de entrenamiento.\n",
    "    - y_test (numpy.ndarray): Etiquetas correspondientes al conjunto de prueba.\n",
    "    - n (int): Número de componentes principales para PCA (por defecto, 2).\n",
    "    - k (int): Número de vecinos a considerar en el algoritmo KNN (por defecto, 10).\n",
    "\n",
    "    Returns:\n",
    "    - None\n",
    "    \"\"\"\n",
    "    # Calculo los autovalores y autovectores utilizando PCA\n",
    "    _, W_pca = calcular_pca(X_train, n)\n",
    "\n",
    "    # Proyecto los datos de entrenamiento y testeo sobre las componentes principales obtenidas\n",
    "    X_train_pca = proyectar_datos(X_train, W_pca)\n",
    "\n",
    "    # Ejecuto el modelo en el conjunto de prueba\n",
    "    _, y_pred = ejecutar_modelo(X_test, X_train_pca, y_train, W_pca, X_mean, X_std, n, k)\n",
    "    \n",
    "    # Calculo el número de predicciones correctas e incorrectas\n",
    "    num_correct = sum(y_pred == y_test)\n",
    "    num_incorrect = sum(y_pred != y_test)\n",
    "\n",
    "    print(f\"Número de predicciones correctas: {num_correct}\")\n",
    "    print(f\"Número de predicciones incorrectas: {num_incorrect}\")\n",
    "    print(f\"Precisión: {num_correct / (num_correct + num_incorrect)}\")\n",
    "\n",
    "test_modelo(X_train, X_test, y_train, y_test, n=2, k=10)"
   ]
  },
  {
   "cell_type": "markdown",
   "metadata": {},
   "source": [
    "Como `num_correct` y `num_incorrect` suman la cantidad total de datos de testeo, por lo que solo basta calcular uno y tener la cantidad de datos de test para obtener el valor del otro.\n",
    "\n",
    "De ahora en más, solo calcularemos `num_incorrect` como medida de evaluación del modelo."
   ]
  },
  {
   "cell_type": "markdown",
   "metadata": {},
   "source": [
    "### Búsqueda de los mejores parámetros\n",
    "\n",
    "Una vez que tenemos la función que ejecuta un modelo para algún conjunto de parámetros particulares, podemos iterar sobre varios parámetros para recorrer el espacio de soluciones de, por ejemplo, valores principales entre 1 y 4 incluidos."
   ]
  },
  {
   "cell_type": "code",
   "execution_count": 36,
   "metadata": {},
   "outputs": [
    {
     "name": "stdout",
     "output_type": "stream",
     "text": [
      "Componentes Principales = 1: Número de predicciones incorrectas: 9\n",
      "Componentes Principales = 2: Número de predicciones incorrectas: 3\n",
      "Componentes Principales = 3: Número de predicciones incorrectas: 0\n",
      "Componentes Principales = 4: Número de predicciones incorrectas: 0\n"
     ]
    }
   ],
   "source": [
    "for n in range(1, 5):\n",
    "    _, W_pca = calcular_pca(X_train, n)\n",
    "    X_train_pca = proyectar_datos(X_train, W_pca)\n",
    "    \n",
    "    _, y_pred = ejecutar_modelo(X_test, X_train_pca, y_train, W_pca, X_mean, X_std, n, k=10)\n",
    "    num_incorrect = sum(y_pred != y_test)\n",
    "    print(f\"Componentes Principales = {n}: Número de predicciones incorrectas: {num_incorrect}\")\n"
   ]
  },
  {
   "cell_type": "markdown",
   "metadata": {},
   "source": [
    "Podemos ver que (para esta separación de `train` y `test` particular) el número de predicciones incorrectas decrecen con la cantidad de componentes principales, como es de esperarse.\n",
    "\n",
    "Pero todavía tenemos un segundo parámetro a explorar dado por el algoritmo de vecinos más cercanos KNN:"
   ]
  },
  {
   "cell_type": "code",
   "execution_count": 37,
   "metadata": {},
   "outputs": [],
   "source": [
    "def obtener_estadisticas(X_train, X_test, y_train, y_test, X_mean, X_std, num_componentes, vecinos):\n",
    "    \"\"\"\n",
    "    Obtiene estadísticas de clasificación para diferentes números de componentes principales y vecinos en KNN.\n",
    "\n",
    "    Parameters:\n",
    "    - X_train (numpy.ndarray): Conjunto de datos de entrenamiento.\n",
    "    - X_test (numpy.ndarray): Conjunto de datos de prueba.\n",
    "    - y_train (numpy.ndarray): Etiquetas correspondientes al conjunto de entrenamiento.\n",
    "    - y_test (numpy.ndarray): Etiquetas correspondientes al conjunto de prueba.\n",
    "    - X_mean (numpy.ndarray): Media del conjunto de entrenamiento original.\n",
    "    - X_std (numpy.ndarray): Desviación estándar del conjunto de entrenamiento original.\n",
    "    - num_componentes (list): Lista de números de componentes principales a probar.\n",
    "    - vecinos (list): Lista de números de vecinos a probar en KNN.\n",
    "\n",
    "    Returns:\n",
    "    - estadisticas (numpy.ndarray): Matriz de estadísticas de clasificación.\n",
    "    \"\"\"\n",
    "    m = len(num_componentes)\n",
    "    tot_vecinos = len(vecinos)\n",
    "    estadisticas = np.zeros((m, tot_vecinos))\n",
    "\n",
    "    for n in range(1, m+1):\n",
    "        _, W_pca = calcular_pca(X_train, n)\n",
    "        X_train_pca = proyectar_datos(X_train, W_pca)\n",
    "        for k in range(1, tot_vecinos+1):\n",
    "            _, y_pred = ejecutar_modelo(X_test, X_train_pca, y_train, W_pca, X_mean, X_std, n, k)\n",
    "            num_incorrect = sum(y_pred != y_test)\n",
    "            estadisticas[n-1, k-1] = num_incorrect\n",
    "\n",
    "    return estadisticas"
   ]
  },
  {
   "cell_type": "code",
   "execution_count": 38,
   "metadata": {},
   "outputs": [
    {
     "name": "stdout",
     "output_type": "stream",
     "text": [
      "Finalizado. Estadísticas obtenidas.\n"
     ]
    }
   ],
   "source": [
    "num_componentes = range(1, 5)\n",
    "vecinos = range(1, 41)\n",
    "estadisticas = obtener_estadisticas(X_train, X_test, y_train, y_test, X_mean, X_std, num_componentes, vecinos)\n",
    "\n",
    "print(\"Finalizado. Estadísticas obtenidas.\")"
   ]
  },
  {
   "cell_type": "markdown",
   "metadata": {},
   "source": [
    "En este caso optamos por graficar en una tabla coloreada las distintas cantidades de errores según la combinación de parámetros.\n",
    "\n",
    "Nota: Para los vecinos elegimos entre 1 y 40 ya que buscábamos no solo que baje el error, sino que vuelva a aumentar, de forma que quede explícito que valores más grande de vecinos **no siempre** resulta en un mejor modelo."
   ]
  },
  {
   "cell_type": "code",
   "execution_count": 39,
   "metadata": {},
   "outputs": [
    {
     "data": {
      "image/png": "[encoded data removed]",
      "text/plain": [
       "<Figure size 1152x144 with 1 Axes>"
      ]
     },
     "metadata": {
      "needs_background": "light"
     },
     "output_type": "display_data"
    }
   ],
   "source": [
    "def colorear_error(e):\n",
    "    \"\"\"\n",
    "    Asigna un color en función del número de errores.\n",
    "\n",
    "    Parameters:\n",
    "    - e (int): Número de errores.\n",
    "\n",
    "    Returns:\n",
    "    - str: Color correspondiente.\n",
    "    \"\"\"\n",
    "    if e == 0:\n",
    "        return 'darkgreen'\n",
    "    elif e <= 8:\n",
    "        return 'black'\n",
    "    else:\n",
    "        return 'white'\n",
    "\n",
    "# Creo un gráfico de matriz mostrando las estadísticas de clasificación\n",
    "plt.matshow(estadisticas, cmap='Reds', vmin=0, vmax=estadisticas.max())\n",
    "\n",
    "for i in range(estadisticas.shape[0]):\n",
    "    for j in range(estadisticas.shape[1]):\n",
    "        plt.text(j, i, f'{int(estadisticas[i, j])}', va='center', ha='center',\n",
    "                 color=colorear_error(estadisticas[i, j]),\n",
    "                 fontweight='bold' if estadisticas[i, j] == 0 else 'normal')\n",
    "\n",
    "# Ajusto parámetros de las etiquetas en los ejes\n",
    "plt.tick_params(axis='x', bottom=True, top=False, labelbottom=True, labeltop=False)\n",
    "\n",
    "# Etiquetas en los ejes x e y\n",
    "plt.xticks(range(estadisticas.shape[1]), labels=vecinos)\n",
    "plt.yticks(range(estadisticas.shape[0]), labels=num_componentes)\n",
    "\n",
    "plt.title(f'Número de predicciones incorrectas por cada {X_test.shape[0]} elementos', pad=30, fontsize=16, fontweight='bold', color='gray', loc='left')\n",
    "plt.xlabel('Número de vecinos')\n",
    "plt.ylabel('Número de \\ncomponentes principales')\n",
    "plt.show()\n"
   ]
  },
  {
   "cell_type": "markdown",
   "metadata": {},
   "source": [
    "Analisis preliminar:\n",
    "\n",
    "* En la tabla anterior podemos ver cómo para una sola componente principal, la cantidad de errores es bastante alta (entre 7 y 12), pero dentro de esta variedad de valores altos, podemos encontrar valores menos altos que otros dependiendo de la cantidad de vecinos, como son los valores entre 5 y 8.\n",
    "\n",
    "* Usando 2 componentes principales podemos ver que el error se reduce aproximadamente a una tercera parte. En este caso vemos que la cantidad de vecinos cercanos debe ser mayor para obtener la menor cantidad de errores, aunque este rango se mantiene de manera más estable (valores de k entre 13 y 27, y hasta algunos más altos).\n",
    "\n",
    "* Con 3 y 4 componentes principales vemos los mejores resultados: Ningún error para la mayoria de los vecinos mayores 8 y algunos otros aislados de menor k.\n",
    "\n",
    "Aunque este análisis es simple e fácilmente interpretable, existe el problema de que depende de cómo separamos los datos."
   ]
  },
  {
   "cell_type": "markdown",
   "metadata": {},
   "source": [
    "### Generalizando Resultados\n",
    "\n",
    "El analisis anterior puede depender en gran medida de la forma en que separamos los datos de entrenamiento y testeo.\n",
    "\n",
    "Por eso debemos repetir los experimentos anteriores, pero tomando distintos subconjuntos de datos de entrenamiento y testeo en cada iteración.\n",
    "\n",
    "Juntamos todo en la siguiente función:"
   ]
  },
  {
   "cell_type": "code",
   "execution_count": 40,
   "metadata": {},
   "outputs": [],
   "source": [
    "def analisis_completo(iteraciones=100):\n",
    "    \"\"\"\n",
    "    Realiza un análisis completo de clasificación con PCA y KNN sobre múltiples iteraciones.\n",
    "\n",
    "    Parameters:\n",
    "    - iteraciones (int): Número de iteraciones para realizar el análisis completo (por defecto, 100).\n",
    "\n",
    "    Returns:\n",
    "    - estadisticas (numpy.ndarray): Matriz de estadísticas de clasificación promediadas.\n",
    "    \"\"\"\n",
    "    num_componentes = range(1, 5)\n",
    "    vecinos = range(1, 41)\n",
    "    \n",
    "    sum_estadisticas = np.zeros((len(num_componentes), len(vecinos)))\n",
    "    \n",
    "    for i in tqdm(range(iteraciones)):\n",
    "        X_train, y_train, X_test, y_test = dividir_dataset(X, y)\n",
    "        X_train, X_mean, X_std = normalizar_datos(X_train)\n",
    "\n",
    "        estadisticas = obtener_estadisticas(X_train, X_test, y_train, y_test, X_mean, X_std, num_componentes, vecinos)\n",
    "        sum_estadisticas += estadisticas\n",
    "\n",
    "    estadisticas = sum_estadisticas / iteraciones\n",
    "\n",
    "    return estadisticas"
   ]
  },
  {
   "cell_type": "code",
   "execution_count": 41,
   "metadata": {},
   "outputs": [
    {
     "name": "stderr",
     "output_type": "stream",
     "text": [
      " 13%|█▎        | 13/100 [00:04<00:32,  2.68it/s]"
     ]
    },
    {
     "name": "stderr",
     "output_type": "stream",
     "text": [
      "100%|██████████| 100/100 [00:37<00:00,  2.68it/s]\n"
     ]
    }
   ],
   "source": [
    "iteraciones = 100\n",
    "estadisticas = analisis_completo(iteraciones)\n"
   ]
  },
  {
   "cell_type": "markdown",
   "metadata": {},
   "source": [
    "Nuevamente volvemos a graficar los valores de error, pero ahora como un promedio varias iteraciones de pruebas con distintos subconjuntos de datos en cada uno:"
   ]
  },
  {
   "cell_type": "code",
   "execution_count": 42,
   "metadata": {},
   "outputs": [
    {
     "data": {
      "image/png": "[encoded data removed]",
      "text/plain": [
       "<Figure size 1440x720 with 1 Axes>"
      ]
     },
     "metadata": {
      "needs_background": "light"
     },
     "output_type": "display_data"
    }
   ],
   "source": [
    "fig, ax = plt.subplots(figsize=(20, 10))\n",
    "\n",
    "cax = ax.matshow(estadisticas, cmap='Reds', vmin=estadisticas.min(), vmax=estadisticas.max())\n",
    "\n",
    "for i in range(estadisticas.shape[0]):\n",
    "    for j in range(estadisticas.shape[1]):\n",
    "        ax.text(j, i, estadisticas[i, j].round(1), va='center', ha='center',\n",
    "                color=colorear_error(estadisticas[i, j]))\n",
    "\n",
    "ax.tick_params(axis='x', bottom=True, top=False, labelbottom=True, labeltop=False)\n",
    "\n",
    "ax.set_xticks(range(estadisticas.shape[1]))\n",
    "ax.set_yticks(range(estadisticas.shape[0]))\n",
    "ax.set_xticklabels(vecinos)\n",
    "ax.set_yticklabels(num_componentes)\n",
    "\n",
    "ax.tick_params(axis='x', bottom=False, top=True, labelbottom=False, labeltop=True)\n",
    "\n",
    "plt.title(f'Número de predicciones incorrectas por cada {X_test.shape[0]} elementos', pad=30, fontsize=16, fontweight='bold', color='gray', loc='left')\n",
    "plt.xlabel('Número de vecinos')\n",
    "plt.ylabel('Número de \\ncomponentes principales')\n",
    "plt.show()\n"
   ]
  },
  {
   "cell_type": "markdown",
   "metadata": {},
   "source": [
    "Viendo la tabla anterior, podemos observar que la distribución de resultados es mucho más suave para una misma componente principal.\n",
    "\n",
    "Por un lado ya no existe modelo entre los propuestos que devuelva una performance perfecta (sin errores).\n",
    "\n",
    "Por el otro, vemos una gran diferencia de performance entre usar una sola componente principal o usar más de una. Pero no así entre 2 y 4 componentes principales, que muestran resultados muy parecidos.\n",
    "\n",
    "Los mejores valores de vecinos más cercanos se encuentran entre 4 y 12 vecinos, aunque para 3 componentes principales el error baja ligeramente para 25-30 vecinos.\n",
    "\n",
    "De esta manera obtuvimos resultados más robustos que indican que usar 1 sola componente principal es insuficiente, usar 2 o más es recomendable, pero usar 4 no mejora los resultados para los vecinos analizados.\n",
    "\n",
    "Dados estos resultados, podemos decir que de tener que elegir una cantidad de componentes principales, lo mejor sería usar 3 con 5 o 6 vecinos, con la aclaración que usando solo 2 componentes principales la performance no baja tanto, por lo que si se busca minimizar el tamaño de las matrices involucradas en el proceso, ésta puede ser una mejor opción. "
   ]
  },
  {
   "cell_type": "markdown",
   "metadata": {},
   "source": [
    "En general la precisión se define como un porcentaje del total de elementos, por lo que la tabla en una forma estándar sería:"
   ]
  },
  {
   "cell_type": "code",
   "execution_count": 43,
   "metadata": {},
   "outputs": [
    {
     "data": {
      "image/png": "[encoded data removed]",
      "text/plain": [
       "<Figure size 1440x720 with 1 Axes>"
      ]
     },
     "metadata": {
      "needs_background": "light"
     },
     "output_type": "display_data"
    }
   ],
   "source": [
    "fig, ax = plt.subplots(figsize=(20, 10))\n",
    "\n",
    "cax = ax.matshow(estadisticas, cmap='Reds', vmin=estadisticas.min(), vmax=estadisticas.max())\n",
    "\n",
    "for i in range(estadisticas.shape[0]):\n",
    "    for j in range(estadisticas.shape[1]):\n",
    "        ax.text(j, i, (estadisticas[i, j] / X_test.shape[0]).round(2), va='center', ha='center',\n",
    "                color=colorear_error(estadisticas[i, j]))\n",
    "\n",
    "ax.tick_params(axis='x', bottom=True, top=False, labelbottom=True, labeltop=False)\n",
    "\n",
    "ax.set_xticks(range(estadisticas.shape[1]))\n",
    "ax.set_yticks(range(estadisticas.shape[0]))\n",
    "ax.set_xticklabels(vecinos)\n",
    "ax.set_yticklabels(num_componentes)\n",
    "\n",
    "ax.tick_params(axis='x', bottom=False, top=True, labelbottom=False, labeltop=True)\n",
    "\n",
    "plt.title(f'Porcentaje de predicciones incorrectas', pad=30, fontsize=16, fontweight='bold', color='gray', loc='left')\n",
    "plt.xlabel('Número de vecinos')\n",
    "plt.ylabel('Número de \\ncomponentes principales')\n",
    "plt.show()"
   ]
  },
  {
   "cell_type": "markdown",
   "metadata": {},
   "source": [
    "Posteriormente seguiremos usando la medida de *\"errores por cada 36 elementos\"* ya que es más fácil de interpretar para el caso particular de este TP con un número fijo de cantidades de test."
   ]
  },
  {
   "cell_type": "markdown",
   "metadata": {},
   "source": [
    "### Comparando resultados con Varianza Explicada\n",
    "\n",
    "A partir de la varianza explicada de una matriz de covarianza, podemos estimar la cantidad de información contenida en esa componente.\n",
    "\n",
    "Siguiendo con el análisis de los datos separados en datos de entrenamiento y testeo, calcularemos la varianza explicada usando solo datos de entrenamiento como también los datos totales.\n",
    "\n",
    "De la misma forma que antes, eligiendo distintos subconjuntos de entrenamiento vamos a estar obteniendo distintos valores de varianza explicada, pues por cada set de datos de entrenamiento la matriz de covarianza $X^t X$ (que en realidad es $X^t_{train} X_{train}$) es diferente.\n",
    "\n",
    "Por lo tanto podemos repetir el experimento y promediar los resultados de los autovalores obtenidos."
   ]
  },
  {
   "cell_type": "code",
   "execution_count": 44,
   "metadata": {},
   "outputs": [],
   "source": [
    "def promediar_autovalores(X, iteraciones=100):\n",
    "    \"\"\"\n",
    "    Calcula el promedio de los autovalores de la matriz de covarianza para un conjunto de datos X.\n",
    "\n",
    "    Parameters:\n",
    "    - X (numpy.ndarray): Conjunto de datos.\n",
    "    - iteraciones (int): Número de iteraciones para realizar el promedio (por defecto, 100).\n",
    "\n",
    "    Returns:\n",
    "    - autovalores (numpy.ndarray): Promedio de los autovalores.\n",
    "    \"\"\"\n",
    "    m = X.shape[1]\n",
    "    sum_autovalores = np.zeros(m)\n",
    "\n",
    "    for i in tqdm(range(iteraciones)):\n",
    "        X_train, y_train, X_test, y_test = dividir_dataset(X, y)\n",
    "        X_train, X_mean, X_std = normalizar_datos(X_train)\n",
    "\n",
    "        XTX = matriz_covarianza(X_train)\n",
    "        autovalores, _ = encontrar_autovalores(XTX, m)\n",
    "\n",
    "        sum_autovalores += autovalores\n",
    "\n",
    "    autovalores = sum_autovalores / iteraciones\n",
    "\n",
    "    return autovalores"
   ]
  },
  {
   "cell_type": "code",
   "execution_count": 45,
   "metadata": {},
   "outputs": [
    {
     "name": "stderr",
     "output_type": "stream",
     "text": [
      "100%|██████████| 100/100 [00:03<00:00, 29.26it/s]\n"
     ]
    }
   ],
   "source": [
    "autovalores = promediar_autovalores(X)"
   ]
  },
  {
   "cell_type": "code",
   "execution_count": 46,
   "metadata": {},
   "outputs": [
    {
     "data": {
      "image/png": "[encoded data removed]",
      "text/plain": [
       "<Figure size 864x864 with 1 Axes>"
      ]
     },
     "metadata": {
      "needs_background": "light"
     },
     "output_type": "display_data"
    }
   ],
   "source": [
    "plt.bar(range(1, len(autovalores)+1), autovalores)\n",
    "for i, v in enumerate(autovalores):\n",
    "    plt.text(i+1, v+0.01, str(round(v, 2)), ha='center', va='bottom')\n",
    "plt.title('Autovalores por cada componente principal (subconjunto de entrenamiento)')\n",
    "plt.xlabel('Número de componente principal')\n",
    "plt.ylabel('Autovalor')\n",
    "plt.xticks(range(1, len(autovalores)+1))\n",
    "plt.show()"
   ]
  },
  {
   "cell_type": "code",
   "execution_count": 47,
   "metadata": {},
   "outputs": [
    {
     "data": {
      "image/png": "[encoded data removed]",
      "text/plain": [
       "<Figure size 864x864 with 1 Axes>"
      ]
     },
     "metadata": {
      "needs_background": "light"
     },
     "output_type": "display_data"
    }
   ],
   "source": [
    "def encontrar_todos_los_autovalores(X):\n",
    "    \"\"\"\n",
    "    Encuentra todos los autovalores de la matriz de covarianza para un conjunto de datos X.\n",
    "\n",
    "    Parameters:\n",
    "    - X (numpy.ndarray): Conjunto de datos.\n",
    "\n",
    "    Returns:\n",
    "    - autovalores (numpy.ndarray): Todos los autovalores de la matriz de covarianza.\n",
    "    \"\"\"\n",
    "    # Número de características en el conjunto de datos\n",
    "    m = X.shape[1]\n",
    "\n",
    "    X_norm, _, _ = normalizar_datos(X_train)\n",
    "    XTX = matriz_covarianza(X_norm)\n",
    "    autovalores, _ = encontrar_autovalores(XTX, m)\n",
    "    return autovalores\n",
    "\n",
    "autovalores = encontrar_todos_los_autovalores(X)\n",
    "\n",
    "plt.bar(range(1, len(autovalores)+1), autovalores)\n",
    "for i, v in enumerate(autovalores):\n",
    "    plt.text(i+1, v+0.01, str(round(v, 2)), ha='center', va='bottom')\n",
    "plt.title('Autovalores por cada componente principal (todos los datos)')\n",
    "plt.xlabel('Número de componente principal')\n",
    "plt.ylabel('Autovalor')\n",
    "plt.xticks(range(1, len(autovalores)+1))\n",
    "plt.show()"
   ]
  },
  {
   "cell_type": "markdown",
   "metadata": {},
   "source": [
    "Se obserban ligeras diferencias entre las dos formas de calcular los autovalores. Continuamos utilizando solo datos de entrenamiento asumiendo que en esta sección el análisis es siempre sobre datos de entrenamiento."
   ]
  },
  {
   "cell_type": "markdown",
   "metadata": {},
   "source": [
    "### Varianza Explicada\n",
    "\n",
    "Definiendo la varianza explicada de cada autovector como:\n",
    "\n",
    "$$\\large \\text{Varianza\\_explicada}(i) = \\frac {\\lambda_i}{\\sum_{j=1}^n \\lambda_j}$$\n",
    "\n",
    "donde $\\lambda_i$ es el autovalor $i$ correspondiente, y $n$ la cantidad **total** de autovalores, podemos calcularla como:"
   ]
  },
  {
   "cell_type": "code",
   "execution_count": 48,
   "metadata": {},
   "outputs": [
    {
     "name": "stdout",
     "output_type": "stream",
     "text": [
      "1 componente: Varianza explicada: [0.36]\n",
      "2 componente: Varianza explicada: [0.36 0.19]\n",
      "3 componente: Varianza explicada: [0.36 0.19 0.11]\n",
      "4 componente: Varianza explicada: [0.36 0.19 0.11 0.08]\n"
     ]
    }
   ],
   "source": [
    "n = 4\n",
    "for i in range(n):\n",
    "    a = autovalores[0:i+1] / autovalores.sum()\n",
    "    print(f\"{i+1} componente: Varianza explicada: {a.round(2)}\")\n"
   ]
  },
  {
   "cell_type": "markdown",
   "metadata": {},
   "source": [
    "### Tabla\n",
    "\n",
    "| Modelo PCA | Componente | Varianza Explicada | Porcentaje | Acumulado |\n",
    "|---|---|---|---|---|\n",
    "| 1 Componente Principal | 1 | 0.36 | 36 % | 36 %| \n",
    "| | | | | |\n",
    "| 2 Componentes Principales | 1 | 0.36 | 36 % | 36 %| \n",
    "|  | 2 | 0.19 | 19 % | 55 % |\n",
    "| | | | | |\n",
    "| 3 Componentes Principales | 1 | 0.36 | 36 % | 36 %| \n",
    "|  | 2 | 0.19 | 19 % | 55 % |\n",
    "|  | 3 | 0.11 | 11 % | 66 % |\n",
    "| | | | | |\n",
    "| 4 Componentes Principales | 1 | 0.36 | 36 % | 36 %| \n",
    "|  | 2 | 0.19 | 19 % | 55 % |\n",
    "|  | 3 | 0.11 | 11 % | 66 % |\n",
    "|  | 4 | 0.07 | 7 % | 73 % |\n",
    "| | | | | |\n",
    "\n",
    "\n",
    "Podemos ver cómo con 4 componentes principales (de un total de 13 variables) se captura un 73 % de la varianza.\n",
    "\n",
    "Considerando los resultados anteriores, solo con 2 o 3 componentes principales alcanza para tener la mejor performance, por lo que podemos decir que con un 55-66% de la varianza podemos predecir nuevos datos con muy buena precision (alrededor de 1.4 errores por cada 36 ejemplos de test, o sea, un 0.96% de precisión).\n",
    "\n"
   ]
  },
  {
   "cell_type": "markdown",
   "metadata": {},
   "source": [
    "### Gráficos de resultados"
   ]
  },
  {
   "cell_type": "code",
   "execution_count": 49,
   "metadata": {},
   "outputs": [],
   "source": [
    "X_train, y_train, X_test, y_test = dividir_dataset(X, y)\n",
    "X_train, X_mean, X_std = normalizar_datos(X_train)"
   ]
  },
  {
   "cell_type": "code",
   "execution_count": 50,
   "metadata": {},
   "outputs": [],
   "source": [
    "def map_color(y):\n",
    "    \"\"\"\n",
    "    Dado un vector de etiquetas, devuelve un vector con los colores correspondientes.\n",
    "\n",
    "    Parameters:\n",
    "    - y (numpy.ndarray): Vector de etiquetas.\n",
    "\n",
    "    Returns:\n",
    "    - colors (list): Lista de colores correspondientes a las etiquetas.\n",
    "    \"\"\"\n",
    "    # Mapeo de números a colores\n",
    "    NUMTOCOL = {1: 'blue', 2: 'red', 3: 'green'}\n",
    "\n",
    "    colors = [NUMTOCOL[num] for num in y]\n",
    "    \n",
    "    return colors"
   ]
  },
  {
   "cell_type": "code",
   "execution_count": 51,
   "metadata": {},
   "outputs": [],
   "source": [
    "def graficar_clasificacion1D2D(X_train_pca, X_test_pca, y_train, y_test, y_pred):\n",
    "    \"\"\"\n",
    "    Grafica la clasificación de datos en 1D o 2D.\n",
    "\n",
    "    Parameters:\n",
    "    - X_train_pca (numpy.ndarray): Datos de entrenamiento proyectados en componentes principales.\n",
    "    - X_test_pca (numpy.ndarray): Datos de prueba proyectados en componentes principales.\n",
    "    - y_train (numpy.ndarray): Etiquetas de los datos de entrenamiento.\n",
    "    - y_test (numpy.ndarray): Etiquetas de los datos de prueba.\n",
    "    - y_pred (numpy.ndarray): Etiquetas predichas.\n",
    "\n",
    "    Returns:\n",
    "    - None\n",
    "    \"\"\"\n",
    "    # Verifico que X_train_pca tenga solo 1 o 2 columnas para poder graficar\n",
    "    X_dim = X_train_pca.shape[1]\n",
    "    assert X_dim in [1, 2], \"X_train_pca debe tener solo 1 o 2 columnas para poder graficarlas\"\n",
    "\n",
    "    # Predicciones correctas e incorrectas\n",
    "    correct = y_pred == y_test\n",
    "    incorrect = y_pred != y_test\n",
    "\n",
    "    # Colormap para las clases\n",
    "    cmap = ListedColormap(['red', 'blue', 'green'])\n",
    "\n",
    "    if X_dim == 1:\n",
    "        # Para 1D, establece la segunda dimensión en 0\n",
    "        X_train_pca_2nd = [0] * len(X_train_pca)\n",
    "        X_test_pca_correct_2nd = [0] * sum(correct)\n",
    "        X_test_pca_incorrect_2nd = [0] * sum(incorrect)\n",
    "    else:\n",
    "        # Para 2D, toma la segunda columna de X_train_pca\n",
    "        X_train_pca_2nd = X_train_pca[:, 1]\n",
    "        X_test_pca_correct_2nd = X_test_pca[correct, 1]\n",
    "        X_test_pca_incorrect_2nd = X_test_pca[incorrect, 1]\n",
    "\n",
    "    # Grafico los datos de entrenamiento, predicciones correctas e incorrectas\n",
    "    plt.scatter(X_train_pca[:, 0], X_train_pca_2nd,\n",
    "                c=map_color(y_train), marker='.',\n",
    "                label='Datos de Entrenamiento')\n",
    "\n",
    "    plt.scatter(X_test_pca[correct, 0], X_test_pca_correct_2nd,\n",
    "                c=map_color(y_pred[correct]), marker='s',\n",
    "                label='Predicción correcta')\n",
    "\n",
    "    plt.scatter(X_test_pca[incorrect, 0], X_test_pca_incorrect_2nd,\n",
    "                c=map_color(y_test[incorrect]), marker='o', s=200,\n",
    "                label='Etiqueta real')\n",
    "\n",
    "    plt.scatter(X_test_pca[incorrect, 0], X_test_pca_incorrect_2nd,\n",
    "                c=map_color(y_pred[incorrect]), marker='x', s=300, linewidths=2,\n",
    "                label='Predicción errada')\n",
    "\n",
    "    plt.xlabel('Componente Principal 1')\n",
    "    if X_dim == 1:\n",
    "        # Elimina las marcas en el eje y\n",
    "        plt.yticks([])\n",
    "    else:\n",
    "        plt.ylabel('Componente Principal 2')\n",
    "    \n",
    "    plt.legend()\n",
    "    plt.title(f'Clasificación de datos de testeo - {sum(incorrect)} error/es de {len(y_test)} datos')\n",
    "\n",
    "    # Crea un ScalarMappable para visualizar la barra de colores\n",
    "    sm = ScalarMappable(cmap=cmap)\n",
    "    sm.set_array([])\n",
    "    plt.colorbar(sm, ticks=[1, 2, 3], label='Clase', boundaries=[0.5, 1.5, 2.5, 3.5])\n",
    "    plt.show()"
   ]
  },
  {
   "cell_type": "markdown",
   "metadata": {},
   "source": [
    "#### 1 Componente\n",
    "\n",
    "Viendo los resultados promedios anteriores, para 1 sola componente principal y 14 vecinos, podemos esperar alrededor de 5.7 errores por cada 36 casos de test. En este caso veremos que serán 7 errores."
   ]
  },
  {
   "cell_type": "code",
   "execution_count": 52,
   "metadata": {},
   "outputs": [
    {
     "data": {
      "image/png": "[encoded data removed]",
      "text/plain": [
       "<Figure size 864x864 with 2 Axes>"
      ]
     },
     "metadata": {
      "needs_background": "light"
     },
     "output_type": "display_data"
    }
   ],
   "source": [
    "n = 1\n",
    "k = 14\n",
    "\n",
    "autovalores, W_pca = calcular_pca(X_train, n)\n",
    "X_train_pca = proyectar_datos(X_train, W_pca)\n",
    "X_test_pca, y_pred = ejecutar_modelo(X_test, X_train_pca, y_train, W_pca, X_mean, X_std, n, k)\n",
    "\n",
    "graficar_clasificacion1D2D(X_train_pca, X_test_pca, y_train, y_test, y_pred)"
   ]
  },
  {
   "cell_type": "markdown",
   "metadata": {},
   "source": [
    "Es de esperarse que una sola componente principal sea insuficiente para separar los datos, ya que estamos proyectando todos los puntos sobre una única recta que apunta en la dirección de mayor varianza."
   ]
  },
  {
   "cell_type": "markdown",
   "metadata": {},
   "source": [
    "#### 2 Componentes\n",
    "\n",
    "Viendo los resultados promedios anteriores, para 2 componentes principales y 17 vecinos se obtuvieron los mejores resultados con 1.4 errores promedio. En este caso tenemos una clasificación perfecta sin ningún error:"
   ]
  },
  {
   "cell_type": "code",
   "execution_count": 53,
   "metadata": {},
   "outputs": [
    {
     "data": {
      "image/png": "[encoded data removed]",
      "text/plain": [
       "<Figure size 864x864 with 2 Axes>"
      ]
     },
     "metadata": {
      "needs_background": "light"
     },
     "output_type": "display_data"
    }
   ],
   "source": [
    "n = 2\n",
    "k = 17\n",
    "\n",
    "autovalores, W_pca = calcular_pca(X_train, n)\n",
    "X_train_pca = proyectar_datos(X_train, W_pca)\n",
    "X_test_pca, y_pred = ejecutar_modelo(X_test, X_train_pca, y_train, W_pca, X_mean, X_std, n, k)\n",
    "\n",
    "graficar_clasificacion1D2D(X_train_pca, X_test_pca, y_train, y_test, y_pred)"
   ]
  },
  {
   "cell_type": "markdown",
   "metadata": {},
   "source": [
    "Pero cambiando la cantidad de vecinos podemos ver que también pueden existir errores:"
   ]
  },
  {
   "cell_type": "code",
   "execution_count": 54,
   "metadata": {},
   "outputs": [
    {
     "data": {
      "image/png": "[encoded data removed]",
      "text/plain": [
       "<Figure size 864x864 with 2 Axes>"
      ]
     },
     "metadata": {
      "needs_background": "light"
     },
     "output_type": "display_data"
    }
   ],
   "source": [
    "n = 2\n",
    "k = 1\n",
    "\n",
    "autovalores, W_pca = calcular_pca(X_train, n)\n",
    "X_train_pca = proyectar_datos(X_train, W_pca)\n",
    "X_test_pca, y_pred = ejecutar_modelo(X_test, X_train_pca, y_train, W_pca, X_mean, X_std, n, k)\n",
    "\n",
    "graficar_clasificacion1D2D(X_train_pca, X_test_pca, y_train, y_test, y_pred)"
   ]
  },
  {
   "cell_type": "markdown",
   "metadata": {},
   "source": [
    "#### 3 Componentes\n",
    "\n",
    "Para 3 dimensiones vamos a definir una segunda función graficadora utilizando la libreria Plotly que permite interactuar con el gráfico, rotarlo en el espacio, hacer zoom, etc."
   ]
  },
  {
   "cell_type": "code",
   "execution_count": 55,
   "metadata": {},
   "outputs": [],
   "source": [
    "def graficar_clasificacion3D(X_train_pca, X_test_pca, y_train, y_test, y_pred):\n",
    "    \"\"\"\n",
    "    Grafica la clasificación de datos en 3D.\n",
    "\n",
    "    Parameters:\n",
    "    - X_train_pca (numpy.ndarray): Datos de entrenamiento proyectados en componentes principales.\n",
    "    - X_test_pca (numpy.ndarray): Datos de prueba proyectados en componentes principales.\n",
    "    - y_train (numpy.ndarray): Etiquetas de los datos de entrenamiento.\n",
    "    - y_test (numpy.ndarray): Etiquetas de los datos de prueba.\n",
    "    - y_pred (numpy.ndarray): Etiquetas predichas.\n",
    "\n",
    "    Returns:\n",
    "    - None\n",
    "    \"\"\"\n",
    "    X_dim = X_train_pca.shape[1]\n",
    "    assert X_dim == 3, \"X_train_pca debe tener 3 columnas para poder graficar en 3D\"\n",
    "\n",
    "    # Colores para las clases en el conjunto de entrenamiento\n",
    "    colors = map_color(y_train)\n",
    "    \n",
    "    fig = go.Figure()\n",
    "\n",
    "    # Datos de entrenamiento\n",
    "    fig.add_trace(go.Scatter3d(x=X_train_pca[:, 0], y=X_train_pca[:, 1], z=X_train_pca[:, 2],\n",
    "                               mode='markers', marker=dict(color=colors, size=4),\n",
    "                               name='Datos de Entrenamiento'))\n",
    "    \n",
    "    # Predicciones correctas\n",
    "    fig.add_trace(go.Scatter3d(x=X_test_pca[y_pred == y_test, 0], y=X_test_pca[y_pred == y_test, 1], z=X_test_pca[y_pred == y_test, 2],\n",
    "                               mode='markers', marker=dict(color=map_color(y_pred[y_pred == y_test]), size=4),\n",
    "                               name='Predicción correcta'))\n",
    "\n",
    "    # Etiquetas reales\n",
    "    fig.add_trace(go.Scatter3d(x=X_test_pca[y_pred != y_test, 0], y=X_test_pca[y_pred != y_test, 1], z=X_test_pca[y_pred != y_test, 2],\n",
    "                               mode='markers', marker=dict(color=map_color(y_test[y_pred != y_test]), size=8),\n",
    "                               name='Etiqueta real'))\n",
    "\n",
    "    # Predicciones incorrectas\n",
    "    fig.add_trace(go.Scatter3d(x=X_test_pca[y_pred != y_test, 0], y=X_test_pca[y_pred != y_test, 1], z=X_test_pca[y_pred != y_test, 2],\n",
    "                               mode='markers', marker=dict(color=map_color(y_pred[y_pred != y_test]), symbol='x', size=4),\n",
    "                               name='Predicción errada'))\n",
    "\n",
    "    fig.update_layout(title_text=f'Clasificación de datos de testeo - {sum(y_pred != y_test)} error/es de {len(y_test)} datos',\n",
    "                      scene=dict(aspectmode=\"cube\"),\n",
    "                      scene_xaxis_title='Componente Principal 1',\n",
    "                      scene_yaxis_title='Componente Principal 2',\n",
    "                      scene_zaxis_title='Componente Principal 3',\n",
    "                      legend=dict(x=0, y=1.0, orientation='h'),\n",
    "                      height=800)\n",
    "\n",
    "    fig.show()"
   ]
  },
  {
   "cell_type": "markdown",
   "metadata": {},
   "source": [
    "Para 3 componentes principales, el error es cercano a 1.5 para casi cualquier valor de vecino: "
   ]
  },
  {
   "cell_type": "code",
   "execution_count": 56,
   "metadata": {},
   "outputs": [
    {
     "data": {
      "application/vnd.plotly.v1+json": {
       "config": {
        "plotlyServerURL": "https://plot.ly"
       },
       "data": [
        {
         "marker": {
          "color": [
           "blue",
           "red",
           "green",
           "green",
           "red",
           "green",
           "red",
           "red",
           "blue",
           "blue",
           "red",
           "green",
           "blue",
           "red",
           "blue",
           "blue",
           "blue",
           "green",
           "blue",
           "blue",
           "red",
           "blue",
           "red",
           "red",
           "red",
           "blue",
           "blue",
           "blue",
           "green",
           "red",
           "green",
           "green",
           "blue",
           "blue",
           "blue",
           "green",
           "red",
           "red",
           "blue",
           "red",
           "blue",
           "red",
           "red",
           "green",
           "red",
           "green",
           "red",
           "blue",
           "red",
           "blue",
           "green",
           "blue",
           "green",
           "green",
           "green",
           "blue",
           "red",
           "blue",
           "red",
           "red",
           "blue",
           "green",
           "blue",
           "blue",
           "blue",
           "red",
           "blue",
           "red",
           "red",
           "blue",
           "red",
           "blue",
           "red",
           "red",
           "blue",
           "green",
           "blue",
           "blue",
           "red",
           "green",
           "blue",
           "green",
           "blue",
           "red",
           "red",
           "red",
           "red",
           "green",
           "blue",
           "red",
           "green",
           "blue",
           "red",
           "blue",
           "red",
           "red",
           "green",
           "blue",
           "green",
           "red",
           "red",
           "blue",
           "red",
           "red",
           "red",
           "red",
           "green",
           "red",
           "red",
           "blue",
           "red",
           "red",
           "green",
           "red",
           "green",
           "blue",
           "green",
           "red",
           "red",
           "blue",
           "blue",
           "blue",
           "green",
           "red",
           "blue",
           "blue",
           "red",
           "green",
           "blue",
           "red",
           "green",
           "green",
           "red",
           "red",
           "green",
           "green",
           "green",
           "blue",
           "red",
           "green",
           "red",
           "green"
          ],
          "size": 4
         },
         "mode": "markers",
         "name": "Datos de Entrenamiento",
         "type": "scatter3d",
         "x": [
          2.578905491862797,
          1.5365615467718627,
          -3.529431506027789,
          -3.81519117063591,
          -0.7464919404088982,
          -3.261761730530555,
          -0.06025138838641884,
          0.9216912846513615,
          3.4718187255807624,
          2.6508211080857182,
          1.537034396795936,
          -4.292394160141,
          3.131983383100941,
          -1.4709418646117032,
          2.2325763715408877,
          3.096155263522976,
          2.0522380595256227,
          -3.012476078220803,
          2.7762429904758332,
          2.8091866759147286,
          0.8558688617208493,
          1.6210013127746086,
          1.9482045782708546,
          -0.44879567249571145,
          1.7538319123942427,
          1.8035865460280787,
          2.0949746208450226,
          3.8738907523645425,
          -3.726927462326443,
          -0.5531253375102931,
          -2.805858906906357,
          -3.274123406300438,
          2.7399178856733046,
          2.5985456460174188,
          2.1844917278450833,
          -2.3238621359224014,
          -2.5282808559816337,
          -0.07795296265035678,
          2.5061217855718327,
          -0.7150737196039879,
          3.5573086265743026,
          -1.6339915077565912,
          -0.5378111020597958,
          -2.4833598981961176,
          0.8871930962946167,
          -3.154944846721226,
          -2.027599438240348,
          1.94136600161864,
          -0.8523341211041139,
          2.5325785388698048,
          -2.830829214831658,
          0.46970317974635,
          -2.3744380407380157,
          -1.6558653817067441,
          -2.7951947852553554,
          1.1699673038410754,
          0.9502819054747734,
          1.6556137898444425,
          2.8069726304918645,
          -0.5163089558963847,
          2.3620059459122755,
          -2.930869201730572,
          3.197268417558674,
          3.192744724249635,
          2.429577763515913,
          -1.9452921045464278,
          2.0854310462601,
          -0.85228725817192,
          1.3220134501584855,
          1.451610315627495,
          -1.0602111833863732,
          2.745559099987223,
          0.6496820702647843,
          -0.6800378184938894,
          2.3499631825100082,
          -3.1097215429929213,
          2.473567633968043,
          2.6393521193786724,
          -1.8508062641160168,
          -2.7352768550601514,
          2.1736424568870034,
          -2.7629643345344856,
          1.7714543637286106,
          -1.8386943590565266,
          1.2135504222878657,
          0.006954580495218205,
          2.6665541559813124,
          -3.282803790467775,
          2.0921181290584117,
          -2.6030769233243607,
          -2.2161458747935137,
          0.6378926914343702,
          1.3534431687357005,
          2.1576152797196486,
          0.6314797115925428,
          -1.2746325044189986,
          -2.629580851614748,
          2.7859970697914314,
          -2.8793298845049304,
          -1.6872283419294325,
          -0.19509041336930552,
          2.3217202403887307,
          -1.2473711362062698,
          -0.5463621056307669,
          0.7082241851421073,
          0.5977226256739429,
          -2.1176071464039463,
          -0.5699527943325781,
          -1.6287008774049427,
          1.1662726279750149,
          -0.055214430040308765,
          -1.6343441856169678,
          -3.5503893431749614,
          1.9546684851989544,
          -3.4761289291891417,
          3.651864995087546,
          -2.3927641925252003,
          -0.6915677797800339,
          -1.0386603138630555,
          2.1084276471219208,
          3.5475503016919525,
          2.6262107489148243,
          -2.766706225297388,
          -0.47912591044300995,
          1.1318228763491764,
          1.761544648801913,
          -0.3781013979701785,
          -2.2068850227124193,
          1.241599719436117,
          -1.5329645378235934,
          -2.9224209083725565,
          -2.4863261808262362,
          -0.4262314770075683,
          0.43582100012838637,
          -2.29198852581045,
          -2.0175616452311145,
          -2.151489464977038,
          1.4124915394752426,
          -0.14214583652281962,
          -3.1206336015100127,
          -0.5538160545658279,
          -1.336928319662466
         ],
         "y": [
          1.1304438945781612,
          0.05528457415556326,
          2.120710670822057,
          0.8918278402796335,
          -0.9692315419798997,
          2.5643334290839963,
          -1.1285124602640118,
          -1.588448416897771,
          1.0115635914421541,
          1.6387747932113308,
          -1.6839722306183773,
          1.0481142395600724,
          2.0320964876639867,
          -2.0558485794535493,
          1.167451185371657,
          1.0821821163297773,
          -0.15915915587003762,
          3.0836130026202433,
          1.7337505159437447,
          1.3245977779794218,
          -2.5630331518490306,
          -0.577565893065494,
          -1.948106447359762,
          -0.5965608399498834,
          -1.0729099159992133,
          -0.43049308330312214,
          -0.31974671802722915,
          2.640763632692478,
          1.3406004888264602,
          -2.252651825921186,
          2.324695111348185,
          0.02600328602503407,
          1.3814822276017,
          0.8294231439040618,
          1.499496886611286,
          0.7084274605081691,
          0.09407139277972275,
          -2.344890307551808,
          0.8833257449028215,
          -2.2471007284022524,
          1.1187652909299997,
          -1.201708438352085,
          -1.9988572742030326,
          -0.20445144738804844,
          -0.8412893575647966,
          1.1022871212712024,
          -1.4549005429971393,
          0.08836711618190128,
          -2.251416787208956,
          -0.2105456512610746,
          2.2756505761984163,
          0.34611445766803506,
          0.565266814142498,
          1.5851696199804242,
          0.6458865461371319,
          0.7143792953946476,
          -1.4669532127385816,
          -0.06412889999091184,
          -0.1470598772619053,
          -2.109798623455141,
          2.1683687460396737,
          1.7029931223581547,
          0.5938181068747714,
          1.6308349670751563,
          1.6244513091456627,
          -0.5536410536417238,
          1.481813638323938,
          -2.613068146878621,
          -1.6896622123242877,
          0.5982039722988626,
          -0.7540481892326145,
          0.7849001883950133,
          -2.3806583913731587,
          -2.618054585713921,
          1.785613886591963,
          0.6750795959073604,
          1.1032964703617745,
          1.0575830223421474,
          -1.0289081835275409,
          0.48419928593790384,
          0.936345486278189,
          0.738254052399562,
          0.6823050654223324,
          -1.642670364875974,
          -1.0688821101189994,
          -2.2709505102109997,
          -0.39513625115032636,
          1.5540010177770198,
          1.1475389534675335,
          -0.9627724927212501,
          2.8433664013951536,
          0.22872281615966145,
          -2.323320042584562,
          0.9649314142063874,
          -2.3650354318711257,
          -2.8236557988029096,
          0.6981692886151166,
          1.09378241001075,
          0.6947756118029211,
          -1.2883429484371363,
          -1.172650633273374,
          0.5468554451224852,
          -0.7261277154931032,
          -2.3870443165186197,
          -2.088970500189412,
          -3.3759979617907243,
          0.5287109774168095,
          -1.8681370745735715,
          -1.8025752550793364,
          -0.08213517929036251,
          -1.2307569970826184,
          -0.8854161055203161,
          1.660577484483864,
          -1.7971007725220198,
          1.20164250241885,
          2.4768215754101623,
          2.5433894039234937,
          -2.2458518626529846,
          -2.3310327702839446,
          0.6651477522231228,
          1.5536306514632539,
          0.6380272192070088,
          1.8929425075563806,
          -0.5901241195487876,
          0.08075313696684605,
          0.5910406351849704,
          -1.887573123372714,
          1.387214051135885,
          0.6642666789860823,
          -1.2539249366344207,
          0.4737945723798625,
          1.9612391789808568,
          -2.8300215796913712,
          -1.1324710718885067,
          2.4976801780631703,
          2.2379628632730335,
          2.7800185996341242,
          -0.7821419553412794,
          -2.0424853352089065,
          0.6863045098429791,
          -2.4206713941985636,
          0.2050696975479598
         ],
         "z": [
          0.4370458810395413,
          5.160506555490432,
          0.1828106831095141,
          1.8399073731946178,
          0.0018189225609727066,
          -0.12200672678322878,
          -1.9329161664419803,
          1.6840395624434759,
          -1.1837048197391096,
          -0.33407543528918265,
          1.680202128195477,
          -1.2340332266000325,
          -0.7354851516379763,
          -0.0701349421793687,
          0.11298940649683978,
          -0.422571069552209,
          -0.6808479943202811,
          1.1794978181950546,
          -0.6917353040966642,
          -0.6793598992081997,
          -1.1526386900829235,
          -0.02855827064096401,
          -0.12253486518101286,
          1.0784827540721265,
          1.7907548435020868,
          0.7439160587132788,
          -2.1486366414096154,
          -0.24376375643789588,
          -1.2422211149029152,
          0.8859606830032348,
          -0.36812348917331705,
          -0.8213939621548886,
          -0.45245917625802623,
          0.971021498620109,
          -0.0601556723522939,
          -0.1449773017992144,
          0.6402911067127597,
          -0.42867825500186396,
          -1.7958752553324993,
          -1.5537572399901496,
          -0.504495143445065,
          -1.110982286390306,
          1.287288353668275,
          -1.089513572202239,
          0.45109359492833967,
          0.049580522805097615,
          -0.06505908989728794,
          0.36353136094090005,
          0.6450328212909426,
          -0.4357088734613717,
          -0.5304803407795567,
          -0.1308372932584372,
          -0.7429068904587796,
          1.3177298163436377,
          -1.1262896332727232,
          1.8913736980678402,
          -0.4248754096283409,
          -0.2628137684694808,
          3.0640230417318017,
          -0.4813523588433788,
          0.689311181395176,
          -1.094220471990907,
          -0.47430177370042426,
          -0.38963129577712985,
          -0.0070735317748428575,
          -1.688236865191522,
          0.8921295686211876,
          -0.7877121610597729,
          0.37769276810538893,
          0.2433052424720142,
          3.029356377763478,
          -1.0539966975777824,
          0.10924890950919681,
          0.7543113890431685,
          0.16210471201028553,
          -0.9169887547061074,
          -1.0324080068324524,
          1.2549003869323234,
          0.8757466475596063,
          0.5611483580168156,
          -1.066164875986216,
          0.7888735809221102,
          -0.20882767478999284,
          0.9959486688005588,
          -1.2446737097146017,
          -1.1583845382961842,
          0.6543066836464979,
          1.6359567713049106,
          -0.06896276814632887,
          -1.7814394995501461,
          0.5070575444536262,
          -0.724421619115126,
          0.8028707138918748,
          -0.24551807137330647,
          -1.6515697462546512,
          -4.689446916666778,
          -0.7475828649129839,
          -0.4957390476129954,
          0.8775431617325261,
          0.31444847692079064,
          0.9377013671393971,
          1.2069635140589505,
          1.8153389590358706,
          1.1495559415511445,
          -0.4304136803718098,
          -0.5172189375679189,
          -0.48097897675103884,
          1.1926176805794602,
          0.7303482132533612,
          -1.4962833816515573,
          0.7167581842325255,
          -0.700693448643131,
          0.05752279467789023,
          -1.407549950263479,
          -0.2805028758023015,
          -0.6370221714365591,
          -0.8057465036679324,
          -0.2729073646277909,
          -1.6565336397041925,
          -0.9571575701715455,
          -0.629439533413892,
          -0.1494177872801673,
          -0.3302552575215697,
          0.7442443543559533,
          -0.21268361360556182,
          -1.3170420365639695,
          0.03888981896546599,
          -1.1666977511819054,
          3.5849251824199024,
          3.293974459265058,
          -0.18671282573067866,
          0.3168577327479801,
          -0.3546408701946944,
          1.792616666412684,
          -0.4802771076944948,
          0.7919636508758116,
          1.4584940792748773,
          -1.5679728074089283,
          0.5836460602180913,
          -1.0380513654137344,
          2.0927437051330116,
          -1.330862558053518
         ]
        },
        {
         "marker": {
          "color": [
           "red",
           "blue",
           "blue",
           "red",
           "blue",
           "red",
           "red",
           "blue",
           "green",
           "green",
           "blue",
           "green",
           "red",
           "blue",
           "green",
           "green",
           "green",
           "blue",
           "green",
           "red",
           "green",
           "red",
           "red",
           "red",
           "red",
           "red",
           "blue",
           "green",
           "green",
           "green",
           "red",
           "blue",
           "blue",
           "green",
           "red"
          ],
          "size": 4
         },
         "mode": "markers",
         "name": "Predicción correcta",
         "type": "scatter3d",
         "x": [
          2.1287931105733615,
          1.1575514652862575,
          2.9163300849388842,
          -1.197150843024612,
          2.794881057141156,
          0.746055302757259,
          -0.22422699139052787,
          1.2512159332317725,
          -2.2882282841031905,
          -0.835757197060671,
          1.4951196334150052,
          -2.4658574719890454,
          -1.5227332482307432,
          2.233043476049854,
          -2.1344994270583513,
          -2.9007924875423594,
          -2.5606128271254947,
          3.1194561055763015,
          -1.5058274057629675,
          1.770912580963083,
          -2.3103628506493625,
          -0.8343468167375903,
          0.37110244533324177,
          0.1821741317965429,
          -0.6210339760059594,
          0.2596919302019823,
          2.0364127142689927,
          -2.7223743981340243,
          -2.140871917751776,
          -3.908701045294069,
          0.8565910707881723,
          3.4223996297073196,
          4.366192120728055,
          -2.589299018281182,
          0.6591764486425057
         ],
         "y": [
          -1.4650760991847207,
          0.14991353715510125,
          0.6031954378622555,
          -1.750740785639312,
          0.583130727698255,
          -1.6270331968127536,
          -2.056593199514076,
          1.7854198632448595,
          0.46230344303508203,
          3.7065049760542617,
          0.5821186782112605,
          2.3253991019181632,
          -1.3382683253096228,
          0.12000410765428532,
          1.3773361748909045,
          1.935068756064018,
          3.0308039667711864,
          0.08315406883612378,
          2.6695204382851334,
          -1.4162743515676854,
          0.6378779913271624,
          -0.10493344207732275,
          -3.9697836286588544,
          -2.0348422991044046,
          -1.899480406916557,
          -2.083268224235809,
          1.552384850467428,
          2.468827448055951,
          2.499886725462866,
          0.4185914402948203,
          -2.239958413053479,
          1.2012825424231808,
          1.9333287953292804,
          0.8945954366716062,
          -1.4807387582921512
         ],
         "z": [
          -0.30346014980103675,
          0.9242196801828828,
          -0.10513052123156062,
          0.8783760374972822,
          -1.1584757550571292,
          0.5447667933895933,
          0.4159243821737611,
          0.010035987572391653,
          1.1662347932545345,
          1.353647330520396,
          0.2946381077687108,
          -0.23340714623129616,
          -0.3162852238454086,
          -1.1394189366857772,
          -0.14888561272732173,
          -0.8720048024476658,
          -0.7807732659510024,
          -1.9183730791963334,
          0.7110586661871974,
          0.25867015585638803,
          -0.979452825729476,
          -0.9451382086245195,
          1.1762073259572428,
          -2.4897708733123767,
          0.42706328513844244,
          -0.5201158860404961,
          0.6349721566616748,
          -0.718372695709216,
          0.4624476919654707,
          0.297915744254845,
          -0.022537806692080425,
          -0.2695244828218411,
          -1.270102609034501,
          -0.8482600053403898,
          1.0849060763499252
         ]
        },
        {
         "marker": {
          "color": [
           "red"
          ],
          "size": 8
         },
         "mode": "markers",
         "name": "Etiqueta real",
         "type": "scatter3d",
         "x": [
          2.0468578242346136
         ],
         "y": [
          -1.8455592578609064
         ],
         "z": [
          -1.9759919549638036
         ]
        },
        {
         "marker": {
          "color": [
           "blue"
          ],
          "size": 4,
          "symbol": "x"
         },
         "mode": "markers",
         "name": "Predicción errada",
         "type": "scatter3d",
         "x": [
          2.0468578242346136
         ],
         "y": [
          -1.8455592578609064
         ],
         "z": [
          -1.9759919549638036
         ]
        }
       ],
       "layout": {
        "height": 800,
        "legend": {
         "orientation": "h",
         "x": 0,
         "y": 1
        },
        "scene": {
         "aspectmode": "cube",
         "xaxis": {
          "title": {
           "text": "Componente Principal 1"
          }
         },
         "yaxis": {
          "title": {
           "text": "Componente Principal 2"
          }
         },
         "zaxis": {
          "title": {
           "text": "Componente Principal 3"
          }
         }
        },
        "template": {
         "data": {
          "bar": [
           {
            "error_x": {
             "color": "#2a3f5f"
            },
            "error_y": {
             "color": "#2a3f5f"
            },
            "marker": {
             "line": {
              "color": "#E5ECF6",
              "width": 0.5
             }
            },
            "type": "bar"
           }
          ],
          "barpolar": [
           {
            "marker": {
             "line": {
              "color": "#E5ECF6",
              "width": 0.5
             }
            },
            "type": "barpolar"
           }
          ],
          "carpet": [
           {
            "aaxis": {
             "endlinecolor": "#2a3f5f",
             "gridcolor": "white",
             "linecolor": "white",
             "minorgridcolor": "white",
             "startlinecolor": "#2a3f5f"
            },
            "baxis": {
             "endlinecolor": "#2a3f5f",
             "gridcolor": "white",
             "linecolor": "white",
             "minorgridcolor": "white",
             "startlinecolor": "#2a3f5f"
            },
            "type": "carpet"
           }
          ],
          "choropleth": [
           {
            "colorbar": {
             "outlinewidth": 0,
             "ticks": ""
            },
            "type": "choropleth"
           }
          ],
          "contour": [
           {
            "colorbar": {
             "outlinewidth": 0,
             "ticks": ""
            },
            "colorscale": [
             [
              0,
              "#0d0887"
             ],
             [
              0.1111111111111111,
              "#46039f"
             ],
             [
              0.2222222222222222,
              "#7201a8"
             ],
             [
              0.3333333333333333,
              "#9c179e"
             ],
             [
              0.4444444444444444,
              "#bd3786"
             ],
             [
              0.5555555555555556,
              "#d8576b"
             ],
             [
              0.6666666666666666,
              "#ed7953"
             ],
             [
              0.7777777777777778,
              "#fb9f3a"
             ],
             [
              0.8888888888888888,
              "#fdca26"
             ],
             [
              1,
              "#f0f921"
             ]
            ],
            "type": "contour"
           }
          ],
          "contourcarpet": [
           {
            "colorbar": {
             "outlinewidth": 0,
             "ticks": ""
            },
            "type": "contourcarpet"
           }
          ],
          "heatmap": [
           {
            "colorbar": {
             "outlinewidth": 0,
             "ticks": ""
            },
            "colorscale": [
             [
              0,
              "#0d0887"
             ],
             [
              0.1111111111111111,
              "#46039f"
             ],
             [
              0.2222222222222222,
              "#7201a8"
             ],
             [
              0.3333333333333333,
              "#9c179e"
             ],
             [
              0.4444444444444444,
              "#bd3786"
             ],
             [
              0.5555555555555556,
              "#d8576b"
             ],
             [
              0.6666666666666666,
              "#ed7953"
             ],
             [
              0.7777777777777778,
              "#fb9f3a"
             ],
             [
              0.8888888888888888,
              "#fdca26"
             ],
             [
              1,
              "#f0f921"
             ]
            ],
            "type": "heatmap"
           }
          ],
          "heatmapgl": [
           {
            "colorbar": {
             "outlinewidth": 0,
             "ticks": ""
            },
            "colorscale": [
             [
              0,
              "#0d0887"
             ],
             [
              0.1111111111111111,
              "#46039f"
             ],
             [
              0.2222222222222222,
              "#7201a8"
             ],
             [
              0.3333333333333333,
              "#9c179e"
             ],
             [
              0.4444444444444444,
              "#bd3786"
             ],
             [
              0.5555555555555556,
              "#d8576b"
             ],
             [
              0.6666666666666666,
              "#ed7953"
             ],
             [
              0.7777777777777778,
              "#fb9f3a"
             ],
             [
              0.8888888888888888,
              "#fdca26"
             ],
             [
              1,
              "#f0f921"
             ]
            ],
            "type": "heatmapgl"
           }
          ],
          "histogram": [
           {
            "marker": {
             "colorbar": {
              "outlinewidth": 0,
              "ticks": ""
             }
            },
            "type": "histogram"
           }
          ],
          "histogram2d": [
           {
            "colorbar": {
             "outlinewidth": 0,
             "ticks": ""
            },
            "colorscale": [
             [
              0,
              "#0d0887"
             ],
             [
              0.1111111111111111,
              "#46039f"
             ],
             [
              0.2222222222222222,
              "#7201a8"
             ],
             [
              0.3333333333333333,
              "#9c179e"
             ],
             [
              0.4444444444444444,
              "#bd3786"
             ],
             [
              0.5555555555555556,
              "#d8576b"
             ],
             [
              0.6666666666666666,
              "#ed7953"
             ],
             [
              0.7777777777777778,
              "#fb9f3a"
             ],
             [
              0.8888888888888888,
              "#fdca26"
             ],
             [
              1,
              "#f0f921"
             ]
            ],
            "type": "histogram2d"
           }
          ],
          "histogram2dcontour": [
           {
            "colorbar": {
             "outlinewidth": 0,
             "ticks": ""
            },
            "colorscale": [
             [
              0,
              "#0d0887"
             ],
             [
              0.1111111111111111,
              "#46039f"
             ],
             [
              0.2222222222222222,
              "#7201a8"
             ],
             [
              0.3333333333333333,
              "#9c179e"
             ],
             [
              0.4444444444444444,
              "#bd3786"
             ],
             [
              0.5555555555555556,
              "#d8576b"
             ],
             [
              0.6666666666666666,
              "#ed7953"
             ],
             [
              0.7777777777777778,
              "#fb9f3a"
             ],
             [
              0.8888888888888888,
              "#fdca26"
             ],
             [
              1,
              "#f0f921"
             ]
            ],
            "type": "histogram2dcontour"
           }
          ],
          "mesh3d": [
           {
            "colorbar": {
             "outlinewidth": 0,
             "ticks": ""
            },
            "type": "mesh3d"
           }
          ],
          "parcoords": [
           {
            "line": {
             "colorbar": {
              "outlinewidth": 0,
              "ticks": ""
             }
            },
            "type": "parcoords"
           }
          ],
          "pie": [
           {
            "automargin": true,
            "type": "pie"
           }
          ],
          "scatter": [
           {
            "marker": {
             "colorbar": {
              "outlinewidth": 0,
              "ticks": ""
             }
            },
            "type": "scatter"
           }
          ],
          "scatter3d": [
           {
            "line": {
             "colorbar": {
              "outlinewidth": 0,
              "ticks": ""
             }
            },
            "marker": {
             "colorbar": {
              "outlinewidth": 0,
              "ticks": ""
             }
            },
            "type": "scatter3d"
           }
          ],
          "scattercarpet": [
           {
            "marker": {
             "colorbar": {
              "outlinewidth": 0,
              "ticks": ""
             }
            },
            "type": "scattercarpet"
           }
          ],
          "scattergeo": [
           {
            "marker": {
             "colorbar": {
              "outlinewidth": 0,
              "ticks": ""
             }
            },
            "type": "scattergeo"
           }
          ],
          "scattergl": [
           {
            "marker": {
             "colorbar": {
              "outlinewidth": 0,
              "ticks": ""
             }
            },
            "type": "scattergl"
           }
          ],
          "scattermapbox": [
           {
            "marker": {
             "colorbar": {
              "outlinewidth": 0,
              "ticks": ""
             }
            },
            "type": "scattermapbox"
           }
          ],
          "scatterpolar": [
           {
            "marker": {
             "colorbar": {
              "outlinewidth": 0,
              "ticks": ""
             }
            },
            "type": "scatterpolar"
           }
          ],
          "scatterpolargl": [
           {
            "marker": {
             "colorbar": {
              "outlinewidth": 0,
              "ticks": ""
             }
            },
            "type": "scatterpolargl"
           }
          ],
          "scatterternary": [
           {
            "marker": {
             "colorbar": {
              "outlinewidth": 0,
              "ticks": ""
             }
            },
            "type": "scatterternary"
           }
          ],
          "surface": [
           {
            "colorbar": {
             "outlinewidth": 0,
             "ticks": ""
            },
            "colorscale": [
             [
              0,
              "#0d0887"
             ],
             [
              0.1111111111111111,
              "#46039f"
             ],
             [
              0.2222222222222222,
              "#7201a8"
             ],
             [
              0.3333333333333333,
              "#9c179e"
             ],
             [
              0.4444444444444444,
              "#bd3786"
             ],
             [
              0.5555555555555556,
              "#d8576b"
             ],
             [
              0.6666666666666666,
              "#ed7953"
             ],
             [
              0.7777777777777778,
              "#fb9f3a"
             ],
             [
              0.8888888888888888,
              "#fdca26"
             ],
             [
              1,
              "#f0f921"
             ]
            ],
            "type": "surface"
           }
          ],
          "table": [
           {
            "cells": {
             "fill": {
              "color": "#EBF0F8"
             },
             "line": {
              "color": "white"
             }
            },
            "header": {
             "fill": {
              "color": "#C8D4E3"
             },
             "line": {
              "color": "white"
             }
            },
            "type": "table"
           }
          ]
         },
         "layout": {
          "annotationdefaults": {
           "arrowcolor": "#2a3f5f",
           "arrowhead": 0,
           "arrowwidth": 1
          },
          "autotypenumbers": "strict",
          "coloraxis": {
           "colorbar": {
            "outlinewidth": 0,
            "ticks": ""
           }
          },
          "colorscale": {
           "diverging": [
            [
             0,
             "#8e0152"
            ],
            [
             0.1,
             "#c51b7d"
            ],
            [
             0.2,
             "#de77ae"
            ],
            [
             0.3,
             "#f1b6da"
            ],
            [
             0.4,
             "#fde0ef"
            ],
            [
             0.5,
             "#f7f7f7"
            ],
            [
             0.6,
             "#e6f5d0"
            ],
            [
             0.7,
             "#b8e186"
            ],
            [
             0.8,
             "#7fbc41"
            ],
            [
             0.9,
             "#4d9221"
            ],
            [
             1,
             "#276419"
            ]
           ],
           "sequential": [
            [
             0,
             "#0d0887"
            ],
            [
             0.1111111111111111,
             "#46039f"
            ],
            [
             0.2222222222222222,
             "#7201a8"
            ],
            [
             0.3333333333333333,
             "#9c179e"
            ],
            [
             0.4444444444444444,
             "#bd3786"
            ],
            [
             0.5555555555555556,
             "#d8576b"
            ],
            [
             0.6666666666666666,
             "#ed7953"
            ],
            [
             0.7777777777777778,
             "#fb9f3a"
            ],
            [
             0.8888888888888888,
             "#fdca26"
            ],
            [
             1,
             "#f0f921"
            ]
           ],
           "sequentialminus": [
            [
             0,
             "#0d0887"
            ],
            [
             0.1111111111111111,
             "#46039f"
            ],
            [
             0.2222222222222222,
             "#7201a8"
            ],
            [
             0.3333333333333333,
             "#9c179e"
            ],
            [
             0.4444444444444444,
             "#bd3786"
            ],
            [
             0.5555555555555556,
             "#d8576b"
            ],
            [
             0.6666666666666666,
             "#ed7953"
            ],
            [
             0.7777777777777778,
             "#fb9f3a"
            ],
            [
             0.8888888888888888,
             "#fdca26"
            ],
            [
             1,
             "#f0f921"
            ]
           ]
          },
          "colorway": [
           "#636efa",
           "#EF553B",
           "#00cc96",
           "#ab63fa",
           "#FFA15A",
           "#19d3f3",
           "#FF6692",
           "#B6E880",
           "#FF97FF",
           "#FECB52"
          ],
          "font": {
           "color": "#2a3f5f"
          },
          "geo": {
           "bgcolor": "white",
           "lakecolor": "white",
           "landcolor": "#E5ECF6",
           "showlakes": true,
           "showland": true,
           "subunitcolor": "white"
          },
          "hoverlabel": {
           "align": "left"
          },
          "hovermode": "closest",
          "mapbox": {
           "style": "light"
          },
          "paper_bgcolor": "white",
          "plot_bgcolor": "#E5ECF6",
          "polar": {
           "angularaxis": {
            "gridcolor": "white",
            "linecolor": "white",
            "ticks": ""
           },
           "bgcolor": "#E5ECF6",
           "radialaxis": {
            "gridcolor": "white",
            "linecolor": "white",
            "ticks": ""
           }
          },
          "scene": {
           "xaxis": {
            "backgroundcolor": "#E5ECF6",
            "gridcolor": "white",
            "gridwidth": 2,
            "linecolor": "white",
            "showbackground": true,
            "ticks": "",
            "zerolinecolor": "white"
           },
           "yaxis": {
            "backgroundcolor": "#E5ECF6",
            "gridcolor": "white",
            "gridwidth": 2,
            "linecolor": "white",
            "showbackground": true,
            "ticks": "",
            "zerolinecolor": "white"
           },
           "zaxis": {
            "backgroundcolor": "#E5ECF6",
            "gridcolor": "white",
            "gridwidth": 2,
            "linecolor": "white",
            "showbackground": true,
            "ticks": "",
            "zerolinecolor": "white"
           }
          },
          "shapedefaults": {
           "line": {
            "color": "#2a3f5f"
           }
          },
          "ternary": {
           "aaxis": {
            "gridcolor": "white",
            "linecolor": "white",
            "ticks": ""
           },
           "baxis": {
            "gridcolor": "white",
            "linecolor": "white",
            "ticks": ""
           },
           "bgcolor": "#E5ECF6",
           "caxis": {
            "gridcolor": "white",
            "linecolor": "white",
            "ticks": ""
           }
          },
          "title": {
           "x": 0.05
          },
          "xaxis": {
           "automargin": true,
           "gridcolor": "white",
           "linecolor": "white",
           "ticks": "",
           "title": {
            "standoff": 15
           },
           "zerolinecolor": "white",
           "zerolinewidth": 2
          },
          "yaxis": {
           "automargin": true,
           "gridcolor": "white",
           "linecolor": "white",
           "ticks": "",
           "title": {
            "standoff": 15
           },
           "zerolinecolor": "white",
           "zerolinewidth": 2
          }
         }
        },
        "title": {
         "text": "Clasificación de datos de testeo - 1 error/es de 36 datos"
        }
       }
      }
     },
     "metadata": {},
     "output_type": "display_data"
    }
   ],
   "source": [
    "n = 3\n",
    "k = 4\n",
    "\n",
    "autovalores, W_pca = calcular_pca(X_train, n)\n",
    "X_train_pca = proyectar_datos(X_train, W_pca)\n",
    "X_test_pca, y_pred = ejecutar_modelo(X_test, X_train_pca, y_train, W_pca, X_mean, X_std, n, k)\n",
    "\n",
    "graficar_clasificacion3D(X_train_pca, X_test_pca, y_train, y_test, y_pred)"
   ]
  },
  {
   "cell_type": "markdown",
   "metadata": {},
   "source": [
    "### $(c)$ Matriz de Confusión\n",
    "\n",
    "En esta sección analizaremos los mejores 4 modelos entre los promedios analizados anteriormente:\n",
    "\n",
    "* 1 componente principal y 10 vecinos\n",
    "* 2 componentes principales y 17 vecinos\n",
    "* 3 componentes principales y 4 vecinos\n",
    "* 4 componentes principales y 15 vecinos"
   ]
  },
  {
   "cell_type": "code",
   "execution_count": 57,
   "metadata": {},
   "outputs": [],
   "source": [
    "params = [(1, 10),\n",
    "          (2, 17),\n",
    "          (3, 4),\n",
    "          (4, 15)] "
   ]
  },
  {
   "cell_type": "code",
   "execution_count": 58,
   "metadata": {},
   "outputs": [],
   "source": [
    "def matriz_confusion(y_real, y_pred):\n",
    "    \"\"\"\n",
    "    Calcula una matriz de confusión a partir de una lista de etiquetas reales y una lista de etiquetas predichas.\n",
    "\n",
    "    Parameters:\n",
    "    - y_real (list): Lista de etiquetas reales, valores entre 1 y 3.\n",
    "    - y_pred (list): Lista de etiquetas predichas, valores entre 1 y 3.\n",
    "\n",
    "    Returns:\n",
    "    - np.ndarray: Matriz de confusión, donde las filas representan las etiquetas reales y las columnas representan las etiquetas predichas.\n",
    "    \"\"\"\n",
    "    # Inicializa la matriz de confusión\n",
    "    conf_mat = np.zeros((3, 3))\n",
    "\n",
    "    # Rellena la matriz de confusión\n",
    "    for i in range(len(y_real)):\n",
    "        conf_mat[y_real[i] - 1, y_pred[i] - 1] += 1\n",
    "\n",
    "    return conf_mat\n"
   ]
  },
  {
   "cell_type": "code",
   "execution_count": 59,
   "metadata": {},
   "outputs": [],
   "source": [
    "def obtener_errores(X, y, params, iteraciones=200):\n",
    "    \"\"\"\n",
    "    Dada una matriz de datos X, un vector de etiquetas y, una lista de tuplas de parámetros (n, k),\n",
    "    y un número de iteraciones, devuelve una lista de matrices de confusión promedio para cada par de parámetros.\n",
    "\n",
    "    Parameters:\n",
    "    - X (numpy.ndarray): Matriz de datos.\n",
    "    - y (numpy.ndarray): Vector de etiquetas.\n",
    "    - params (list): Lista de tuplas (n, k) representando los parámetros para la PCA y KNN.\n",
    "    - iteraciones (int): Número de iteraciones para promediar las matrices de confusión.\n",
    "\n",
    "    Returns:\n",
    "    - list: Lista de matrices de confusión promedio para cada par de parámetros.\n",
    "    \"\"\"\n",
    "    matrices_de_confusion = []\n",
    "    \n",
    "    # Recorro la lista de parámetros (n, k)\n",
    "    for n, k in tqdm(params):\n",
    "        sum_matrices = np.zeros((3, 3))\n",
    "        \n",
    "        # Realizo iteraciones para promediar matrices de confusión con distintos conjuntos de\n",
    "        # entrenamiento y testeo\n",
    "        for i in range(iteraciones):\n",
    "            X_train, y_train, X_test, y_test = dividir_dataset(X, y)\n",
    "            X_train, X_mean, X_std = normalizar_datos(X_train)\n",
    "            _, W_pca = calcular_pca(X_train, n)\n",
    "            X_train_pca = proyectar_datos(X_train, W_pca)\n",
    "            \n",
    "            # Ejecuto el modelo para obtener predicciones\n",
    "            _, y_pred = ejecutar_modelo(X_test, X_train_pca, y_train, W_pca, X_mean, X_std, n, k)\n",
    "            \n",
    "            # Acumulo matriz de confusión de este modelo con n, k particular\n",
    "            sum_matrices += matriz_confusion(y_test, y_pred)\n",
    "        \n",
    "        # Guardo el promedio de matrices de confusión para este modelo con n, k particular\n",
    "        matrices_de_confusion.append(sum_matrices/iteraciones)\n",
    "            \n",
    "    return matrices_de_confusion\n"
   ]
  },
  {
   "cell_type": "code",
   "execution_count": 60,
   "metadata": {},
   "outputs": [
    {
     "name": "stderr",
     "output_type": "stream",
     "text": [
      "100%|██████████| 4/4 [00:05<00:00,  1.43s/it]\n"
     ]
    }
   ],
   "source": [
    "# Calculo matrices de confusión para los modelos previamente mencionados\n",
    "matrices_de_confusion = obtener_errores(X, y, params)"
   ]
  },
  {
   "cell_type": "code",
   "execution_count": 61,
   "metadata": {},
   "outputs": [],
   "source": [
    "def graficar_matrices_de_confusion(params, matrices_de_confusion):\n",
    "    \"\"\"\n",
    "    Grafica las matrices de confusión para diferentes configuraciones de n y k.\n",
    "\n",
    "    Parameters:\n",
    "    - params (list): Lista de tuplas (n, k) que representan las configuraciones de n y k.\n",
    "    - matrices_de_confusion (list): Lista de matrices de confusión correspondientes a cada configuración.\n",
    "\n",
    "    Returns:\n",
    "    None\n",
    "    \"\"\"\n",
    "\n",
    "    for (n, k), mat_de_conf in zip(params, matrices_de_confusion):\n",
    "        # Crea una figura y ejes\n",
    "        fig, ax = plt.subplots(figsize=(5, 5))\n",
    "\n",
    "        # Muestra la matriz de confusión en una gráfica de colores (heatmap)\n",
    "        cax = ax.matshow(mat_de_conf, cmap='Reds', vmin=0, vmax=estadisticas.max())\n",
    "\n",
    "        # Agrega los valores de la matriz en cada celda\n",
    "        for i in range(mat_de_conf.shape[0]):\n",
    "            for j in range(mat_de_conf.shape[1]):\n",
    "                ax.text(j, i, f'{mat_de_conf[i, j].round(2)}', va='center', ha='center',\n",
    "                        color=colorear_error(mat_de_conf[i, j]),\n",
    "                        fontweight='bold' if mat_de_conf[i, j] == 0 else 'normal')\n",
    "\n",
    "        # Configura los ticks del eje x\n",
    "        ax.tick_params(axis='x', bottom=True, top=False, labelbottom=True, labeltop=False)\n",
    "\n",
    "        # Configura las etiquetas de los ticks en el eje x e y\n",
    "        ax.set_xticks(range(mat_de_conf.shape[1]))\n",
    "        ax.set_yticks(range(mat_de_conf.shape[0]))\n",
    "        ax.set_xticklabels(range(1, 4))\n",
    "        ax.set_yticklabels(range(1, 4))\n",
    "\n",
    "        # Muestra los ticks en la parte superior del eje x\n",
    "        ax.tick_params(axis='x', bottom=True, top=True, labelbottom=True, labeltop=True)\n",
    "\n",
    "        # Configura el título y las etiquetas de los ejes\n",
    "        plt.title(f'Modelo {n}\\nMatriz de confusión para n={n} y k={k}', pad=30, fontsize=12, fontweight='bold', color='gray', loc='left')\n",
    "        plt.xlabel('Clases Predichas')\n",
    "        plt.ylabel('Clases Reales')\n",
    "        plt.show()\n"
   ]
  },
  {
   "cell_type": "code",
   "execution_count": 62,
   "metadata": {},
   "outputs": [
    {
     "data": {
      "image/png": "[encoded data removed]",
      "text/plain": [
       "<Figure size 360x360 with 1 Axes>"
      ]
     },
     "metadata": {
      "needs_background": "light"
     },
     "output_type": "display_data"
    },
    {
     "data": {
      "image/png": "[encoded data removed]",
      "text/plain": [
       "<Figure size 360x360 with 1 Axes>"
      ]
     },
     "metadata": {
      "needs_background": "light"
     },
     "output_type": "display_data"
    },
    {
     "data": {
      "image/png": "[encoded data removed]",
      "text/plain": [
       "<Figure size 360x360 with 1 Axes>"
      ]
     },
     "metadata": {
      "needs_background": "light"
     },
     "output_type": "display_data"
    },
    {
     "data": {
      "image/png": "[encoded data removed]",
      "text/plain": [
       "<Figure size 360x360 with 1 Axes>"
      ]
     },
     "metadata": {
      "needs_background": "light"
     },
     "output_type": "display_data"
    }
   ],
   "source": [
    "graficar_matrices_de_confusion(params, matrices_de_confusion)"
   ]
  },
  {
   "cell_type": "markdown",
   "metadata": {},
   "source": [
    "#### Modelo 1:\n",
    "\n",
    "En la matriz de confusión para el modelo de 1 componente principal y 10 vecinos, la mayor proporción de errores se da cuando la clase real es 1 y el modelo la confunde con la clase 2, y el segundo error más común es cuando la clase real es 2 y el modelo predice 1.\n",
    "\n",
    "Comparando estos valores con el gráfico de 1 componente principal (1 dimensión) podemos ver que varios puntos de las clases 1 y 2 se superponen sobre los conjuntos de sus respectivas clases, haciendo imposible para el algoritmo KNN poder separar estos conjuntos de datos sin errores.\n",
    "\n",
    "Con las clases 2 y 3 pasa algo parecido pero en menor medida.\n",
    "\n",
    "Con las clases 1 y 3 ocurre el caso que podría considerarse más interesante para este modelo: El error es siempre cero, pues viendo el gráfico de 1 dimensión se observa que estas 2 clases están perfectamente separadas en conjuntos disjuntos (aunque entre ellas hay puntos de la clase 2).\n",
    "\n",
    "#### Modelo 2:\n",
    "\n",
    "Para dos componentes principales, los puntos esparcidos en el plano son más facilmente separables por KNN, por lo que se reduce drásticamente la cantidad de errores. De todas formas, el error más común sigue siendo que el modelo prediga 1 cuando debería ser 2, y el segundo error más común es cuando el modelo predice 2 cuando debería ser 1.\n",
    "\n",
    "Si en una dimensión las clases 1 y 3 eran perfectamente separables, en 2 dimensiones lo seguirán siendo, por lo que ese error sigue siendo cero.\n",
    "\n",
    "#### Modelo 3:\n",
    "\n",
    "Con 3 componentes principales la performance no mejora, sino que en algunos casos hasta empeora. Dada la naturaleza estocástica del análisis, es dificil concluir algo certero con diferencias decimales tan pequeñas entre las matrices de confusión, pero algo que podría tenerse en cuenta es que el modelo sigue confundiendo la clase real 2 con la clase 1 a pesar de haber agregado una nueva dimensión, y hasta con mayor error que antes, por lo que es posible que los datos contengan un error de etiqueta, y en verdad la clase real es la que predice el modelo, y no la que establecen los datos.\n",
    "\n",
    "En este caso se podría consultar a la empresa de vinos para que, mediante su expertise en el tema, puedan confirmar si el error del modelo es justificado, o es un error que no debería ocurrir.\n",
    "\n",
    "#### Modelo 4:\n",
    "\n",
    "Las mejoras en los resultados son muy pequeñas, y hasta en algunos casos, peores que en modelos anterios. Agregar una cuarta dimensión no parece aportar ningún tipo de información relevante para la clasificación de los vinos mediante KNN (aunque tal vez sí lo hace usando algún otro modelo de clasificación)."
   ]
  },
  {
   "cell_type": "markdown",
   "metadata": {},
   "source": [
    "# Conclusión\n",
    "\n"
   ]
  },
  {
   "cell_type": "markdown",
   "metadata": {},
   "source": [
    "\n",
    "En este trabajo pudieron implementarse las ideas detrás de PCA que permiten aprovechar la reducción de dimensionalidad de un conjunto de datos para su posterior clasificación.\n",
    "Utilizando una única componente principal podemos esperar un error promedio del 16% con unos 10 vecinos, lo cual es un resultado muy bueno considerando que el conjunto de datos tiene 3 clases, con lo que un modelo aleatorio tendría un error promedio del 66%, y partiendo de que los datos originales tenían 13 características.\n",
    "\n",
    "Se pudo observar que el error de clasificación disminuye bastante agregando una segunda componente alcanzando un 4% de error, pero las mejoras son menores al agregar una tercera componente, y son nulas al agregar una cuarta.\n",
    "\n",
    "Por lo tanto se concluye que para este dataset y dados los requerimientos del comercio, la opción óptima es usar 2 componentes principales y entre 17 y 25 vecinos cercanos.\n",
    "\n",
    "Asumimos que la cantidad de vecinos **no** influye en el tiempo de ejecución del algoritmo, ya que considerar más o menos vecinos es despreciable con respecto al tiempo que toma ordenar los puntos por distancia, **usando nuestra implementación**.\n",
    "\n",
    "Es posible que exista una forma más eficiente de implementar KNN donde la cantidad de vecinos a considerar requiera menor tiempo de ejecución cuanto menor sea la cantidad de vecinos a considerar, por lo que en ese caso habría que tener en cuenta el modelo con 3 componentes principales, ya que a pesar de tener una columna más en la matriz de proyección $W$, la cantidad de vecinos necesarios para alcanzar la misma performance que con 2 componentes es 4, mientras que con solo 2 componentes principales la cantidad de vecinos está entre 17 y 25.\n",
    "\n"
   ]
  }
 ],
 "metadata": {
  "kernelspec": {
   "display_name": "base",
   "language": "python",
   "name": "python3"
  },
  "language_info": {
   "codemirror_mode": {
    "name": "ipython",
    "version": 3
   },
   "file_extension": ".py",
   "mimetype": "text/x-python",
   "name": "python",
   "nbconvert_exporter": "python",
   "pygments_lexer": "ipython3",
   "version": "3.8.3"
  }
 },
 "nbformat": 4,
 "nbformat_minor": 2
}
